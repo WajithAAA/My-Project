{
  "cells": [
    {
      "cell_type": "markdown",
      "metadata": {
        "id": "view-in-github",
        "colab_type": "text"
      },
      "source": [
        "<a href=\"https://colab.research.google.com/github/WajithAAA/My-Project/blob/master/bert_risk_classifier_TPU_aggressive.ipynb\" target=\"_parent\"><img src=\"https://colab.research.google.com/assets/colab-badge.svg\" alt=\"Open In Colab\"/></a>"
      ]
    },
    {
      "cell_type": "markdown",
      "metadata": {
        "id": "q2YtKnkIQyYx"
      },
      "source": [
        "### Import Libraries"
      ]
    },
    {
      "cell_type": "code",
      "execution_count": null,
      "metadata": {
        "colab": {
          "base_uri": "https://localhost:8080/"
        },
        "id": "EAguTYSizTdn",
        "outputId": "9e1abbb1-78f4-40fb-9cfa-328131e8161c"
      },
      "outputs": [
        {
          "output_type": "stream",
          "name": "stdout",
          "text": [
            "Looking in indexes: https://pypi.org/simple, https://us-python.pkg.dev/colab-wheels/public/simple/\n",
            "Requirement already satisfied: transformers in /usr/local/lib/python3.7/dist-packages (4.21.3)\n",
            "Requirement already satisfied: numpy>=1.17 in /usr/local/lib/python3.7/dist-packages (from transformers) (1.21.6)\n",
            "Requirement already satisfied: packaging>=20.0 in /usr/local/lib/python3.7/dist-packages (from transformers) (21.3)\n",
            "Requirement already satisfied: huggingface-hub<1.0,>=0.1.0 in /usr/local/lib/python3.7/dist-packages (from transformers) (0.9.1)\n",
            "Requirement already satisfied: tqdm>=4.27 in /usr/local/lib/python3.7/dist-packages (from transformers) (4.64.0)\n",
            "Requirement already satisfied: filelock in /usr/local/lib/python3.7/dist-packages (from transformers) (3.8.0)\n",
            "Requirement already satisfied: regex!=2019.12.17 in /usr/local/lib/python3.7/dist-packages (from transformers) (2022.6.2)\n",
            "Requirement already satisfied: importlib-metadata in /usr/local/lib/python3.7/dist-packages (from transformers) (4.12.0)\n",
            "Requirement already satisfied: pyyaml>=5.1 in /usr/local/lib/python3.7/dist-packages (from transformers) (6.0)\n",
            "Requirement already satisfied: requests in /usr/local/lib/python3.7/dist-packages (from transformers) (2.23.0)\n",
            "Requirement already satisfied: tokenizers!=0.11.3,<0.13,>=0.11.1 in /usr/local/lib/python3.7/dist-packages (from transformers) (0.12.1)\n",
            "Requirement already satisfied: typing-extensions>=3.7.4.3 in /usr/local/lib/python3.7/dist-packages (from huggingface-hub<1.0,>=0.1.0->transformers) (4.1.1)\n",
            "Requirement already satisfied: pyparsing!=3.0.5,>=2.0.2 in /usr/local/lib/python3.7/dist-packages (from packaging>=20.0->transformers) (3.0.9)\n",
            "Requirement already satisfied: zipp>=0.5 in /usr/local/lib/python3.7/dist-packages (from importlib-metadata->transformers) (3.8.1)\n",
            "Requirement already satisfied: urllib3!=1.25.0,!=1.25.1,<1.26,>=1.21.1 in /usr/local/lib/python3.7/dist-packages (from requests->transformers) (1.24.3)\n",
            "Requirement already satisfied: idna<3,>=2.5 in /usr/local/lib/python3.7/dist-packages (from requests->transformers) (2.10)\n",
            "Requirement already satisfied: certifi>=2017.4.17 in /usr/local/lib/python3.7/dist-packages (from requests->transformers) (2022.6.15)\n",
            "Requirement already satisfied: chardet<4,>=3.0.2 in /usr/local/lib/python3.7/dist-packages (from requests->transformers) (3.0.4)\n"
          ]
        }
      ],
      "source": [
        "!pip install transformers"
      ]
    },
    {
      "cell_type": "code",
      "execution_count": null,
      "metadata": {
        "id": "SJCQnB__QyY1"
      },
      "outputs": [],
      "source": [
        "import tensorflow as tf\n",
        "import logging\n",
        "from tensorflow.keras.layers import (\n",
        "    Dense,\n",
        "    Flatten,\n",
        "    Conv1D,\n",
        "    Dropout,\n",
        "    Input,\n",
        ")\n",
        "from tensorflow.keras.models import Sequential\n",
        "from tensorflow.keras.optimizers import Adam\n",
        "from tensorflow.keras import Model\n",
        "from tensorflow.keras import regularizers\n",
        "from transformers import BertTokenizer, TFBertModel\n",
        "import os\n",
        "import pandas as pd\n",
        "import numpy as np\n",
        "from sklearn.model_selection import train_test_split\n",
        "from tqdm import tqdm\n",
        "tqdm.pandas()\n",
        "import re\n",
        "import random"
      ]
    },
    {
      "cell_type": "markdown",
      "metadata": {
        "id": "SebT6v0lQyY5"
      },
      "source": [
        "### Setting up TPU"
      ]
    },
    {
      "cell_type": "code",
      "execution_count": null,
      "metadata": {
        "colab": {
          "base_uri": "https://localhost:8080/"
        },
        "id": "sT0tXzUsQyY5",
        "outputId": "cd2123ec-850d-4d24-88be-a75b284a1a34"
      },
      "outputs": [
        {
          "output_type": "stream",
          "name": "stdout",
          "text": [
            "Number of replicas: 1\n"
          ]
        }
      ],
      "source": [
        "try:\n",
        "    tpu = tf.distribute.cluster_resolver.TPUClusterResolver()\n",
        "    tf.config.experimental_connect_to_cluster(tpu)\n",
        "    tf.tpu.experimental.initialize_tpu_system(tpu)\n",
        "    strategy = tf.distribute.experimental.TPUStrategy(tpu)\n",
        "except ValueError:\n",
        "    strategy = tf.distribute.get_strategy() # for CPU and single GPU\n",
        "    print('Number of replicas:', strategy.num_replicas_in_sync)"
      ]
    },
    {
      "cell_type": "code",
      "execution_count": null,
      "metadata": {
        "id": "pPzNzkICQyY6"
      },
      "outputs": [],
      "source": [
        "max_length = 512\n",
        "batch_size = 16\n",
        "dev_size = 0.1\n",
        "num_class = 2"
      ]
    },
    {
      "cell_type": "code",
      "execution_count": null,
      "metadata": {
        "id": "jK2WCgOUQyY7"
      },
      "outputs": [],
      "source": [
        "model_name = \"bert-base-multilingual-cased\"\n",
        "tokenizer = BertTokenizer.from_pretrained(model_name)"
      ]
    },
    {
      "cell_type": "code",
      "execution_count": null,
      "metadata": {
        "colab": {
          "base_uri": "https://localhost:8080/"
        },
        "id": "0QKxUQQFRBdC",
        "outputId": "85fc1b0e-e43d-4403-8ad5-3987486ca240"
      },
      "outputs": [
        {
          "output_type": "stream",
          "name": "stdout",
          "text": [
            "Drive already mounted at /content/drive; to attempt to forcibly remount, call drive.mount(\"/content/drive\", force_remount=True).\n"
          ]
        }
      ],
      "source": [
        "from google.colab import drive\n",
        "drive.mount('/content/drive')"
      ]
    },
    {
      "cell_type": "code",
      "source": [
        "train_df = pd.read_csv('/content/drive/MyDrive/Dataset/final_data/final_aggressive_train_data.csv')\n",
        "train_df.label.value_counts()"
      ],
      "metadata": {
        "colab": {
          "base_uri": "https://localhost:8080/"
        },
        "id": "HYap70ugwvig",
        "outputId": "963bff16-75f0-40d3-d0a1-0a149b5c79ba"
      },
      "execution_count": null,
      "outputs": [
        {
          "output_type": "execute_result",
          "data": {
            "text/plain": [
              "1    102360\n",
              "0     95970\n",
              "Name: label, dtype: int64"
            ]
          },
          "metadata": {},
          "execution_count": 8
        }
      ]
    },
    {
      "cell_type": "code",
      "source": [
        "drug_df_0 = train_df[train_df['label'] ==0]\n",
        "drug_df_1 = train_df[train_df['label'] ==1]\n",
        "drug_df_0_sample=drug_df_1.sample(n=drug_df_0[drug_df_0['label'] ==0].shape[0])\n",
        "train_df = pd.concat([drug_df_0_sample,drug_df_0])\n"
      ],
      "metadata": {
        "id": "C0vQxjbOw4Q1"
      },
      "execution_count": null,
      "outputs": []
    },
    {
      "cell_type": "code",
      "source": [
        "train_df.label.value_counts()"
      ],
      "metadata": {
        "colab": {
          "base_uri": "https://localhost:8080/"
        },
        "id": "eP3tIvBDxdnw",
        "outputId": "25c9ef87-9160-427f-d087-90294a07e85e"
      },
      "execution_count": null,
      "outputs": [
        {
          "output_type": "execute_result",
          "data": {
            "text/plain": [
              "1    95970\n",
              "0    95970\n",
              "Name: label, dtype: int64"
            ]
          },
          "metadata": {},
          "execution_count": 10
        }
      ]
    },
    {
      "cell_type": "code",
      "source": [
        "train_df = train_df.sample(frac=0.8).reset_index(drop=True)"
      ],
      "metadata": {
        "id": "irdK--3tx1Ih"
      },
      "execution_count": null,
      "outputs": []
    },
    {
      "cell_type": "code",
      "source": [
        "train_df.label.value_counts()"
      ],
      "metadata": {
        "colab": {
          "base_uri": "https://localhost:8080/"
        },
        "id": "7INjDr2gx59o",
        "outputId": "a76439ac-6931-4266-db04-333f1593f152"
      },
      "execution_count": null,
      "outputs": [
        {
          "output_type": "execute_result",
          "data": {
            "text/plain": [
              "0    76789\n",
              "1    76763\n",
              "Name: label, dtype: int64"
            ]
          },
          "metadata": {},
          "execution_count": 12
        }
      ]
    },
    {
      "cell_type": "code",
      "execution_count": null,
      "metadata": {
        "id": "ce2zy-NgQyY7"
      },
      "outputs": [],
      "source": [
        "\n",
        "train_df.TweetText = train_df.TweetText.astype(str)\n",
        "train_df.drop_duplicates(inplace=True)\n",
        "train, dev = train_test_split(train_df, test_size=dev_size, random_state=42)"
      ]
    },
    {
      "cell_type": "code",
      "source": [
        "train_df.shape"
      ],
      "metadata": {
        "colab": {
          "base_uri": "https://localhost:8080/"
        },
        "id": "j4pMq7bGt_GC",
        "outputId": "a710d408-098e-4ee1-8112-aa2e7f6d78d8"
      },
      "execution_count": null,
      "outputs": [
        {
          "output_type": "execute_result",
          "data": {
            "text/plain": [
              "(141476, 2)"
            ]
          },
          "metadata": {},
          "execution_count": 14
        }
      ]
    },
    {
      "cell_type": "markdown",
      "metadata": {
        "id": "OK-VMKDrQyY-"
      },
      "source": [
        "### Loading data and processing it"
      ]
    },
    {
      "cell_type": "code",
      "source": [
        "import pickle\n",
        "with open('/content/drive/MyDrive/tokenizers/aggressive_behaviour_tokenizer.pickle', 'wb') as handle:\n",
        "    pickle.dump(tokenizer, handle, protocol=pickle.HIGHEST_PROTOCOL)"
      ],
      "metadata": {
        "id": "CHL8z2XpGnhw"
      },
      "execution_count": null,
      "outputs": []
    },
    {
      "cell_type": "code",
      "source": [
        "import pickle\n",
        "with open('/content/drive/MyDrive/tokenizers/aggressive_behaviour_tokenizer.pickle', 'rb') as handle:\n",
        "    tokenizer = pickle.load(handle)"
      ],
      "metadata": {
        "id": "T_djMztlr6VQ"
      },
      "execution_count": null,
      "outputs": []
    },
    {
      "cell_type": "code",
      "source": [
        "def bert_encode(data):\n",
        "    tokens = tokenizer.batch_encode_plus(\n",
        "        data, max_length=max_length, padding=\"max_length\", truncation=True\n",
        "    )\n",
        "    return tf.constant(tokens[\"input_ids\"])"
      ],
      "metadata": {
        "id": "jVvjovD1PVXQ"
      },
      "execution_count": null,
      "outputs": []
    },
    {
      "cell_type": "code",
      "execution_count": null,
      "metadata": {
        "id": "OsL0qIHdQyY_"
      },
      "outputs": [],
      "source": [
        "\n",
        "train_encoded = bert_encode(train.TweetText)\n",
        "dev_encoded = bert_encode(dev.TweetText)\n",
        "\n",
        "train_labels = tf.keras.utils.to_categorical(train.label.values, num_classes=num_class)\n",
        "dev_labels = tf.keras.utils.to_categorical(dev.label.values, num_classes=num_class)\n",
        "\n",
        "train_dataset = (\n",
        "    tf.data.Dataset.from_tensor_slices((train_encoded, train_labels))\n",
        "    .shuffle(100)\n",
        "    .batch(batch_size)\n",
        ").cache()\n",
        "\n",
        "dev_dataset = (\n",
        "    tf.data.Dataset.from_tensor_slices((dev_encoded, dev_labels))\n",
        "    .shuffle(100)\n",
        "    .batch(batch_size)\n",
        ").cache()"
      ]
    },
    {
      "cell_type": "markdown",
      "metadata": {
        "id": "4ChhyB8JQyZA"
      },
      "source": [
        "### Model"
      ]
    },
    {
      "cell_type": "code",
      "execution_count": null,
      "metadata": {
        "id": "aJo9VV4OQyZA"
      },
      "outputs": [],
      "source": [
        "def bert_tweets_model():\n",
        "    bert_encoder = TFBertModel.from_pretrained(model_name, output_attentions=True)\n",
        "    input_word_ids = Input(\n",
        "        shape=(max_length,), dtype=tf.int32, name=\"input_ids\"\n",
        "    )\n",
        "    last_hidden_states = bert_encoder(input_word_ids)[0]\n",
        "    clf_output = Flatten()(last_hidden_states)\n",
        "    net = Dense(512, activation=\"relu\")(clf_output)\n",
        "    net = Dropout(0.3)(net)\n",
        "    net = Dense(440, activation=\"relu\")(net)\n",
        "    net = Dropout(0.3)(net)\n",
        "    output = Dense(num_class, activation=\"softmax\")(net)\n",
        "    model = Model(inputs=input_word_ids, outputs=output)\n",
        "    return model"
      ]
    },
    {
      "cell_type": "markdown",
      "metadata": {
        "id": "PmR1QPVFQyZB"
      },
      "source": [
        "### Compiling Model"
      ]
    },
    {
      "cell_type": "code",
      "execution_count": null,
      "metadata": {
        "colab": {
          "base_uri": "https://localhost:8080/"
        },
        "id": "6DPE3QeNQyZB",
        "outputId": "d3c99494-7eb9-446f-d0ba-d779ebed873e"
      },
      "outputs": [
        {
          "output_type": "stream",
          "name": "stderr",
          "text": [
            "Some layers from the model checkpoint at bert-base-multilingual-cased were not used when initializing TFBertModel: ['nsp___cls', 'mlm___cls']\n",
            "- This IS expected if you are initializing TFBertModel from the checkpoint of a model trained on another task or with another architecture (e.g. initializing a BertForSequenceClassification model from a BertForPreTraining model).\n",
            "- This IS NOT expected if you are initializing TFBertModel from the checkpoint of a model that you expect to be exactly identical (initializing a BertForSequenceClassification model from a BertForSequenceClassification model).\n",
            "All the layers of TFBertModel were initialized from the model checkpoint at bert-base-multilingual-cased.\n",
            "If your task is similar to the task the model of the checkpoint was trained on, you can already use TFBertModel for predictions without further training.\n"
          ]
        },
        {
          "output_type": "stream",
          "name": "stdout",
          "text": [
            "Model: \"model\"\n",
            "_________________________________________________________________\n",
            " Layer (type)                Output Shape              Param #   \n",
            "=================================================================\n",
            " input_ids (InputLayer)      [(None, 512)]             0         \n",
            "                                                                 \n",
            " tf_bert_model (TFBertModel)  TFBaseModelOutputWithPoo  177853440\n",
            "                             lingAndCrossAttentions(l            \n",
            "                             ast_hidden_state=(None,             \n",
            "                             512, 768),                          \n",
            "                              pooler_output=(None, 76            \n",
            "                             8),                                 \n",
            "                              past_key_values=None, h            \n",
            "                             idden_states=None, atten            \n",
            "                             tions=((None, 12, None,             \n",
            "                             512),                               \n",
            "                              (None, 12, None, 512),             \n",
            "                              (None, 12, None, 512),             \n",
            "                              (None, 12, None, 512),             \n",
            "                              (None, 12, None, 512),             \n",
            "                              (None, 12, None, 512),             \n",
            "                              (None, 12, None, 512),             \n",
            "                              (None, 12, None, 512),             \n",
            "                              (None, 12, None, 512),             \n",
            "                              (None, 12, None, 512),             \n",
            "                              (None, 12, None, 512),             \n",
            "                              (None, 12, None, 512)),            \n",
            "                              cross_attentions=None)             \n",
            "                                                                 \n",
            " flatten (Flatten)           (None, 393216)            0         \n",
            "                                                                 \n",
            " dense (Dense)               (None, 512)               201327104 \n",
            "                                                                 \n",
            " dropout_37 (Dropout)        (None, 512)               0         \n",
            "                                                                 \n",
            " dense_1 (Dense)             (None, 440)               225720    \n",
            "                                                                 \n",
            " dropout_38 (Dropout)        (None, 440)               0         \n",
            "                                                                 \n",
            " dense_2 (Dense)             (None, 2)                 882       \n",
            "                                                                 \n",
            "=================================================================\n",
            "Total params: 379,407,146\n",
            "Trainable params: 379,407,146\n",
            "Non-trainable params: 0\n",
            "_________________________________________________________________\n"
          ]
        }
      ],
      "source": [
        "with strategy.scope():\n",
        "  model = bert_tweets_model()\n",
        "  adam_optimizer = Adam(learning_rate=1e-5)\n",
        "  model.compile(\n",
        "      loss=\"binary_crossentropy\", optimizer=adam_optimizer, metrics=[\"accuracy\"]\n",
        "  )\n",
        "  model.summary()"
      ]
    },
    {
      "cell_type": "markdown",
      "metadata": {
        "id": "1ypTAu9nQyZC"
      },
      "source": [
        "### Training Model"
      ]
    },
    {
      "cell_type": "code",
      "execution_count": null,
      "metadata": {
        "colab": {
          "base_uri": "https://localhost:8080/",
          "height": 244
        },
        "id": "79OH5FPRQyZC",
        "outputId": "40144c6a-f079-4668-efb3-ba7a9b25f357"
      },
      "outputs": [
        {
          "output_type": "error",
          "ename": "NameError",
          "evalue": "ignored",
          "traceback": [
            "\u001b[0;31m---------------------------------------------------------------------------\u001b[0m",
            "\u001b[0;31mNameError\u001b[0m                                 Traceback (most recent call last)",
            "\u001b[0;32m<ipython-input-1-b84e261919e7>\u001b[0m in \u001b[0;36m<module>\u001b[0;34m\u001b[0m\n\u001b[0;32m----> 1\u001b[0;31m history = model.fit(\n\u001b[0m\u001b[1;32m      2\u001b[0m     \u001b[0mtrain_dataset\u001b[0m\u001b[0;34m,\u001b[0m\u001b[0;34m\u001b[0m\u001b[0;34m\u001b[0m\u001b[0m\n\u001b[1;32m      3\u001b[0m     \u001b[0mbatch_size\u001b[0m\u001b[0;34m=\u001b[0m\u001b[0mbatch_size\u001b[0m\u001b[0;34m,\u001b[0m\u001b[0;34m\u001b[0m\u001b[0;34m\u001b[0m\u001b[0m\n\u001b[1;32m      4\u001b[0m     \u001b[0mepochs\u001b[0m\u001b[0;34m=\u001b[0m\u001b[0;36m2\u001b[0m\u001b[0;34m,\u001b[0m\u001b[0;34m\u001b[0m\u001b[0;34m\u001b[0m\u001b[0m\n\u001b[1;32m      5\u001b[0m     \u001b[0mvalidation_data\u001b[0m\u001b[0;34m=\u001b[0m\u001b[0mdev_dataset\u001b[0m\u001b[0;34m,\u001b[0m\u001b[0;34m\u001b[0m\u001b[0;34m\u001b[0m\u001b[0m\n",
            "\u001b[0;31mNameError\u001b[0m: name 'model' is not defined"
          ]
        }
      ],
      "source": [
        "history = model.fit(\n",
        "    train_dataset,\n",
        "    batch_size=batch_size,\n",
        "    epochs=2,\n",
        "    validation_data=dev_dataset,\n",
        "    verbose=1,\n",
        ")"
      ]
    },
    {
      "cell_type": "code",
      "source": [],
      "metadata": {
        "id": "oV1zmn48Otjp"
      },
      "execution_count": null,
      "outputs": []
    },
    {
      "cell_type": "code",
      "execution_count": null,
      "metadata": {
        "id": "Fxnn8UFmQyZD"
      },
      "outputs": [],
      "source": [
        "#model.save_weights('/content/drive/MyDrive/save_model/bert_model_weights_for_drug.h5', overwrite=True)"
      ]
    },
    {
      "cell_type": "code",
      "source": [
        "model.save('/content/drive/MyDrive/save_model/bert_model_for_aggressive.h5' , overwrite=True)"
      ],
      "metadata": {
        "id": "_u29nOWdfDJS"
      },
      "execution_count": null,
      "outputs": []
    },
    {
      "cell_type": "code",
      "source": [
        "new_model = tf.keras.models.load_model('/content/drive/MyDrive/save_model/bert_model_for_aggressive.h5',custom_objects={\"TFBertModel\": TFBertModel})"
      ],
      "metadata": {
        "id": "qh8WI2WH8yaf"
      },
      "execution_count": null,
      "outputs": []
    },
    {
      "cell_type": "markdown",
      "metadata": {
        "id": "Ku_a9d1yQyZD"
      },
      "source": [
        "### Display Loss and Accuracy"
      ]
    },
    {
      "cell_type": "code",
      "execution_count": null,
      "metadata": {
        "id": "mZaj9sw2QyZD"
      },
      "outputs": [],
      "source": [
        "\n",
        "import matplotlib.pyplot as plt\n",
        "def plot_graphs(history, string):\n",
        "    plt.plot(history.history[string])\n",
        "    plt.plot(history.history[\"val_\" + string])\n",
        "    plt.title('Emotional model')\n",
        "    plt.xlabel(\"Epochs\")\n",
        "    plt.ylabel(string)\n",
        "    plt.legend([string, \"val_\" + string])\n",
        "    plt.show()\n",
        "plot_graphs(history, \"accuracy\")\n",
        "plot_graphs(history, \"loss\")    "
      ]
    },
    {
      "cell_type": "code",
      "execution_count": null,
      "metadata": {
        "id": "LsDXgzzH0Q-q"
      },
      "outputs": [],
      "source": [
        "test = pd.read_csv('/content/drive/MyDrive/Dataset/final_data/final_aggressive_test_data.csv')\n",
        "test"
      ]
    },
    {
      "cell_type": "code",
      "execution_count": null,
      "metadata": {
        "id": "wl1DlkNXTzrH"
      },
      "outputs": [],
      "source": [
        "test.TweetText = test.TweetText.astype(str)\n",
        "test_encoded = bert_encode(test.TweetText)"
      ]
    },
    {
      "cell_type": "code",
      "execution_count": null,
      "metadata": {
        "id": "TFCvvB-4UAsM"
      },
      "outputs": [],
      "source": [
        "test_dataset = tf.data.Dataset.from_tensor_slices(test_encoded).batch(batch_size)"
      ]
    },
    {
      "cell_type": "code",
      "source": [
        "test_labels = test['label'].values.tolist()"
      ],
      "metadata": {
        "id": "hkJgMh08G8MB"
      },
      "execution_count": null,
      "outputs": []
    },
    {
      "cell_type": "code",
      "execution_count": null,
      "metadata": {
        "id": "wKrGsWbmUFOF"
      },
      "outputs": [],
      "source": [
        "predicted_tweets = new_model.predict(test_dataset, batch_size=batch_size)\n",
        "predicted_tweets_binary = np.argmax(predicted_tweets, axis=-1)"
      ]
    },
    {
      "cell_type": "code",
      "source": [
        "predicted_tweets_binary"
      ],
      "metadata": {
        "id": "9aBPS3ueG6EF"
      },
      "execution_count": null,
      "outputs": []
    },
    {
      "cell_type": "code",
      "source": [
        "\n",
        "aggressive_Probability = tf.nn.softmax(predicted_tweets)\n",
        "\n",
        "aggressive_list = []\n",
        "\n",
        "for risk in list(aggressive_Probability):\n",
        "    aggressive_list.append(risk[1])\n",
        "#test_df['aggressive_score'] = aggressive_list\n",
        "#print(test_df['aggressive_score'])\n",
        "\n",
        "Aggressive_avg_score = np.mean(aggressive_list)\n",
        "\n",
        "print('Aggressive Avg score ',Aggressive_avg_score)"
      ],
      "metadata": {
        "id": "MDWJvbsuOZzk"
      },
      "execution_count": null,
      "outputs": []
    },
    {
      "cell_type": "code",
      "source": [
        "aggressive_Probability"
      ],
      "metadata": {
        "id": "qRad5Tqgtll1"
      },
      "execution_count": null,
      "outputs": []
    },
    {
      "cell_type": "code",
      "execution_count": null,
      "metadata": {
        "id": "34yFodnaUJ9J"
      },
      "outputs": [],
      "source": [
        "from sklearn import metrics\n",
        "\n",
        "accuracy = metrics.accuracy_score(test_labels,predicted_tweets_binary)\n",
        "print('Accuracy: {:.3f}'.format(accuracy))"
      ]
    },
    {
      "cell_type": "code",
      "execution_count": null,
      "metadata": {
        "id": "6y3IaK80UhjT"
      },
      "outputs": [],
      "source": [
        "print('Classification report')\n",
        "print(metrics.classification_report(test_labels, predicted_tweets_binary))"
      ]
    },
    {
      "cell_type": "code",
      "source": [],
      "metadata": {
        "id": "vKY7JoDn7lxQ"
      },
      "execution_count": null,
      "outputs": []
    }
  ],
  "metadata": {
    "accelerator": "TPU",
    "colab": {
      "collapsed_sections": [],
      "provenance": [],
      "include_colab_link": true
    },
    "gpuClass": "standard",
    "kernelspec": {
      "display_name": "Python 3.9.6 64-bit",
      "language": "python",
      "name": "python3"
    },
    "language_info": {
      "codemirror_mode": {
        "name": "ipython",
        "version": 3
      },
      "file_extension": ".py",
      "mimetype": "text/x-python",
      "name": "python",
      "nbconvert_exporter": "python",
      "pygments_lexer": "ipython3",
      "version": "3.9.6"
    },
    "vscode": {
      "interpreter": {
        "hash": "3df77834007b68902e1d8766af41cf800c999461d3c87098e43ac593469f3ea1"
      }
    }
  },
  "nbformat": 4,
  "nbformat_minor": 0
}