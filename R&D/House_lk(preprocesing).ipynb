{
 "cells": [
  {
   "cell_type": "code",
   "execution_count": 1,
   "source": [
    "import pandas as pd\r\n",
    "import numpy as np\r\n",
    "import os\r\n",
    "import matplotlib.pyplot as plt"
   ],
   "outputs": [],
   "metadata": {}
  },
  {
   "cell_type": "code",
   "execution_count": 2,
   "source": [
    "path1 = os.getcwd() + r'\\House.lk\\HOUSE_LK01.CSV'\r\n",
    "path2 = os.getcwd() + r'\\House.lk\\HOUSE_LK02.CSV'\r\n",
    "path3 = os.getcwd() + r'\\House.lk\\HOUSE_LK03.CSV'\r\n",
    "path4 = os.getcwd() + r'\\House.lk\\HOUSE_LK04.CSV'"
   ],
   "outputs": [],
   "metadata": {}
  },
  {
   "cell_type": "code",
   "execution_count": 3,
   "source": [
    "df1 = pd.read_csv(path1,index_col=False)\r\n",
    "df2 = pd.read_csv(path2,index_col=False)\r\n",
    "df3 = pd.read_csv(path3,index_col=False)\r\n",
    "df4 = pd.read_csv(path4,index_col=False)"
   ],
   "outputs": [],
   "metadata": {}
  },
  {
   "cell_type": "code",
   "execution_count": 4,
   "source": [
    "data = pd.concat([df1,df2,df3,df4],ignore_index=True).drop(['Unnamed: 0'],axis=1)\r\n",
    "data.head()"
   ],
   "outputs": [
    {
     "output_type": "execute_result",
     "data": {
      "text/plain": [
       "  Property_Type                     address Area_of_land Bedrooms Bathrooms  \\\n",
       "0         House  Sudarshana Mawatha, Malabe           10        5         4   \n",
       "1         House                                                               \n",
       "2         House                  Rajagiriya           20        4         3   \n",
       "3         House                Battaramulla           18        4         3   \n",
       "4         House                  Pita Kotte           10        4         5   \n",
       "\n",
       "     HouseSize          Advertiser      contact_num        Price  \n",
       "0  4300 sq.ft.    Harendra / Nimna  +94 777 070 666   39,000,000  \n",
       "1                                                     39,000,000  \n",
       "2  4800 sq.ft.             ACQUEST  +94 774 441 266  150,000,000  \n",
       "3  5000 sq.ft.              Samson  +94 775 085 544   70,000,000  \n",
       "4  4000 sq.ft.  Exclusive Realtors  +94 776 396 655   58,000,000  "
      ],
      "text/html": [
       "<div>\n",
       "<style scoped>\n",
       "    .dataframe tbody tr th:only-of-type {\n",
       "        vertical-align: middle;\n",
       "    }\n",
       "\n",
       "    .dataframe tbody tr th {\n",
       "        vertical-align: top;\n",
       "    }\n",
       "\n",
       "    .dataframe thead th {\n",
       "        text-align: right;\n",
       "    }\n",
       "</style>\n",
       "<table border=\"1\" class=\"dataframe\">\n",
       "  <thead>\n",
       "    <tr style=\"text-align: right;\">\n",
       "      <th></th>\n",
       "      <th>Property_Type</th>\n",
       "      <th>address</th>\n",
       "      <th>Area_of_land</th>\n",
       "      <th>Bedrooms</th>\n",
       "      <th>Bathrooms</th>\n",
       "      <th>HouseSize</th>\n",
       "      <th>Advertiser</th>\n",
       "      <th>contact_num</th>\n",
       "      <th>Price</th>\n",
       "    </tr>\n",
       "  </thead>\n",
       "  <tbody>\n",
       "    <tr>\n",
       "      <th>0</th>\n",
       "      <td>House</td>\n",
       "      <td>Sudarshana Mawatha, Malabe</td>\n",
       "      <td>10</td>\n",
       "      <td>5</td>\n",
       "      <td>4</td>\n",
       "      <td>4300 sq.ft.</td>\n",
       "      <td>Harendra / Nimna</td>\n",
       "      <td>+94 777 070 666</td>\n",
       "      <td>39,000,000</td>\n",
       "    </tr>\n",
       "    <tr>\n",
       "      <th>1</th>\n",
       "      <td>House</td>\n",
       "      <td></td>\n",
       "      <td></td>\n",
       "      <td></td>\n",
       "      <td></td>\n",
       "      <td></td>\n",
       "      <td></td>\n",
       "      <td></td>\n",
       "      <td>39,000,000</td>\n",
       "    </tr>\n",
       "    <tr>\n",
       "      <th>2</th>\n",
       "      <td>House</td>\n",
       "      <td>Rajagiriya</td>\n",
       "      <td>20</td>\n",
       "      <td>4</td>\n",
       "      <td>3</td>\n",
       "      <td>4800 sq.ft.</td>\n",
       "      <td>ACQUEST</td>\n",
       "      <td>+94 774 441 266</td>\n",
       "      <td>150,000,000</td>\n",
       "    </tr>\n",
       "    <tr>\n",
       "      <th>3</th>\n",
       "      <td>House</td>\n",
       "      <td>Battaramulla</td>\n",
       "      <td>18</td>\n",
       "      <td>4</td>\n",
       "      <td>3</td>\n",
       "      <td>5000 sq.ft.</td>\n",
       "      <td>Samson</td>\n",
       "      <td>+94 775 085 544</td>\n",
       "      <td>70,000,000</td>\n",
       "    </tr>\n",
       "    <tr>\n",
       "      <th>4</th>\n",
       "      <td>House</td>\n",
       "      <td>Pita Kotte</td>\n",
       "      <td>10</td>\n",
       "      <td>4</td>\n",
       "      <td>5</td>\n",
       "      <td>4000 sq.ft.</td>\n",
       "      <td>Exclusive Realtors</td>\n",
       "      <td>+94 776 396 655</td>\n",
       "      <td>58,000,000</td>\n",
       "    </tr>\n",
       "  </tbody>\n",
       "</table>\n",
       "</div>"
      ]
     },
     "metadata": {},
     "execution_count": 4
    }
   ],
   "metadata": {}
  },
  {
   "cell_type": "markdown",
   "source": [
    "# Data Cleaning"
   ],
   "metadata": {}
  },
  {
   "cell_type": "markdown",
   "source": [
    "Missing values"
   ],
   "metadata": {}
  },
  {
   "cell_type": "code",
   "execution_count": 5,
   "source": [
    "data.shape"
   ],
   "outputs": [
    {
     "output_type": "execute_result",
     "data": {
      "text/plain": [
       "(4510, 9)"
      ]
     },
     "metadata": {},
     "execution_count": 5
    }
   ],
   "metadata": {}
  },
  {
   "cell_type": "code",
   "execution_count": 6,
   "source": [
    "data.isna().any()"
   ],
   "outputs": [
    {
     "output_type": "execute_result",
     "data": {
      "text/plain": [
       "Property_Type    False\n",
       "address          False\n",
       "Area_of_land     False\n",
       "Bedrooms         False\n",
       "Bathrooms        False\n",
       "HouseSize        False\n",
       "Advertiser        True\n",
       "contact_num      False\n",
       "Price            False\n",
       "dtype: bool"
      ]
     },
     "metadata": {},
     "execution_count": 6
    }
   ],
   "metadata": {}
  },
  {
   "cell_type": "code",
   "execution_count": 7,
   "source": [
    "data.isnull().any(axis = 1).sum()"
   ],
   "outputs": [
    {
     "output_type": "execute_result",
     "data": {
      "text/plain": [
       "92"
      ]
     },
     "metadata": {},
     "execution_count": 7
    }
   ],
   "metadata": {}
  },
  {
   "cell_type": "code",
   "execution_count": 8,
   "source": [
    "drop_df=data.dropna(how='any')\r\n",
    "drop_df.isnull().any(axis = 1).sum()"
   ],
   "outputs": [
    {
     "output_type": "execute_result",
     "data": {
      "text/plain": [
       "0"
      ]
     },
     "metadata": {},
     "execution_count": 8
    }
   ],
   "metadata": {}
  },
  {
   "cell_type": "code",
   "execution_count": 10,
   "source": [
    "drop_df.head(10)"
   ],
   "outputs": [
    {
     "output_type": "execute_result",
     "data": {
      "text/plain": [
       "  Property_Type                     address Area_of_land Bedrooms Bathrooms  \\\n",
       "0         House  Sudarshana Mawatha, Malabe           10        5         4   \n",
       "1         House                                                               \n",
       "2         House                  Rajagiriya           20        4         3   \n",
       "3         House                Battaramulla           18        4         3   \n",
       "4         House                  Pita Kotte           10        4         5   \n",
       "5         House                   Pelawatte           40        5         4   \n",
       "6         House   Welisara, Kandana, Nagoda           10        4         2   \n",
       "7         House   Lower Dickson Road, Galle         8.52        3         2   \n",
       "8         House      Melder Place, Nugegoda            6        3         3   \n",
       "9         House                    Dalugama         6.25        3         3   \n",
       "\n",
       "              HouseSize          Advertiser      contact_num        Price  \n",
       "0           4300 sq.ft.    Harendra / Nimna  +94 777 070 666   39,000,000  \n",
       "1                                                              39,000,000  \n",
       "2           4800 sq.ft.             ACQUEST  +94 774 441 266  150,000,000  \n",
       "3           5000 sq.ft.              Samson  +94 775 085 544   70,000,000  \n",
       "4           4000 sq.ft.  Exclusive Realtors  +94 776 396 655   58,000,000  \n",
       "5           3500 sq.ft.  Exclusive Realtors  +94 776 396 655  150,000,000  \n",
       "6  2 Car parking spaces          Mr.Shafraz  +94 712 980 558   18,500,000  \n",
       "7           2240 sq.ft.     Devon / Sasindu  +94 713 756 049   45,000,000  \n",
       "8           2357 sq.ft.     Devon / Sasindu  +94 713 756 049   46,200,000  \n",
       "9           1900 sq.ft.     Devon / Sasindu  +94 713 756 049   30,300,000  "
      ],
      "text/html": [
       "<div>\n",
       "<style scoped>\n",
       "    .dataframe tbody tr th:only-of-type {\n",
       "        vertical-align: middle;\n",
       "    }\n",
       "\n",
       "    .dataframe tbody tr th {\n",
       "        vertical-align: top;\n",
       "    }\n",
       "\n",
       "    .dataframe thead th {\n",
       "        text-align: right;\n",
       "    }\n",
       "</style>\n",
       "<table border=\"1\" class=\"dataframe\">\n",
       "  <thead>\n",
       "    <tr style=\"text-align: right;\">\n",
       "      <th></th>\n",
       "      <th>Property_Type</th>\n",
       "      <th>address</th>\n",
       "      <th>Area_of_land</th>\n",
       "      <th>Bedrooms</th>\n",
       "      <th>Bathrooms</th>\n",
       "      <th>HouseSize</th>\n",
       "      <th>Advertiser</th>\n",
       "      <th>contact_num</th>\n",
       "      <th>Price</th>\n",
       "    </tr>\n",
       "  </thead>\n",
       "  <tbody>\n",
       "    <tr>\n",
       "      <th>0</th>\n",
       "      <td>House</td>\n",
       "      <td>Sudarshana Mawatha, Malabe</td>\n",
       "      <td>10</td>\n",
       "      <td>5</td>\n",
       "      <td>4</td>\n",
       "      <td>4300 sq.ft.</td>\n",
       "      <td>Harendra / Nimna</td>\n",
       "      <td>+94 777 070 666</td>\n",
       "      <td>39,000,000</td>\n",
       "    </tr>\n",
       "    <tr>\n",
       "      <th>1</th>\n",
       "      <td>House</td>\n",
       "      <td></td>\n",
       "      <td></td>\n",
       "      <td></td>\n",
       "      <td></td>\n",
       "      <td></td>\n",
       "      <td></td>\n",
       "      <td></td>\n",
       "      <td>39,000,000</td>\n",
       "    </tr>\n",
       "    <tr>\n",
       "      <th>2</th>\n",
       "      <td>House</td>\n",
       "      <td>Rajagiriya</td>\n",
       "      <td>20</td>\n",
       "      <td>4</td>\n",
       "      <td>3</td>\n",
       "      <td>4800 sq.ft.</td>\n",
       "      <td>ACQUEST</td>\n",
       "      <td>+94 774 441 266</td>\n",
       "      <td>150,000,000</td>\n",
       "    </tr>\n",
       "    <tr>\n",
       "      <th>3</th>\n",
       "      <td>House</td>\n",
       "      <td>Battaramulla</td>\n",
       "      <td>18</td>\n",
       "      <td>4</td>\n",
       "      <td>3</td>\n",
       "      <td>5000 sq.ft.</td>\n",
       "      <td>Samson</td>\n",
       "      <td>+94 775 085 544</td>\n",
       "      <td>70,000,000</td>\n",
       "    </tr>\n",
       "    <tr>\n",
       "      <th>4</th>\n",
       "      <td>House</td>\n",
       "      <td>Pita Kotte</td>\n",
       "      <td>10</td>\n",
       "      <td>4</td>\n",
       "      <td>5</td>\n",
       "      <td>4000 sq.ft.</td>\n",
       "      <td>Exclusive Realtors</td>\n",
       "      <td>+94 776 396 655</td>\n",
       "      <td>58,000,000</td>\n",
       "    </tr>\n",
       "    <tr>\n",
       "      <th>5</th>\n",
       "      <td>House</td>\n",
       "      <td>Pelawatte</td>\n",
       "      <td>40</td>\n",
       "      <td>5</td>\n",
       "      <td>4</td>\n",
       "      <td>3500 sq.ft.</td>\n",
       "      <td>Exclusive Realtors</td>\n",
       "      <td>+94 776 396 655</td>\n",
       "      <td>150,000,000</td>\n",
       "    </tr>\n",
       "    <tr>\n",
       "      <th>6</th>\n",
       "      <td>House</td>\n",
       "      <td>Welisara, Kandana, Nagoda</td>\n",
       "      <td>10</td>\n",
       "      <td>4</td>\n",
       "      <td>2</td>\n",
       "      <td>2 Car parking spaces</td>\n",
       "      <td>Mr.Shafraz</td>\n",
       "      <td>+94 712 980 558</td>\n",
       "      <td>18,500,000</td>\n",
       "    </tr>\n",
       "    <tr>\n",
       "      <th>7</th>\n",
       "      <td>House</td>\n",
       "      <td>Lower Dickson Road, Galle</td>\n",
       "      <td>8.52</td>\n",
       "      <td>3</td>\n",
       "      <td>2</td>\n",
       "      <td>2240 sq.ft.</td>\n",
       "      <td>Devon / Sasindu</td>\n",
       "      <td>+94 713 756 049</td>\n",
       "      <td>45,000,000</td>\n",
       "    </tr>\n",
       "    <tr>\n",
       "      <th>8</th>\n",
       "      <td>House</td>\n",
       "      <td>Melder Place, Nugegoda</td>\n",
       "      <td>6</td>\n",
       "      <td>3</td>\n",
       "      <td>3</td>\n",
       "      <td>2357 sq.ft.</td>\n",
       "      <td>Devon / Sasindu</td>\n",
       "      <td>+94 713 756 049</td>\n",
       "      <td>46,200,000</td>\n",
       "    </tr>\n",
       "    <tr>\n",
       "      <th>9</th>\n",
       "      <td>House</td>\n",
       "      <td>Dalugama</td>\n",
       "      <td>6.25</td>\n",
       "      <td>3</td>\n",
       "      <td>3</td>\n",
       "      <td>1900 sq.ft.</td>\n",
       "      <td>Devon / Sasindu</td>\n",
       "      <td>+94 713 756 049</td>\n",
       "      <td>30,300,000</td>\n",
       "    </tr>\n",
       "  </tbody>\n",
       "</table>\n",
       "</div>"
      ]
     },
     "metadata": {},
     "execution_count": 10
    }
   ],
   "metadata": {}
  },
  {
   "cell_type": "code",
   "execution_count": 12,
   "source": [
    "drop_df.duplicated().sum()"
   ],
   "outputs": [
    {
     "output_type": "execute_result",
     "data": {
      "text/plain": [
       "1278"
      ]
     },
     "metadata": {},
     "execution_count": 12
    }
   ],
   "metadata": {}
  },
  {
   "cell_type": "code",
   "execution_count": 13,
   "source": [
    "drop_df.drop_duplicates(inplace=True)"
   ],
   "outputs": [
    {
     "output_type": "stream",
     "name": "stderr",
     "text": [
      "C:\\Users\\uer\\anaconda3\\lib\\site-packages\\ipykernel_launcher.py:1: SettingWithCopyWarning: \n",
      "A value is trying to be set on a copy of a slice from a DataFrame\n",
      "\n",
      "See the caveats in the documentation: https://pandas.pydata.org/pandas-docs/stable/user_guide/indexing.html#returning-a-view-versus-a-copy\n",
      "  \"\"\"Entry point for launching an IPython kernel.\n"
     ]
    }
   ],
   "metadata": {}
  },
  {
   "cell_type": "code",
   "execution_count": 14,
   "source": [
    "drop_df.shape"
   ],
   "outputs": [
    {
     "output_type": "execute_result",
     "data": {
      "text/plain": [
       "(3140, 9)"
      ]
     },
     "metadata": {},
     "execution_count": 14
    }
   ],
   "metadata": {}
  },
  {
   "cell_type": "code",
   "execution_count": null,
   "source": [],
   "outputs": [],
   "metadata": {}
  }
 ],
 "metadata": {
  "orig_nbformat": 4,
  "language_info": {
   "name": "python",
   "version": "3.7.6",
   "mimetype": "text/x-python",
   "codemirror_mode": {
    "name": "ipython",
    "version": 3
   },
   "pygments_lexer": "ipython3",
   "nbconvert_exporter": "python",
   "file_extension": ".py"
  },
  "kernelspec": {
   "name": "python3",
   "display_name": "Python 3.7.6 64-bit ('base': conda)"
  },
  "interpreter": {
   "hash": "8867321196b4aed495a8cb57ae795b5cb9f69b50030feb2979c26ed6dde2da6a"
  }
 },
 "nbformat": 4,
 "nbformat_minor": 2
}