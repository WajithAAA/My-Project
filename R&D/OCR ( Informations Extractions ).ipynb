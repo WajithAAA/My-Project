{
 "cells": [
  {
   "cell_type": "markdown",
   "source": [
    "# Optical Character Recognitions"
   ],
   "metadata": {}
  },
  {
   "cell_type": "markdown",
   "source": [
    "# - In this file we are importing our sample data as PDFs, color Images & Images. Images are in PNG format.\r\n",
    "# - before we get into code we split the advertisement as train & test based on the variable information contain in text. if the variable contain  more than 5 it's consider as test advertisement.\r\n",
    "# - initial we have done the train set after that we use test to the processing\r\n",
    "# - Here We are doing the following orders for extract the text data from objects using pytesserect library.\r\n",
    "1. Import libraries\r\n",
    "2. Rename the Samples\r\n",
    "3. convert PDF as PNG format\r\n",
    "4. Resize and filter PDF converted images and color images\r\n",
    "5. Extract the textual data from objects\r\n",
    "6. Save in text file"
   ],
   "metadata": {}
  },
  {
   "cell_type": "markdown",
   "source": [
    "# Import Libraries"
   ],
   "metadata": {}
  },
  {
   "cell_type": "code",
   "execution_count": 1,
   "source": [
    "import pytesseract \r\n",
    "import cv2\r\n",
    "from pdf2image import convert_from_path\r\n",
    "from PIL import Image \r\n",
    "import os\r\n",
    "import numpy as np\r\n",
    "import pandas as pd"
   ],
   "outputs": [],
   "metadata": {}
  },
  {
   "cell_type": "markdown",
   "source": [
    "# Rename all file for easy to process"
   ],
   "metadata": {}
  },
  {
   "cell_type": "markdown",
   "source": [
    "# Rename PDF file"
   ],
   "metadata": {}
  },
  {
   "cell_type": "code",
   "execution_count": 2,
   "source": [
    "path_pdf = os.chdir(r\"D:\\R & D PROJECT\\Samples\\Samp_test\\PDF_test\")\r\n",
    "i = 1\r\n",
    "for image in os.listdir(path_pdf):\r\n",
    "    new_name=\"PDF_test_samp_{}.pdf\".format(i)\r\n",
    "    os.rename(image,new_name)\r\n",
    "\r\n",
    "    i +=1\r\n",
    "print(\"Files Renamed\")"
   ],
   "outputs": [
    {
     "output_type": "stream",
     "name": "stdout",
     "text": [
      "Files Renamed\n"
     ]
    }
   ],
   "metadata": {}
  },
  {
   "cell_type": "markdown",
   "source": [
    "# Rename Color image"
   ],
   "metadata": {}
  },
  {
   "cell_type": "code",
   "execution_count": 3,
   "source": [
    "path_col_image = os.chdir(r\"D:\\R & D PROJECT\\Samples\\Samp_test\\Col_test\")\r\n",
    "i = 1\r\n",
    "for image in os.listdir(path_col_image):\r\n",
    "    new_name=\"Col_test_image_{}.jpg\".format(i)\r\n",
    "    os.rename(image,new_name)\r\n",
    "\r\n",
    "    i +=1\r\n",
    "print('Name Changed')"
   ],
   "outputs": [
    {
     "output_type": "stream",
     "name": "stdout",
     "text": [
      "Name Changed\n"
     ]
    }
   ],
   "metadata": {}
  },
  {
   "cell_type": "markdown",
   "source": [
    "# Renamed Normal Images"
   ],
   "metadata": {}
  },
  {
   "cell_type": "code",
   "execution_count": 4,
   "source": [
    "path_image = os.chdir(r\"D:\\R & D PROJECT\\Samples\\Samp_test\\Nor_test\")\r\n",
    "i = 1\r\n",
    "for image in os.listdir(path_image):\r\n",
    "    new_name=\"Nor_test_image_{}.jpg\".format(i)\r\n",
    "    os.rename(image,new_name)\r\n",
    "\r\n",
    "    i +=1\r\n",
    "print('Name Changed')"
   ],
   "outputs": [
    {
     "output_type": "stream",
     "name": "stdout",
     "text": [
      "Name Changed\n"
     ]
    }
   ],
   "metadata": {}
  },
  {
   "cell_type": "markdown",
   "source": [
    "# Convert PDF as image"
   ],
   "metadata": {}
  },
  {
   "cell_type": "code",
   "execution_count": 4,
   "source": [
    "image_counter = 1\r\n",
    "\r\n",
    "PDF_file = os.chdir(r\"D:\\R & D PROJECT\\Samples\\Samp_test\\PDF_test\")\r\n",
    "for item in os.listdir(PDF_file):\r\n",
    "\r\n",
    "    pages = convert_from_path(item,400,poppler_path=r'C:\\Users\\uer\\Downloads\\Compressed\\poppler-0.67.0\\bin')\r\n",
    "    for page in pages:\r\n",
    "        filename = r\"D:\\R & D PROJECT\\Samples\\Samp_test\\PDF_conv_test\\PDF_test_image_\"+str(image_counter)+\".jpg\"\r\n",
    "        page.save(filename,\"JPEG\")\r\n",
    "        image_counter = image_counter + 1\r\n",
    "\r\n",
    "print(\"Converted all files\")"
   ],
   "outputs": [
    {
     "output_type": "stream",
     "name": "stdout",
     "text": [
      "Converted all files\n"
     ]
    }
   ],
   "metadata": {}
  },
  {
   "cell_type": "markdown",
   "source": [
    "# Show all advertise images"
   ],
   "metadata": {}
  },
  {
   "cell_type": "code",
   "execution_count": 5,
   "source": [
    "#Nor_img = Image.open(r\"D:\\R & D PROJECT\\Samples\\Samp_test\\Nor_Test\\Nor_test_image_2.jpg\")\r\n",
    "#Col_img = Image.open(r\"D:\\R & D PROJECT\\Samples\\Samp_test\\Col_Train\\Col_test_image_7.jpg\")\r\n",
    "#PDF_conv_img = Image.open(r\"D:\\R & D PROJECT\\Samples\\Samp_test\\PDF_conv_test\\PDF_test_image_1.jpg\")\r\n",
    "#Nor=Nor_img.resize((400,400))\r\n",
    "#Col=Col_img.resize((400,400))\r\n",
    "#PDF=PDF_conv_img.resize((400,400))"
   ],
   "outputs": [],
   "metadata": {}
  },
  {
   "cell_type": "markdown",
   "source": [
    "# Filter & Resize the PDF converted Images"
   ],
   "metadata": {}
  },
  {
   "cell_type": "markdown",
   "source": [
    "- The reason for filter the images. there have house images and other unnecessary ad characters.\r\n",
    "- Resize the images to remove the borders of PDF converted images"
   ],
   "metadata": {}
  },
  {
   "cell_type": "code",
   "execution_count": 9,
   "source": [
    "i = 1\r\n",
    "path_image = os.chdir(r\"D:\\R & D PROJECT\\Samples\\Samp_test\\PDF_conv_test\")\r\n",
    "for image in os.listdir(path_image):\r\n",
    "    \r\n",
    "    # Color filter\r\n",
    "    img = cv2.imread(image)\r\n",
    "    imgGray = cv2.cvtColor(img, cv2.COLOR_RGB2GRAY)\r\n",
    "    _,thresh = cv2.threshold(imgGray,240,255,cv2.THRESH_BINARY)\r\n",
    "    \r\n",
    "    # Image Resize\r\n",
    "    scale_percent = 0.2\r\n",
    "    weight = int(thresh.shape[1]*scale_percent)\r\n",
    "    height = int(thresh.shape[0]*scale_percent)\r\n",
    "    deminsion = (weight,height)\r\n",
    "\r\n",
    "    # Crop top and bottom unwanted text deminsion\r\n",
    "    imgResized = cv2.resize(thresh, deminsion, interpolation=cv2.INTER_AREA)\r\n",
    "    imgCropped = imgResized[58:1300,0:936]\r\n",
    "\r\n",
    "\r\n",
    "    cv2.imwrite(r\"D:\\R & D PROJECT\\Samples\\Samp_test\\Test_img\\PDF_Filter_test_Img_\"+str(i)+\".jpg\",imgCropped)\r\n",
    "    i += 1\r\n",
    "\r\n",
    "print(\"Process is Done\")"
   ],
   "outputs": [
    {
     "output_type": "stream",
     "name": "stdout",
     "text": [
      "Process is Done\n"
     ]
    }
   ],
   "metadata": {}
  },
  {
   "cell_type": "markdown",
   "source": [
    "# Show image"
   ],
   "metadata": {}
  },
  {
   "cell_type": "code",
   "execution_count": 10,
   "source": [
    "#Filter_PDF = Image.open(r\"D:\\R & D PROJECT\\Samples\\Samp_train\\PDF_filter_train_img\\PDF_Filter_train_Img_35.jpg\")\r\n",
    "#Filter_PDF"
   ],
   "outputs": [],
   "metadata": {}
  },
  {
   "cell_type": "markdown",
   "source": [
    "# Filter Color Images to hide the multi colors from images"
   ],
   "metadata": {}
  },
  {
   "cell_type": "code",
   "execution_count": 10,
   "source": [
    "i = 1\r\n",
    "path_image = os.chdir(r\"D:\\R & D PROJECT\\Samples\\Samp_test\\Col_test\")\r\n",
    "for image in os.listdir(path_image):\r\n",
    "\r\n",
    "    img = cv2.imread(image)\r\n",
    "    img = cv2.cvtColor(img, cv2.COLOR_RGB2GRAY)  # covert to gray \r\n",
    "    result=cv2.adaptiveThreshold(img,255,cv2.ADAPTIVE_THRESH_GAUSSIAN_C,cv2.THRESH_BINARY,81,4)\r\n",
    "\r\n",
    "    cv2.imwrite(r\"D:\\R & D PROJECT\\Samples\\Samp_test\\Test_img\\col_filer_img_\"+str(i)+\".jpg\",result)\r\n",
    "    i += 1\r\n",
    "    \r\n",
    "print(\"Done\")\r\n"
   ],
   "outputs": [
    {
     "output_type": "stream",
     "name": "stdout",
     "text": [
      "Done\n"
     ]
    }
   ],
   "metadata": {}
  },
  {
   "cell_type": "markdown",
   "source": [
    "# Show image"
   ],
   "metadata": {}
  },
  {
   "cell_type": "code",
   "execution_count": 18,
   "source": [
    "#Col_img_flter = Image.open(r\"D:\\R & D PROJECT\\Samples\\Samp_train\\Col_filter_train_img\\col_filer_img_4.jpg\")\r\n",
    "#Col_img_flter"
   ],
   "outputs": [
    {
     "output_type": "execute_result",
     "data": {
      "text/plain": [
       "<PIL.JpegImagePlugin.JpegImageFile image mode=L size=640x480 at 0x1B3800783C8>"
      ],
      "image/png": "[encoded data removed]"
     },
     "metadata": {},
     "execution_count": 18
    }
   ],
   "metadata": {}
  },
  {
   "cell_type": "markdown",
   "source": [
    "# Rename the All images (PNG) files"
   ],
   "metadata": {}
  },
  {
   "cell_type": "code",
   "execution_count": 11,
   "source": [
    "path_image = os.chdir(r\"D:\\R & D PROJECT\\Samples\\Samp_test\\Test_img\")\r\n",
    "i = 1\r\n",
    "for image in os.listdir(path_image):\r\n",
    "    new_name=\"test_img_samp_{}.jpg\".format(i)\r\n",
    "    os.rename(image,new_name)\r\n",
    "\r\n",
    "    i +=1\r\n",
    "print('Name Changed')"
   ],
   "outputs": [
    {
     "output_type": "stream",
     "name": "stdout",
     "text": [
      "Name Changed\n"
     ]
    }
   ],
   "metadata": {}
  },
  {
   "cell_type": "markdown",
   "source": [
    "# Text Extractions from images & Save as text file"
   ],
   "metadata": {}
  },
  {
   "cell_type": "code",
   "execution_count": 14,
   "source": [
    "output_file = r\"D:\\R & D PROJECT\\Test_text\\test_Text.txt\"\r\n",
    "f = open(output_file, \"a+\")\r\n",
    "\r\n",
    "path_image = os.chdir(r\"D:\\R & D PROJECT\\Samples\\Samp_test\\Test_img\")\r\n",
    "count =len(os.listdir(path_image))\r\n",
    "\r\n",
    "\r\n",
    "for i in range(1, count+1): \r\n",
    "   \r\n",
    "    filename = r\"D:\\R & D PROJECT\\Samples\\Samp_test\\Test_img\\test_img_samp_\"+str(i)+\".jpg\" \r\n",
    "    pytesseract.pytesseract.tesseract_cmd = r'C:\\Program Files\\Tesseract-OCR\\tesseract.exe'\r\n",
    "    text = str(((pytesseract.image_to_string(Image.open(filename)))))  \r\n",
    "    f.write(\"new line\\n\")    \r\n",
    "   \r\n",
    "    f.write(text) \r\n",
    "f.close()\r\n",
    "print(\"Texts are Extracted\")"
   ],
   "outputs": [
    {
     "output_type": "stream",
     "name": "stdout",
     "text": [
      "Texts are Extracted\n"
     ]
    }
   ],
   "metadata": {}
  },
  {
   "cell_type": "code",
   "execution_count": null,
   "source": [],
   "outputs": [],
   "metadata": {}
  }
 ],
 "metadata": {
  "orig_nbformat": 4,
  "language_info": {
   "name": "python",
   "version": "3.7.6",
   "mimetype": "text/x-python",
   "codemirror_mode": {
    "name": "ipython",
    "version": 3
   },
   "pygments_lexer": "ipython3",
   "nbconvert_exporter": "python",
   "file_extension": ".py"
  },
  "kernelspec": {
   "name": "python3",
   "display_name": "Python 3.7.6 64-bit ('base': conda)"
  },
  "interpreter": {
   "hash": "8867321196b4aed495a8cb57ae795b5cb9f69b50030feb2979c26ed6dde2da6a"
  }
 },
 "nbformat": 4,
 "nbformat_minor": 2
}