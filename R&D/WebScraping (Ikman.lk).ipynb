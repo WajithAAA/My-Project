{
 "cells": [
  {
   "cell_type": "code",
   "execution_count": 22,
   "source": [
    "import requests\r\n",
    "from bs4 import BeautifulSoup\r\n",
    "from nltk.tokenize import word_tokenize \r\n",
    "import pandas as pd\r\n",
    "import csv"
   ],
   "outputs": [],
   "metadata": {}
  },
  {
   "cell_type": "code",
   "execution_count": 2,
   "source": [
    "url = 'https://ikman.lk/en/ads/sri-lanka/houses-for-sale'"
   ],
   "outputs": [],
   "metadata": {}
  },
  {
   "cell_type": "code",
   "execution_count": 3,
   "source": [
    "headers = {\r\n",
    "    \"User-Agent\": \"Mozilla/5.0 (Windows NT 10.0; Win64; x64) AppleWebKit/537.36 (KHTML, like Gecko) Chrome/74.0.3729.169 Safari/537.36\"\r\n",
    "}"
   ],
   "outputs": [],
   "metadata": {}
  },
  {
   "cell_type": "code",
   "execution_count": 4,
   "source": [
    "houselinks = []\r\n",
    "## 19 houses in one page total 4500 houses  \r\n",
    "for page in range(1,5):\r\n",
    "        r = requests.get(f\"https://ikman.lk/en/ads/sri-lanka/houses-for-sale?sort=date&order=desc&buy_now=0&urgent=0&page={page}\")\r\n",
    "        soup = BeautifulSoup(r.content,\"lxml\")\r\n",
    "        houselist=soup.find_all(\"div\",class_=\"container--2uFyv\")\r\n",
    "        for item in houselist:\r\n",
    "            for link in item.find_all(\"a\",href=True):\r\n",
    "                houselinks.append(url + link[\"href\"])"
   ],
   "outputs": [],
   "metadata": {}
  },
  {
   "cell_type": "code",
   "execution_count": 9,
   "source": [
    "len(houselinks)"
   ],
   "outputs": [
    {
     "output_type": "execute_result",
     "data": {
      "text/plain": [
       "27"
      ]
     },
     "metadata": {},
     "execution_count": 9
    }
   ],
   "metadata": {}
  },
  {
   "cell_type": "code",
   "execution_count": 5,
   "source": [
    "testlink=\"https://ikman.lk/en/ad/2-story-new-house-for-sale-in-athurugiriya-habarakada-for-sale-colombo-8\"\r\n",
    "r = requests.get(testlink, headers=headers)\r\n",
    "soup = BeautifulSoup(r.content, \"lxml\")\r\n",
    "\r\n",
    "\r\n",
    "#Type=soup.find(\"div\",\"property_title_label actioncat\").text.strip()\r\n",
    "#address=soup.find(\"div\",\"property_categs\").text.strip()\r\n",
    "#Details=soup.find_all(\"div\",class_=\"listing_detail col-md-6\")\r\n",
    "#Area_of_land=word_tokenize(Details[2].text)[4]\r\n",
    "#Bathrooms=word_tokenize(Details[3].text)[2]\r\n",
    "#b=word_tokenize(Details[4].text)[2]\r\n",
    "\r\n",
    "#contact_num=soup.find(\"span\",\"phonenum\").text.strip()"
   ],
   "outputs": [],
   "metadata": {}
  },
  {
   "cell_type": "code",
   "execution_count": 6,
   "source": [
    "Price=word_tokenize(soup.find(\"div\",\"amount--3NTpl\").text.strip())[1]\r\n",
    "Price"
   ],
   "outputs": [
    {
     "output_type": "execute_result",
     "data": {
      "text/plain": [
       "'26,500,000'"
      ]
     },
     "metadata": {},
     "execution_count": 6
    }
   ],
   "metadata": {}
  },
  {
   "cell_type": "code",
   "execution_count": 7,
   "source": [
    "Advertiser=soup.find(\"div\",\"ellipsis--3FPDI contact-name--m97Sb\").text.strip()\r\n",
    "Advertiser"
   ],
   "outputs": [
    {
     "output_type": "execute_result",
     "data": {
      "text/plain": [
       "'Properties by E W Wipulasena'"
      ]
     },
     "metadata": {},
     "execution_count": 7
    }
   ],
   "metadata": {}
  },
  {
   "cell_type": "code",
   "execution_count": 14,
   "source": [
    "contact_num=soup.find(\"div\",\"phone-numbers--2COKR\")\r\n",
    "contact_num"
   ],
   "outputs": [],
   "metadata": {}
  },
  {
   "cell_type": "code",
   "execution_count": 33,
   "source": [
    "Details=soup.find_all(\"div\",class_=\"ad-meta--17Bqm justify-content-flex-start--1Xozy align-items-normal--vaTgD flex-wrap-wrap--2PCx8 flex-direction-row--27fh1 flex--3fKk1\")\r\n",
    "Details"
   ],
   "outputs": [
    {
     "output_type": "execute_result",
     "data": {
      "text/plain": [
       "[<div class=\"ad-meta--17Bqm justify-content-flex-start--1Xozy align-items-normal--vaTgD flex-wrap-wrap--2PCx8 flex-direction-row--27fh1 flex--3fKk1\"><div class=\"two-columns--19Hyo full-width--XovDn justify-content-flex-start--1Xozy align-items-normal--vaTgD flex-wrap-nowrap--3IpfJ flex-direction-row--27fh1 flex--3fKk1\"><div class=\"word-break--2nyVq label--3oVZK\">Address: </div><div class=\"word-break--2nyVq value--1lKHt\">Habarakada</div></div><div class=\"two-columns--19Hyo full-width--XovDn justify-content-flex-start--1Xozy align-items-normal--vaTgD flex-wrap-nowrap--3IpfJ flex-direction-row--27fh1 flex--3fKk1\"><div class=\"word-break--2nyVq label--3oVZK\">Beds: </div><div class=\"word-break--2nyVq value--1lKHt\">5</div></div><div class=\"two-columns--19Hyo full-width--XovDn justify-content-flex-start--1Xozy align-items-normal--vaTgD flex-wrap-nowrap--3IpfJ flex-direction-row--27fh1 flex--3fKk1\"><div class=\"word-break--2nyVq label--3oVZK\">Baths: </div><div class=\"word-break--2nyVq value--1lKHt\">4</div></div><div class=\"two-columns--19Hyo full-width--XovDn justify-content-flex-start--1Xozy align-items-normal--vaTgD flex-wrap-nowrap--3IpfJ flex-direction-row--27fh1 flex--3fKk1\"><div class=\"word-break--2nyVq label--3oVZK\">House size: </div><div class=\"word-break--2nyVq value--1lKHt\">2,840.0 sqft</div></div><div class=\"two-columns--19Hyo full-width--XovDn justify-content-flex-start--1Xozy align-items-normal--vaTgD flex-wrap-nowrap--3IpfJ flex-direction-row--27fh1 flex--3fKk1\"><div class=\"word-break--2nyVq label--3oVZK\">Land size: </div><div class=\"word-break--2nyVq value--1lKHt\">12.0 perches</div></div></div>]"
      ]
     },
     "metadata": {},
     "execution_count": 33
    }
   ],
   "metadata": {}
  },
  {
   "cell_type": "code",
   "execution_count": 47,
   "source": [
    "for element in Details:\r\n",
    "    address = element.find(\"div\", class_=\"word-break--2nyVq value--1lKHt\").text.strip()\r\n",
    "    print(address)"
   ],
   "outputs": [
    {
     "output_type": "stream",
     "name": "stdout",
     "text": [
      "Habarakada\n"
     ]
    }
   ],
   "metadata": {}
  },
  {
   "cell_type": "code",
   "execution_count": null,
   "source": [],
   "outputs": [],
   "metadata": {}
  },
  {
   "cell_type": "code",
   "execution_count": 25,
   "source": [
    "Area_of_land=Details\r\n",
    "#Bathrooms=word_tokenize(Details[3].text)[2]\r\n",
    "#b=word_tokenize(Details[4].text)[2]"
   ],
   "outputs": [],
   "metadata": {}
  },
  {
   "cell_type": "code",
   "execution_count": 27,
   "source": [
    "address=soup.find(\"div\",\"word-break--2nyVq value--1lKHt\").text.strip()\r\n",
    "address"
   ],
   "outputs": [
    {
     "output_type": "execute_result",
     "data": {
      "text/plain": [
       "'Habarakada'"
      ]
     },
     "metadata": {},
     "execution_count": 27
    }
   ],
   "metadata": {}
  },
  {
   "cell_type": "code",
   "execution_count": 28,
   "source": [
    "bed=soup.find(\"div\",\"word-break--2nyVq value--1lKHt\").text.strip()\r\n",
    "bed"
   ],
   "outputs": [
    {
     "output_type": "execute_result",
     "data": {
      "text/plain": [
       "'Habarakada'"
      ]
     },
     "metadata": {},
     "execution_count": 28
    }
   ],
   "metadata": {}
  },
  {
   "cell_type": "code",
   "execution_count": null,
   "source": [],
   "outputs": [],
   "metadata": {}
  }
 ],
 "metadata": {
  "orig_nbformat": 4,
  "language_info": {
   "name": "python",
   "version": "3.7.6",
   "mimetype": "text/x-python",
   "codemirror_mode": {
    "name": "ipython",
    "version": 3
   },
   "pygments_lexer": "ipython3",
   "nbconvert_exporter": "python",
   "file_extension": ".py"
  },
  "kernelspec": {
   "name": "python3",
   "display_name": "Python 3.7.6 64-bit ('base': conda)"
  },
  "interpreter": {
   "hash": "8867321196b4aed495a8cb57ae795b5cb9f69b50030feb2979c26ed6dde2da6a"
  }
 },
 "nbformat": 4,
 "nbformat_minor": 2
}