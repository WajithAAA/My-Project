{
 "metadata": {
  "language_info": {
   "codemirror_mode": {
    "name": "ipython",
    "version": 3
   },
   "file_extension": ".py",
   "mimetype": "text/x-python",
   "name": "python",
   "nbconvert_exporter": "python",
   "pygments_lexer": "ipython3",
   "version": "3.7.6"
  },
  "orig_nbformat": 2,
  "kernelspec": {
   "name": "python3",
   "display_name": "Python 3.7.6 64-bit ('base': conda)"
  },
  "interpreter": {
   "hash": "8867321196b4aed495a8cb57ae795b5cb9f69b50030feb2979c26ed6dde2da6a"
  }
 },
 "nbformat": 4,
 "nbformat_minor": 2,
 "cells": [
  {
   "cell_type": "code",
   "execution_count": 1,
   "source": [
    "import requests\r\n",
    "from bs4 import BeautifulSoup\r\n",
    "from nltk.tokenize import word_tokenize \r\n",
    "import pandas as pd\r\n",
    "import csv"
   ],
   "outputs": [],
   "metadata": {}
  },
  {
   "cell_type": "code",
   "execution_count": 2,
   "source": [
    "url = \"https://house.lk/\""
   ],
   "outputs": [],
   "metadata": {}
  },
  {
   "cell_type": "code",
   "execution_count": 3,
   "source": [
    "headers = {\r\n",
    "    \"User-Agent\": \"Mozilla/5.0 (Windows NT 10.0; Win64; x64) AppleWebKit/537.36 (KHTML, like Gecko) Chrome/74.0.3729.169 Safari/537.36\"\r\n",
    "}"
   ],
   "outputs": [],
   "metadata": {}
  },
  {
   "cell_type": "code",
   "execution_count": 30,
   "source": [
    "houselinks = []\r\n",
    "## 19 houses in one page total 4500 houses  \r\n",
    "for page in range(1,5):\r\n",
    "        r = requests.get(f\"https://house.lk/sale/house/page/{page}/\")\r\n",
    "        soup = BeautifulSoup(r.content,\"lxml\")\r\n",
    "        houselist=soup.find_all(\"div\",class_=\"property_listing_details\")\r\n",
    "        for item in houselist:\r\n",
    "            for link in item.find_all(\"a\",href=True):\r\n",
    "                houselinks.append(url + link[\"href\"])"
   ],
   "outputs": [],
   "metadata": {}
  },
  {
   "cell_type": "code",
   "execution_count": 31,
   "source": [
    "len(houselinks)"
   ],
   "outputs": [
    {
     "output_type": "execute_result",
     "data": {
      "text/plain": [
       "80"
      ]
     },
     "metadata": {},
     "execution_count": 31
    }
   ],
   "metadata": {}
  },
  {
   "cell_type": "code",
   "execution_count": 32,
   "source": [
    "homelists = []\r\n",
    "\r\n",
    "for link in houselinks:\r\n",
    "    r = requests.get(link, headers=headers)\r\n",
    "    soup = BeautifulSoup(r.content, \"lxml\")\r\n",
    "    try:\r\n",
    "        Type=soup.find(\"div\",\"property_title_label actioncat\").text.strip()\r\n",
    "        address=soup.find(\"div\",\"property_categs\").text.strip()\r\n",
    "        Details=soup.find_all(\"div\",class_=\"listing_detail col-md-6\")\r\n",
    "        Area_of_land=word_tokenize(Details[2].text)[4]\r\n",
    "        Bedrooms=word_tokenize(Details[3].text)[2]\r\n",
    "        Bathrooms=word_tokenize(Details[3].text)[2]\r\n",
    "        HouseSize=soup.find_all(\"ul\",class_=\"overview_element\")[2].text.strip()\r\n",
    "        #No_of_floors=word_tokenize(Details[5].text)[5]\r\n",
    "\r\n",
    "        Advertiser=soup.find(\"div\",\"col-md-7 agent_details\").h3.text.strip()\r\n",
    "        contact_num=soup.find(\"span\",\"phonenum\").text.strip()\r\n",
    "        Price=word_tokenize(soup.find(\"div\",\"price_area\").text.strip())[2]\r\n",
    "\r\n",
    "    except:\r\n",
    "        Area_of_land=\" \"\r\n",
    "        Bedrooms=\" \"\r\n",
    "        Bathrooms=\" \"\r\n",
    "        #No_of_floors=\" \"\r\n",
    "        HouseSize=\" \"\r\n",
    "        address = \" \"\r\n",
    "        Advertiser= \" \"\r\n",
    "        contact_num= \" \"\r\n",
    "    \r\n",
    "    home={\r\n",
    "        \"Property_Type\":Type,\r\n",
    "        'address':address,\r\n",
    "        'Area_of_land':Area_of_land,\r\n",
    "        'Bedrooms':Bedrooms,\r\n",
    "        'Bathrooms':Bathrooms,\r\n",
    "        \"HouseSize\":HouseSize,\r\n",
    "        #'No_of_floors':No_of_floors,\r\n",
    "        'Advertiser':Advertiser,\r\n",
    "        'contact_num':contact_num,\r\n",
    "        'Price':Price\r\n",
    "        }\r\n",
    "    homelists.append(home)\r\n",
    "    print(\"Saving:\",home[\"Price\"])\r\n",
    "\r\n",
    "\r\n",
    "#with open(\"House.csv\",'w',newline=\"\",encoding=\"utf-8\") as f:\r\n",
    "#    writer = csv.writer(f)\r\n",
    "#    writer.writerow(['Property_Type','address','Bedrooms','Bathrooms','Advertiser','contact_num','Price'])\r\n",
    "#    writer.writerows(homelists) \r\n"
   ],
   "outputs": [
    {
     "output_type": "stream",
     "name": "stdout",
     "text": [
      "Saving: 50,000,000\n",
      "Saving: 50,000,000\n",
      "Saving: 27,500,000\n",
      "Saving: 100,000,000\n",
      "Saving: 148,000,000\n",
      "Saving: 148,000,000\n",
      "Saving: 148,000,000\n",
      "Saving: 148,000,000\n",
      "Saving: 21,750,000\n",
      "Saving: 42,500,000\n",
      "Saving: 26,000,000\n",
      "Saving: 58,500,000\n",
      "Saving: 58,500,000\n",
      "Saving: 58,500,000\n",
      "Saving: 58,500,000\n",
      "Saving: 30,300,000\n",
      "Saving: 46,200,000\n",
      "Saving: 46,200,000\n",
      "Saving: 20,000,000\n",
      "Saving: 45,000,000\n",
      "Saving: 50,000,000\n",
      "Saving: 100,000,000\n",
      "Saving: 100,000,000\n",
      "Saving: 48,500,000\n",
      "Saving: 85,000,000\n",
      "Saving: 45,402,000\n",
      "Saving: 36,000,000\n",
      "Saving: 42,500,000\n",
      "Saving: 37,000,000\n",
      "Saving: 272,875,000\n",
      "Saving: 179,000,000\n",
      "Saving: 85,000,000\n",
      "Saving: 13,850,000\n",
      "Saving: 45,000,000\n",
      "Saving: 33,000,000\n",
      "Saving: 21,500,000\n",
      "Saving: 21,500,000\n",
      "Saving: 145,000,000\n",
      "Saving: 48,000,000\n",
      "Saving: 80,000,000\n",
      "Saving: 42,500,000\n",
      "Saving: 18,500,000\n",
      "Saving: 18,500,000\n",
      "Saving: 18,500,000\n",
      "Saving: 18,500,000\n",
      "Saving: 18,500,000\n",
      "Saving: 170,000,000\n",
      "Saving: 170,000,000\n",
      "Saving: 40,000,000\n",
      "Saving: 42,500,000\n",
      "Saving: 18,000,000\n",
      "Saving: 50,000,000\n",
      "Saving: 50,000,000\n",
      "Saving: 36,500,000\n",
      "Saving: 11,000,000\n",
      "Saving: 11,000,000\n",
      "Saving: 11,000,000\n",
      "Saving: 40,000,000\n",
      "Saving: 295,000,000\n",
      "Saving: 46,000,000\n",
      "Saving: 50,000,000\n",
      "Saving: 19,500,000\n",
      "Saving: 283,200,000\n",
      "Saving: 283,200,000\n",
      "Saving: 283,200,000\n",
      "Saving: 283,200,000\n",
      "Saving: 283,200,000\n",
      "Saving: 283,200,000\n",
      "Saving: 283,200,000\n",
      "Saving: 283,200,000\n",
      "Saving: 283,200,000\n",
      "Saving: 283,200,000\n",
      "Saving: 283,200,000\n",
      "Saving: 49,500,000\n",
      "Saving: 115,000,000\n",
      "Saving: 55,000,000\n",
      "Saving: 240,000,000\n",
      "Saving: 600,000\n",
      "Saving: 35,000,000\n",
      "Saving: 18,500,000\n"
     ]
    }
   ],
   "metadata": {
    "tags": []
   }
  },
  {
   "cell_type": "code",
   "execution_count": 33,
   "source": [
    "df=pd.DataFrame(homelists)"
   ],
   "outputs": [],
   "metadata": {}
  },
  {
   "cell_type": "code",
   "execution_count": 34,
   "source": [
    "df.shape"
   ],
   "outputs": [
    {
     "output_type": "execute_result",
     "data": {
      "text/plain": [
       "(80, 9)"
      ]
     },
     "metadata": {},
     "execution_count": 34
    }
   ],
   "metadata": {}
  },
  {
   "cell_type": "code",
   "execution_count": 35,
   "source": [
    "df.head()"
   ],
   "outputs": [
    {
     "output_type": "execute_result",
     "data": {
      "text/plain": [
       "  Property_Type                                       address Area_of_land  \\\n",
       "0         House                                                              \n",
       "1         House                                                              \n",
       "2         House  Vidyala road, Bandarawatha, GAMPAHA, Gampaha           15   \n",
       "3         House                                      Nugegoda         10.5   \n",
       "4         House                                        Nawala           20   \n",
       "\n",
       "  Bedrooms Bathrooms             HouseSize            Advertiser  \\\n",
       "0                                                                  \n",
       "1                                                                  \n",
       "2        3        of  2 Car parking spaces  Vindana Wijayakantha   \n",
       "3        3        of  2 Car parking spaces    Kapila Sugathadasa   \n",
       "4        5        of  4 Car parking spaces     Aus Ceylon Realty   \n",
       "\n",
       "       contact_num        Price  \n",
       "0                    50,000,000  \n",
       "1                    50,000,000  \n",
       "2  +94 773 610 608   27,500,000  \n",
       "3  +94 775 522 618  100,000,000  \n",
       "4  +94 771 401 580  148,000,000  "
      ],
      "text/html": [
       "<div>\n",
       "<style scoped>\n",
       "    .dataframe tbody tr th:only-of-type {\n",
       "        vertical-align: middle;\n",
       "    }\n",
       "\n",
       "    .dataframe tbody tr th {\n",
       "        vertical-align: top;\n",
       "    }\n",
       "\n",
       "    .dataframe thead th {\n",
       "        text-align: right;\n",
       "    }\n",
       "</style>\n",
       "<table border=\"1\" class=\"dataframe\">\n",
       "  <thead>\n",
       "    <tr style=\"text-align: right;\">\n",
       "      <th></th>\n",
       "      <th>Property_Type</th>\n",
       "      <th>address</th>\n",
       "      <th>Area_of_land</th>\n",
       "      <th>Bedrooms</th>\n",
       "      <th>Bathrooms</th>\n",
       "      <th>HouseSize</th>\n",
       "      <th>Advertiser</th>\n",
       "      <th>contact_num</th>\n",
       "      <th>Price</th>\n",
       "    </tr>\n",
       "  </thead>\n",
       "  <tbody>\n",
       "    <tr>\n",
       "      <th>0</th>\n",
       "      <td>House</td>\n",
       "      <td></td>\n",
       "      <td></td>\n",
       "      <td></td>\n",
       "      <td></td>\n",
       "      <td></td>\n",
       "      <td></td>\n",
       "      <td></td>\n",
       "      <td>50,000,000</td>\n",
       "    </tr>\n",
       "    <tr>\n",
       "      <th>1</th>\n",
       "      <td>House</td>\n",
       "      <td></td>\n",
       "      <td></td>\n",
       "      <td></td>\n",
       "      <td></td>\n",
       "      <td></td>\n",
       "      <td></td>\n",
       "      <td></td>\n",
       "      <td>50,000,000</td>\n",
       "    </tr>\n",
       "    <tr>\n",
       "      <th>2</th>\n",
       "      <td>House</td>\n",
       "      <td>Vidyala road, Bandarawatha, GAMPAHA, Gampaha</td>\n",
       "      <td>15</td>\n",
       "      <td>3</td>\n",
       "      <td>of</td>\n",
       "      <td>2 Car parking spaces</td>\n",
       "      <td>Vindana Wijayakantha</td>\n",
       "      <td>+94 773 610 608</td>\n",
       "      <td>27,500,000</td>\n",
       "    </tr>\n",
       "    <tr>\n",
       "      <th>3</th>\n",
       "      <td>House</td>\n",
       "      <td>Nugegoda</td>\n",
       "      <td>10.5</td>\n",
       "      <td>3</td>\n",
       "      <td>of</td>\n",
       "      <td>2 Car parking spaces</td>\n",
       "      <td>Kapila Sugathadasa</td>\n",
       "      <td>+94 775 522 618</td>\n",
       "      <td>100,000,000</td>\n",
       "    </tr>\n",
       "    <tr>\n",
       "      <th>4</th>\n",
       "      <td>House</td>\n",
       "      <td>Nawala</td>\n",
       "      <td>20</td>\n",
       "      <td>5</td>\n",
       "      <td>of</td>\n",
       "      <td>4 Car parking spaces</td>\n",
       "      <td>Aus Ceylon Realty</td>\n",
       "      <td>+94 771 401 580</td>\n",
       "      <td>148,000,000</td>\n",
       "    </tr>\n",
       "  </tbody>\n",
       "</table>\n",
       "</div>"
      ]
     },
     "metadata": {},
     "execution_count": 35
    }
   ],
   "metadata": {}
  },
  {
   "cell_type": "code",
   "execution_count": 37,
   "source": [
    "df=df.to_csv(r\"D:\\R & D PROJECT\\Code File\\WebScraping\\HOUSE_Sample.CSV\")"
   ],
   "outputs": [],
   "metadata": {}
  },
  {
   "cell_type": "markdown",
   "source": [
    "## Test the Features of the house"
   ],
   "metadata": {}
  },
  {
   "cell_type": "code",
   "execution_count": null,
   "source": [],
   "outputs": [],
   "metadata": {}
  },
  {
   "cell_type": "code",
   "execution_count": null,
   "source": [],
   "outputs": [],
   "metadata": {}
  },
  {
   "cell_type": "code",
   "execution_count": null,
   "source": [],
   "outputs": [],
   "metadata": {}
  },
  {
   "cell_type": "code",
   "execution_count": 4,
   "source": [
    "\r\n",
    "## test link represent the house[0]\r\n",
    "testlink=\"https://house.lk/details/luxury-house-for-sale-with-furniture-441787/\"\r\n",
    "r = requests.get(testlink, headers=headers)\r\n",
    "soup = BeautifulSoup(r.content, \"lxml\")\r\n",
    "\r\n",
    "\r\n",
    "Type=soup.find(\"div\",\"property_title_label actioncat\").text.strip()\r\n",
    "address=soup.find(\"div\",\"property_categs\").text.strip()\r\n",
    "Details=soup.find_all(\"div\",class_=\"listing_detail col-md-6\")\r\n",
    "Area_of_land=word_tokenize(Details[2].text)[4]\r\n",
    "Bathrooms=word_tokenize(Details[3].text)[2]\r\n",
    "b=word_tokenize(Details[4].text)[2]\r\n",
    "\r\n",
    "\r\n",
    "\r\n",
    "\r\n",
    "contact_num=soup.find(\"span\",\"phonenum\").text.strip()\r\n",
    "Price=word_tokenize(soup.find(\"div\",\"price_area\").text.strip())[2]"
   ],
   "outputs": [],
   "metadata": {}
  },
  {
   "cell_type": "code",
   "execution_count": 7,
   "source": [
    "Details"
   ],
   "outputs": [
    {
     "output_type": "execute_result",
     "data": {
      "text/plain": [
       "[<div class=\"listing_detail col-md-6\"><strong>Property Type:</strong> House</div>,\n",
       " <div class=\"listing_detail col-md-6\"><strong>Price:</strong> Rs. 57,000,000 ($ 286,350)   </div>,\n",
       " <div class=\"listing_detail col-md-6\"><strong>Area of land:</strong> 80 perches</div>,\n",
       " <div class=\"listing_detail col-md-6\"><strong>Bathrooms/WCs:</strong> 8</div>,\n",
       " <div class=\"listing_detail col-md-6\"><strong>No. of floors:</strong> 2</div>,\n",
       " <div class=\"listing_detail col-md-6\"><strong>Nearest bus stop:</strong> 100m</div>,\n",
       " <div class=\"listing_detail col-md-6\"><strong>Nearest train station:</strong> 15km</div>,\n",
       " <div class=\"listing_detail col-md-6\"><strong>Availability:</strong> Available now</div>]"
      ]
     },
     "metadata": {},
     "execution_count": 7
    }
   ],
   "metadata": {}
  },
  {
   "cell_type": "code",
   "execution_count": 51,
   "source": [
    "HouseSize=soup.find_all(\"ul\",class_=\"overview_element\")[2].text.strip()\r\n",
    "HouseSize"
   ],
   "outputs": [
    {
     "output_type": "execute_result",
     "data": {
      "text/plain": [
       "'3500 sq.ft.'"
      ]
     },
     "metadata": {},
     "execution_count": 51
    }
   ],
   "metadata": {}
  },
  {
   "cell_type": "code",
   "execution_count": 10,
   "source": [
    "Details=soup.find_all(\"div\",class_=\"single-overview-section panel-group property-panel\")\r\n",
    "Details"
   ],
   "outputs": [
    {
     "output_type": "execute_result",
     "data": {
      "text/plain": [
       "[]"
      ]
     },
     "metadata": {},
     "execution_count": 10
    }
   ],
   "metadata": {}
  },
  {
   "cell_type": "code",
   "execution_count": 23,
   "source": [
    "Details=soup.find_all(\"div\",class_=\"listing_detail col-md-6\")\r\n",
    "Bedrooms=word_tokenize(Details[3].text)[2]"
   ],
   "outputs": [],
   "metadata": {}
  },
  {
   "cell_type": "code",
   "execution_count": 19,
   "source": [
    "Advertiser=soup.find(\"div\",\"col-md-7 agent_details\").h3.text.strip()"
   ],
   "outputs": [],
   "metadata": {}
  },
  {
   "cell_type": "code",
   "execution_count": 20,
   "source": [
    "Advertiser"
   ],
   "outputs": [
    {
     "output_type": "execute_result",
     "data": {
      "text/plain": [
       "'Western City Properties'"
      ]
     },
     "metadata": {},
     "execution_count": 20
    }
   ],
   "metadata": {}
  },
  {
   "cell_type": "code",
   "execution_count": null,
   "source": [],
   "outputs": [],
   "metadata": {}
  }
 ]
}