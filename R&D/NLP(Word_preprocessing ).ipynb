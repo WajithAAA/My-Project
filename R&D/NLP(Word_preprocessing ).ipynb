{
 "cells": [
  {
   "cell_type": "markdown",
   "source": [
    "# Natural Language Processing"
   ],
   "metadata": {}
  },
  {
   "cell_type": "markdown",
   "source": [
    "# This notebook is for Text prepocessing using NLTK library\r\n",
    "# Here we follow the processes to clean the textual data for our final output database\r\n",
    "1. Import needed libraries\r\n",
    "2. Open text file\r\n",
    "3. remove newlines, join the text based of advertise & normalize (lowercase) the text\r\n",
    "4. Contractions Replacement & Replace Important text for variable.\r\n",
    "5. Punctuations Removal\r\n",
    "6. tokenize the word, stop words & custom words removal\r\n",
    "7. Repeating characters removal (Typeing errors Ex: Bedrooom - Bedroom)\r\n",
    "8. Check the spelling of words and correct them\r\n",
    "9. Merge the tokenize text to list\r\n",
    "10. Replace word numbers to integer numbers\r\n",
    "11. Lemmitizations"
   ],
   "metadata": {}
  },
  {
   "cell_type": "markdown",
   "source": [
    "# Libararies"
   ],
   "metadata": {}
  },
  {
   "cell_type": "code",
   "execution_count": 982,
   "source": [
    "import nltk\r\n",
    "from nltk.tokenize import word_tokenize\r\n",
    "import pandas as pd\r\n",
    "import re\r\n",
    "from nltk.corpus import stopwords\r\n",
    "from itertools import groupby"
   ],
   "outputs": [],
   "metadata": {}
  },
  {
   "cell_type": "code",
   "execution_count": 983,
   "source": [
    "# Open text file\r\n",
    "with open(r\"D:\\R & D PROJECT\\Test_text\\Test_Text.txt\", \"r\") as filename:\r\n",
    "    advertise_lines = filename.readlines()"
   ],
   "outputs": [],
   "metadata": {}
  },
  {
   "cell_type": "markdown",
   "source": [
    "# Text Preprocessing"
   ],
   "metadata": {}
  },
  {
   "cell_type": "code",
   "execution_count": 984,
   "source": [
    "advertise_lines[:5]"
   ],
   "outputs": [
    {
     "output_type": "execute_result",
     "data": {
      "text/plain": [
       "['new line\\n',\n",
       " 'TWO STOREY HOUSE FOR SALE - NEGONBO\\n',\n",
       " '\\n',\n",
       " 'Two storey air conditioned house for sale\\n',\n",
       " '\\n']"
      ]
     },
     "metadata": {},
     "execution_count": 984
    }
   ],
   "metadata": {}
  },
  {
   "cell_type": "markdown",
   "source": [
    "# Remove new lines and join the text"
   ],
   "metadata": {}
  },
  {
   "cell_type": "code",
   "execution_count": 985,
   "source": [
    "# Join the lines and Remove punctuation\r\n",
    "newline = \"\\n\".join ([line.strip() for line in advertise_lines])\r\n",
    "combine_ad_lst = []\r\n",
    "for line in newline.split(\"new line\"):\r\n",
    "    if not line.strip():\r\n",
    "            continue\r\n",
    "    combine_ad_lst.append(line.lstrip().lower())\r\n",
    "ad_list = [new.replace(\"\\n\", \" \") for new in combine_ad_lst]"
   ],
   "outputs": [],
   "metadata": {}
  },
  {
   "cell_type": "code",
   "execution_count": 986,
   "source": [
    "ad_list[1]"
   ],
   "outputs": [
    {
     "output_type": "execute_result",
     "data": {
      "text/plain": [
       "'ratmalana  house for sale  ratmalana - borupana road 11.8 perches land and house for sale. 3 bedrooms, 2 toilets (one attached) hall, dining hal!, pantry and kitchen.  wall right round with front garden, rear garden and with two court yards walking distance to cargills super and kdu. rs. 32 million, negotiable. no brokers, only genuine buyers.  077°38 90 545   '"
      ]
     },
     "metadata": {},
     "execution_count": 986
    }
   ],
   "metadata": {}
  },
  {
   "cell_type": "code",
   "execution_count": 987,
   "source": [
    "len(ad_list)"
   ],
   "outputs": [
    {
     "output_type": "execute_result",
     "data": {
      "text/plain": [
       "178"
      ]
     },
     "metadata": {},
     "execution_count": 987
    }
   ],
   "metadata": {}
  },
  {
   "cell_type": "markdown",
   "source": [
    "# Punctuations"
   ],
   "metadata": {}
  },
  {
   "cell_type": "code",
   "execution_count": 988,
   "source": [
    "import string\r\n",
    "string.punctuation"
   ],
   "outputs": [
    {
     "output_type": "execute_result",
     "data": {
      "text/plain": [
       "'!\"#$%&\\'()*+,-./:;<=>?@[\\\\]^_`{|}~'"
      ]
     },
     "metadata": {},
     "execution_count": 988
    }
   ],
   "metadata": {}
  },
  {
   "cell_type": "code",
   "execution_count": 992,
   "source": [
    "def clean(punlist):\r\n",
    "    punc_clean_lst = []\r\n",
    "    punc = '''!\"#$%&\\'()*+,-‘./:;<=>?@[\\\\]^_`¢{|}~«»—©®°'''\r\n",
    "    for text in punlist:\r\n",
    "        text_punc = \"\".join([word for word in text if word not in punc])\r\n",
    "        singl_char = ' '.join( [re.sub(r\"\\b[a-zA-Z]\\b\", \"\", w) for w in text_punc.split()]) # remove singel string character only \r\n",
    "        num_char = re.sub(r'(?<=\\d) (?=\\d)', '', singl_char)\r\n",
    "        punc_clean_lst.append(num_char)\r\n",
    "    return punc_clean_lst\r\n",
    "punc_clean_lst=clean(ad_list)"
   ],
   "outputs": [],
   "metadata": {}
  },
  {
   "cell_type": "code",
   "execution_count": 993,
   "source": [
    "punc_clean_lst[:5]"
   ],
   "outputs": [
    {
     "output_type": "execute_result",
     "data": {
      "text/plain": [
       "['two storey house for sale negonbo two storey air conditioned house for sale at thushara mawatha 2 mins to negombo colombo road 5 mins to negombo town lobby living dinningki kitchen pantry balcony 4 bed rooms 3 bathrooms 3000 sq feet solar power hot water’ system nmatap water with upper down tanks garbage service 3 times  week land area 12 perches price 28000000 negotiable tel 07653312545',\n",
       " 'ratmalana house for sale ratmalana borupana road 118 perches land and house for sale 3 bedrooms 2 toilets one attached hall dining hal pantry and kitchen wall right round with front garden rear garden and with two court yards walking distance to cargills super and kdu rs 32 million negotiable no brokers only genuine buyers 0773890545',\n",
       " 'katubedda pbalwis perera mawatha 300  from galle road 4 spacious bedrooms 2 attached bathrooms large living and dining area spacious pantry outside extra kitchen toilet garage parapet wall around 19 perches asking price 360 lakhs inspection by appointment only oyvar ery aeye',\n",
       " 'modern luxury house for rent in colombo 6  2500saft 4bedrooms with ac 3bathrooms with hot  water parking for 2 with rollef shutter gate iz unfurnished upstair house   rent 225k pm negotiable garden backyard available contact 0773867704',\n",
       " 'kotagedara piliyandala modern house 2 bedroomed in 6p complete ac cctv wiremesh with razor blades arround the boundary wall wall cupboards in tws vo beara rol roller gate fully tiled  the upper floor complete with slab for immediate sale 3 owner migrating bathroom one with shower cubicle and servants wash room 0777668357 kotagedara piliyandala']"
      ]
     },
     "metadata": {},
     "execution_count": 993
    }
   ],
   "metadata": {}
  },
  {
   "cell_type": "markdown",
   "source": [
    "# Contractions replacement "
   ],
   "metadata": {}
  },
  {
   "cell_type": "code",
   "execution_count": 994,
   "source": [
    "replacement_patterns = [\r\n",
    "                (r'won\\'t', 'will not'),\r\n",
    "                (r'can\\'t', 'cannot'),\r\n",
    "                (r'i\\'m', 'i am'),\r\n",
    "                (r'ain\\'t', 'is not'),\r\n",
    "                (r'(\\w+)\\'ll', '\\g<1> will'),\r\n",
    "                (r'(\\w+)n\\'t', '\\g<1> not'),\r\n",
    "                (r'(\\w+)\\'ve', '\\g<1> have'),\r\n",
    "                (r'(\\w+)\\'s', '\\g<1> is'),\r\n",
    "                (r'(\\w+)\\'re', '\\g<1> are'),\r\n",
    "                (r'(\\w+)\\'d', '\\g<1> would')\r\n",
    "                ]"
   ],
   "outputs": [],
   "metadata": {}
  },
  {
   "cell_type": "code",
   "execution_count": 995,
   "source": [
    "class RegexpReplacer(object):\r\n",
    "    def __init__(self, patterns=replacement_patterns):\r\n",
    "        self.patterns = [(re.compile(regex), repl) for (regex, repl) in patterns]\r\n",
    "    \r\n",
    "    def replace(self, text):\r\n",
    "        s = text\r\n",
    "        for (pattern, repl) in self.patterns:\r\n",
    "            s = re.sub(pattern, repl, s)\r\n",
    "        return s\r\n",
    "\r\n",
    "replacer = RegexpReplacer()\r\n",
    "cont_rep_lst = [replacer.replace(contraction) for contraction in punc_clean_lst]"
   ],
   "outputs": [],
   "metadata": {}
  },
  {
   "cell_type": "code",
   "execution_count": 996,
   "source": [
    "cont_rep_lst[1]"
   ],
   "outputs": [
    {
     "output_type": "execute_result",
     "data": {
      "text/plain": [
       "'ratmalana house for sale ratmalana borupana road 118 perches land and house for sale 3 bedrooms 2 toilets one attached hall dining hal pantry and kitchen wall right round with front garden rear garden and with two court yards walking distance to cargills super and kdu rs 32 million negotiable no brokers only genuine buyers 0773890545'"
      ]
     },
     "metadata": {},
     "execution_count": 996
    }
   ],
   "metadata": {}
  },
  {
   "cell_type": "markdown",
   "source": [
    "# Word tokenize and Stop word removal"
   ],
   "metadata": {}
  },
  {
   "cell_type": "code",
   "execution_count": 997,
   "source": [
    "custom_stop = ['sale','rent','phone','date','email','please','call','details','sri' ,'lanka','style','beautiful','modern','contact','attached','new','brand']"
   ],
   "outputs": [],
   "metadata": {}
  },
  {
   "cell_type": "code",
   "execution_count": 998,
   "source": [
    "def preprocessing(textlist):\r\n",
    "\r\n",
    "    word_token =[]\r\n",
    "    for lists in textlist:\r\n",
    "        word_token.append(word_tokenize(lists))\r\n",
    "\r\n",
    "    \r\n",
    "    tokenized_word = [[] for i in range(len(word_token))]\r\n",
    "    stop = stopwords.words('english')\r\n",
    "    stop.extend(custom_stop)\r\n",
    "    for i in range(len(word_token)):\r\n",
    "        for lst in word_token[i]: \r\n",
    "            if lst not in stop:\r\n",
    "                tokenized_word[i].append(lst)\r\n",
    "                \r\n",
    "    return tokenized_word\r\n",
    "tokenize_list=preprocessing(cont_rep_lst)\r\n",
    "col_cleaned_list = [lst for lst in tokenize_list if len(lst)>15] # 2 pages pdf splited as 2 images so remove non content set\r\n",
    "cont_num_trim_list = [[s[:10] if s.isdigit() else s for s in sub] for sub in col_cleaned_list]"
   ],
   "outputs": [],
   "metadata": {}
  },
  {
   "cell_type": "code",
   "execution_count": 999,
   "source": [
    "print(cont_num_trim_list[1])"
   ],
   "outputs": [
    {
     "output_type": "stream",
     "name": "stdout",
     "text": [
      "['ratmalana', 'house', 'ratmalana', 'borupana', 'road', '118', 'perches', 'land', 'house', '3', 'bedrooms', '2', 'toilets', 'one', 'hall', 'dining', 'hal', 'pantry', 'kitchen', 'wall', 'right', 'round', 'front', 'garden', 'rear', 'garden', 'two', 'court', 'yards', 'walking', 'distance', 'cargills', 'super', 'kdu', 'rs', '32', 'million', 'negotiable', 'brokers', 'genuine', 'buyers', '0773890545']\n"
     ]
    }
   ],
   "metadata": {}
  },
  {
   "cell_type": "markdown",
   "source": [
    "# Separate the numbers and sting from the list"
   ],
   "metadata": {}
  },
  {
   "cell_type": "code",
   "execution_count": 1000,
   "source": [
    "sep_num_char_lst = []\r\n",
    "for lsts in cont_num_trim_list:\r\n",
    "    charnum_lst = [[''.join(g) for _, g in groupby(num_char, str.isalpha)] for num_char in lsts]\r\n",
    "    comp_lst = [char for sep_char in charnum_lst for char in sep_char]\r\n",
    "    sep_num_char_lst.append(comp_lst)\r\n",
    "print(sep_num_char_lst[1])"
   ],
   "outputs": [
    {
     "output_type": "stream",
     "name": "stdout",
     "text": [
      "['ratmalana', 'house', 'ratmalana', 'borupana', 'road', '118', 'perches', 'land', 'house', '3', 'bedrooms', '2', 'toilets', 'one', 'hall', 'dining', 'hal', 'pantry', 'kitchen', 'wall', 'right', 'round', 'front', 'garden', 'rear', 'garden', 'two', 'court', 'yards', 'walking', 'distance', 'cargills', 'super', 'kdu', 'rs', '32', 'million', 'negotiable', 'brokers', 'genuine', 'buyers', '0773890545']\n"
     ]
    }
   ],
   "metadata": {}
  },
  {
   "cell_type": "code",
   "execution_count": 960,
   "source": [
    "#uniq_val_lst = [list(set(lst)) for lst in prepros_list]    #unique characters"
   ],
   "outputs": [],
   "metadata": {}
  },
  {
   "cell_type": "markdown",
   "source": [
    "# Repeating Charactors"
   ],
   "metadata": {}
  },
  {
   "cell_type": "code",
   "execution_count": 1001,
   "source": [
    "import re\r\n",
    "from nltk.corpus import wordnet\r\n",
    "class RepeatReplacer(object):\r\n",
    "    def __init__(self):\r\n",
    "        self.repeat_regexp = re.compile(r'(\\[a-zA-Z]*)(\\[a-zA-Z])\\2(\\[a-zA-Z]*)')    # 0 or more repeat char in first, middle and last\r\n",
    "        self.repl = r'\\1\\2\\3'\r\n",
    "    def replace(self, word):\r\n",
    "        if wordnet.synsets(word):\r\n",
    "            return word\r\n",
    "        repl_word = self.repeat_regexp.sub(self.repl, word)\r\n",
    "        if repl_word != word:\r\n",
    "            return self.replace(repl_word)\r\n",
    "        else:\r\n",
    "            return repl_word"
   ],
   "outputs": [],
   "metadata": {}
  },
  {
   "cell_type": "code",
   "execution_count": 1002,
   "source": [
    "rep_replacer = RepeatReplacer()\r\n",
    "rep_char_cleaned_lst = [[rep_replacer.replace(txt) for txt in lst] for lst in sep_num_char_lst]\r\n",
    "print(rep_char_cleaned_lst[1])"
   ],
   "outputs": [
    {
     "output_type": "stream",
     "name": "stdout",
     "text": [
      "['ratmalana', 'house', 'ratmalana', 'borupana', 'road', '118', 'perches', 'land', 'house', '3', 'bedrooms', '2', 'toilets', 'one', 'hall', 'dining', 'hal', 'pantry', 'kitchen', 'wall', 'right', 'round', 'front', 'garden', 'rear', 'garden', 'two', 'court', 'yards', 'walking', 'distance', 'cargills', 'super', 'kdu', 'rs', '32', 'million', 'negotiable', 'brokers', 'genuine', 'buyers', '0773890545']\n"
     ]
    }
   ],
   "metadata": {}
  },
  {
   "cell_type": "markdown",
   "source": [
    "# Spelling checking"
   ],
   "metadata": {}
  },
  {
   "cell_type": "code",
   "execution_count": 963,
   "source": [
    "#!pip install pyenchant"
   ],
   "outputs": [],
   "metadata": {}
  },
  {
   "cell_type": "code",
   "execution_count": 1003,
   "source": [
    "import enchant\r\n",
    "from nltk.metrics import edit_distance\r\n",
    "class SpellingReplacer(object):\r\n",
    "    def __init__(self, dict_name='en_GB', max_dist=2):\r\n",
    "        self.spell_dict = enchant.Dict(dict_name)\r\n",
    "        self.max_dist = max_dist\r\n",
    "    def replace(self, word):\r\n",
    "        if self.spell_dict.check(word):\r\n",
    "            return word\r\n",
    "        suggestions = self.spell_dict.suggest(word)\r\n",
    "        if suggestions and edit_distance(word, suggestions[0]) <= self.max_dist:\r\n",
    "            return suggestions[0]\r\n",
    "        else:\r\n",
    "            return word"
   ],
   "outputs": [],
   "metadata": {}
  },
  {
   "cell_type": "code",
   "execution_count": 1004,
   "source": [
    "spel_replacer = SpellingReplacer()\r\n",
    "spell_corr_lst = [[spel_replacer .replace(txt) for txt in lst] for lst in rep_char_cleaned_lst]\r\n",
    "print(spell_corr_lst[1])"
   ],
   "outputs": [
    {
     "output_type": "stream",
     "name": "stdout",
     "text": [
      "['ratmalana', 'house', 'ratmalana', 'borupana', 'road', '118', 'perches', 'land', 'house', '3', 'bedrooms', '2', 'toilets', 'one', 'hall', 'dining', 'Hal', 'pantry', 'kitchen', 'wall', 'right', 'round', 'front', 'garden', 'rear', 'garden', 'two', 'court', 'yards', 'walking', 'distance', 'car gills', 'super', 'kudu', 'rs', '32', 'million', 'negotiable', 'brokers', 'genuine', 'buyers', '0773890545']\n"
     ]
    }
   ],
   "metadata": {}
  },
  {
   "cell_type": "markdown",
   "source": [
    "# Lemmatizing"
   ],
   "metadata": {}
  },
  {
   "cell_type": "code",
   "execution_count": 1005,
   "source": [
    "from textblob import Word\r\n",
    "lem_text = [[] for i in range(len(spell_corr_lst))]\r\n",
    "for i in range(len(spell_corr_lst)):\r\n",
    "    for word in spell_corr_lst[i]:\r\n",
    "        txt = Word(word).lemmatize()\r\n",
    "        lem_text[i].append(txt)"
   ],
   "outputs": [],
   "metadata": {}
  },
  {
   "cell_type": "code",
   "execution_count": 1006,
   "source": [
    "print(lem_text[1])"
   ],
   "outputs": [
    {
     "output_type": "stream",
     "name": "stdout",
     "text": [
      "['ratmalana', 'house', 'ratmalana', 'borupana', 'road', '118', 'perch', 'land', 'house', '3', 'bedroom', '2', 'toilet', 'one', 'hall', 'dining', 'Hal', 'pantry', 'kitchen', 'wall', 'right', 'round', 'front', 'garden', 'rear', 'garden', 'two', 'court', 'yard', 'walking', 'distance', 'car gills', 'super', 'kudu', 'r', '32', 'million', 'negotiable', 'broker', 'genuine', 'buyer', '0773890545']\n"
     ]
    }
   ],
   "metadata": {}
  },
  {
   "cell_type": "markdown",
   "source": [
    "# Merge Tokenize words"
   ],
   "metadata": {}
  },
  {
   "cell_type": "code",
   "execution_count": 1007,
   "source": [
    "def untokenize(ad_lsts):\r\n",
    "    untokized_lst = []\r\n",
    "    for lst in ad_lsts:\r\n",
    "        text = ' '.join(lst)\r\n",
    "        step1 = text.replace(\"`` \", '\"').replace(\" ''\", '\"')\r\n",
    "        step2 = re.sub(r' ([.,:;?!%]+)([ \\'\"`])', r\"\\1\\2\", step1)\r\n",
    "        untokized_lst.append(step2.strip())\r\n",
    "    return untokized_lst"
   ],
   "outputs": [],
   "metadata": {}
  },
  {
   "cell_type": "code",
   "execution_count": 1009,
   "source": [
    "untokenized_lst=untokenize(lem_text)\r\n",
    "untokenized_lst[:5]"
   ],
   "outputs": [
    {
     "output_type": "execute_result",
     "data": {
      "text/plain": [
       "['two storey house negonbo two storey air conditioned house thushara Hiawatha 2 mind negombo Colombo road 5 mind negombo town lobby living dinning ki kitchen pantry balcony 4 bed room 3 bathroom 3000 sq foot solar power hot water e system nmatap water upper tank garbage service 3 time week land area 12 perch price 28000000 negotiable tel 0765331254',\n",
       " 'ratmalana house ratmalana borupana road 118 perch land house 3 bedroom 2 toilet one hall dining Hal pantry kitchen wall right round front garden rear garden two court yard walking distance car gills super kudu r 32 million negotiable broker genuine buyer 0773890545',\n",
       " 'katubedda pbalwis per era Hiawatha 300 Galle road 4 spacious bedroom 2 bathroom large living dining area spacious pantry outside extra kitchen toilet garage parapet wall around 19 perch asking price 360 lakh inspection appointment ovary wry aye',\n",
       " 'luxury house Colombo 6 2500 fast 4 bedroom ac 3 bathroom hot water parking 2 rolled shutter gate oz unfurnished upstairs house 225 k pm negotiable garden backyard available 0773867704',\n",
       " 'kotagedara piliyandala house 2 bed roomed 6 p complete ac cctv wire mesh razor blade around boundary wall wall cupboard t vo bear role roller gate fully tiled upper floor complete slab immediate 3 owner migrating bathroom one shower cubicle servant wash room 0777668357 kotagedara piliyandala']"
      ]
     },
     "metadata": {},
     "execution_count": 1009
    }
   ],
   "metadata": {}
  },
  {
   "cell_type": "markdown",
   "source": [
    "# Custom words replacement"
   ],
   "metadata": {}
  },
  {
   "cell_type": "code",
   "execution_count": 1020,
   "source": [
    "custom_word = [ (r'\\smn', 'million'),\r\n",
    "                (r'\\d\\smillion','000000'),\r\n",
    "                 (r'sq\\sft', 'sqft'),\r\n",
    "                 (r'fast', 'sqft'),\r\n",
    "                 (r'sift', 'sqft'),\r\n",
    "                (r'lkh', 'lakh'),\r\n",
    "                (r'lakh', '00000'),\r\n",
    "                (r'bn', 'billion'),\r\n",
    "                (r'barth', 'bath'),\r\n",
    "                (r'bath\\sroom', 'bathroom'),\r\n",
    "                (r'bed\\sroom', 'bedroom'),\r\n",
    "                (r'toilel', 'bathroom'),\r\n",
    "                (r'wash\\sroom', 'bathroom')\r\n",
    "          ]"
   ],
   "outputs": [],
   "metadata": {}
  },
  {
   "cell_type": "code",
   "execution_count": 1021,
   "source": [
    "class CustomReplacer(object):\r\n",
    "    def __init__(self, patterns=custom_word):\r\n",
    "        self.patterns = [(re.compile(regex), repl) for (regex, repl) in patterns]\r\n",
    "    \r\n",
    "    def replace(self, text):\r\n",
    "        s = text\r\n",
    "        for (pattern, repl) in self.patterns:\r\n",
    "            s = re.sub(pattern, repl, s)\r\n",
    "        return s\r\n",
    "\r\n",
    "replacer = CustomReplacer()\r\n",
    "costum_word_rep_lst = [replacer.replace(contraction) for contraction in untokenized_lst]"
   ],
   "outputs": [],
   "metadata": {}
  },
  {
   "cell_type": "code",
   "execution_count": 1022,
   "source": [
    "costum_word_rep_lst[:10]"
   ],
   "outputs": [
    {
     "output_type": "execute_result",
     "data": {
      "text/plain": [
       "['two storey house negonbo two storey air conditioned house thushara Hiawatha 2 mind negombo Colombo road 5 mind negombo town lobby living dinning ki kitchen pantry balcony 4 bedroom 3 bathroom 3000 sq foot solar power hot water e system nmatap water upper tank garbage service 3 time week land area 12 perch price 28000000 negotiable tel 0765331254',\n",
       " 'ratmalana house ratmalana borupana road 118 perch land house 3 bedroom 2 toilet one hall dining Hal pantry kitchen wall right round front garden rear garden two court yard walking distance car gills super kudu r 3000000 negotiable broker genuine buyer 0773890545',\n",
       " 'katubedda pbalwis per era Hiawatha 300 Galle road 4 spacious bedroom 2 bathroom large living dining area spacious pantry outside extra kitchen toilet garage parapet wall around 19 perch asking price 360 00000 inspection appointment ovary wry aye',\n",
       " 'luxury house Colombo 6 2500 sqft 4 bedroom ac 3 bathroom hot water parking 2 rolled shutter gate oz unfurnished upstairs house 225 k pm negotiable garden backyard available 0773867704',\n",
       " 'kotagedara piliyandala house 2 bedroomed 6 p complete ac cctv wire mesh razor blade around boundary wall wall cupboard t vo bear role roller gate fully tiled upper floor complete slab immediate 3 owner migrating bathroom one shower cubicle servant bathroom 0777668357 kotagedara piliyandala',\n",
       " 'thalawathugoda 75 perch 3100 sqft e 2 foe hanagrohe fug hogan pantile 168 price e 3 provision fer cctv Deena 38 m tegossne 20 h road broker',\n",
       " 'luxury house house desalts 425 perch 8500 sqft malm house ground floor double garage security roomy sitting dinning pantry Chechen servant room toilet bedroom 3 toll sun din first floor cree e TV bothy two room tolgty master rect ar cone in bait solar power annex one parking vehicle location second floor dinning sitting pantry servant room toilet one room tolled master bedroom toilet plus attic air conditioned solar power miscount 5000000 furniture tr ego e 0772626549',\n",
       " 'Colombo 05 exclusive residential area 10 perch 5 bedroom 4 toilet separate servant room toilet covered parking 2 vehicle quick highest bid 0718287756',\n",
       " 'Anuradhapura near wilpattu junction luxury house garden migrate ad ideal fully tied house 4 bedroom 02 bathroom garden filled 8 coconut tree 3 king coconut jack fruit bread fruit fruit mango nellee cherry papaya cashew passion fruit land house 110 perch surrounding air port fencing solar power hot water master bedroom air conditioned aa 171519002 m 9 f domshegilyahooom',\n",
       " '7 g delkanda nugegoda architectural designed 7 spacious bedroom 5 bathroom 2 living room large kitchen sp private garden sea entrance 2 ND floor could used 2 unit business property house 19 perch close proximity high level road 5 udahamulia railway station sri jayawardenepura university bank grocery 8477040155 trave']"
      ]
     },
     "metadata": {},
     "execution_count": 1022
    }
   ],
   "metadata": {}
  },
  {
   "cell_type": "markdown",
   "source": [
    "# Replace word numbers as integer numbers"
   ],
   "metadata": {}
  },
  {
   "cell_type": "code",
   "execution_count": 1023,
   "source": [
    "def text2int(textnum, numwords={}):\r\n",
    "    if not numwords:\r\n",
    "        units = [\r\n",
    "        \"zero\", \"one\", \"two\", \"three\", \"four\", \"five\", \"six\", \"seven\", \"eight\",\r\n",
    "        \"nine\", \"ten\", \"eleven\", \"twelve\", \"thirteen\", \"fourteen\", \"fifteen\",\r\n",
    "        \"sixteen\", \"seventeen\", \"eighteen\", \"nineteen\",\r\n",
    "        ]\r\n",
    "\r\n",
    "        tens = [\"\", \"\", \"twenty\", \"thirty\", \"forty\", \"fifty\", \"sixty\", \"seventy\", \"eighty\", \"ninety\"]\r\n",
    "\r\n",
    "        scales = [\"hundred\", \"thousand\", \"million\", \"billion\", \"trillion\"]\r\n",
    "\r\n",
    "        numwords[\"and\"] = (1, 0)\r\n",
    "        for idx, word in enumerate(units):  numwords[word] = (1, idx)\r\n",
    "        for idx, word in enumerate(tens):       numwords[word] = (1, idx * 10)\r\n",
    "        for idx, word in enumerate(scales): numwords[word] = (10 ** (idx * 3 or 2), 0)\r\n",
    "\r\n",
    "    ordinal_words = {'first':1, 'second':2, 'third':3, 'fifth':5, 'eighth':8, 'ninth':9, 'twelfth':12}\r\n",
    "    ordinal_endings = [('ieth', 'y'), ('th', '')]\r\n",
    "\r\n",
    "    textnum = textnum.replace('-', ' ')\r\n",
    "\r\n",
    "    current = result = 0\r\n",
    "    curstring = \"\"\r\n",
    "    onnumber = False\r\n",
    "    for word in textnum.split():\r\n",
    "        if word in ordinal_words:\r\n",
    "            scale, increment = (1, ordinal_words[word])\r\n",
    "            current = current * scale + increment\r\n",
    "            if scale > 100:\r\n",
    "                result += current\r\n",
    "                current = 0\r\n",
    "            onnumber = True\r\n",
    "        else:\r\n",
    "            for ending, replacement in ordinal_endings:\r\n",
    "                if word.endswith(ending):\r\n",
    "                    word = \"%s%s\" % (word[:-len(ending)], replacement)\r\n",
    "\r\n",
    "            if word not in numwords:\r\n",
    "                if onnumber:\r\n",
    "                    curstring += repr(result + current) + \" \"\r\n",
    "                curstring += word + \" \"\r\n",
    "                result = current = 0\r\n",
    "                onnumber = False\r\n",
    "            else:\r\n",
    "                scale, increment = numwords[word]\r\n",
    "\r\n",
    "                current = current * scale + increment\r\n",
    "                if scale > 100:\r\n",
    "                    result += current\r\n",
    "                    current = 0\r\n",
    "                onnumber = True\r\n",
    "\r\n",
    "    if onnumber:\r\n",
    "        curstring += repr(result + current)\r\n",
    "\r\n",
    "    return curstring\r\n",
    "final_preprocessed_lst = [text2int(text) for text in costum_word_rep_lst] "
   ],
   "outputs": [],
   "metadata": {}
  },
  {
   "cell_type": "code",
   "execution_count": 1025,
   "source": [
    "final_preprocessed_lst[:10]"
   ],
   "outputs": [
    {
     "output_type": "execute_result",
     "data": {
      "text/plain": [
       "['2 storey house negonbo 2 storey air conditioned house thushara Hiawatha 2 mind negombo Colombo road 5 mind negombo town lobby living dinning ki kitchen pantry balcony 4 bedroom 3 bathroom 3000 sq foot solar power hot water e system nmatap water upper tank garbage service 3 time week land area 12 perch price 28000000 negotiable tel 0765331254 ',\n",
       " 'ratmalana house ratmalana borupana road 118 perch land house 3 bedroom 2 toilet 1 hall dining Hal pantry kitchen wall right round front garden rear garden 2 court yard walking distance car gills super kudu r 3000000 negotiable broker genuine buyer 0773890545 ',\n",
       " 'katubedda pbalwis per era Hiawatha 300 Galle road 4 spacious bedroom 2 bathroom large living dining area spacious pantry outside extra kitchen toilet garage parapet wall around 19 perch asking price 360 00000 inspection appointment ovary wry aye ',\n",
       " 'luxury house Colombo 6 2500 sqft 4 bedroom ac 3 bathroom hot water parking 2 rolled shutter gate oz unfurnished upstairs house 225 k pm negotiable garden backyard available 0773867704 ',\n",
       " 'kotagedara piliyandala house 2 bedroomed 6 p complete ac cctv wire mesh razor blade around boundary wall wall cupboard t vo bear role roller gate fully tiled upper floor complete slab immediate 3 owner migrating bathroom 1 shower cubicle servant bathroom 0777668357 kotagedara piliyandala ',\n",
       " 'thalawathugoda 75 perch 3100 sqft e 2 foe hanagrohe fug hogan pantile 168 price e 3 provision fer cctv Deena 38 m tegossne 20 h road broker ',\n",
       " 'luxury house house desalts 425 perch 8500 sqft malm house ground floor double garage security roomy sitting dinning pantry Chechen servant room toilet bedroom 3 toll sun din 1 floor cree e TV bothy 2 room tolgty master rect ar cone in bait solar power annex 1 parking vehicle location 2 floor dinning sitting pantry servant room toilet 1 room tolled master bedroom toilet plus attic air conditioned solar power miscount 5000000 furniture tr ego e 0772626549 ',\n",
       " 'Colombo 05 exclusive residential area 10 perch 5 bedroom 4 toilet separate servant room toilet covered parking 2 vehicle quick highest bid 0718287756 ',\n",
       " 'Anuradhapura near wilpattu junction luxury house garden migrate ad ideal fully tied house 4 bedroom 02 bathroom garden filled 8 coconut tree 3 king coconut jack fruit bread fruit fruit mango nellee cherry papaya cashew passion fruit land house 110 perch surrounding air port fencing solar power hot water master bedroom air conditioned aa 171519002 m 9 f domshegilyahooom ',\n",
       " '7 g delkanda nugegoda architectural designed 7 spacious bedroom 5 bathroom 2 living room large kitchen sp private garden sea entrance 2 ND floor could used 2 unit business property house 19 perch close proximity high level road 5 udahamulia railway station sri jayawardenepura university bank grocery 8477040155 trave ']"
      ]
     },
     "metadata": {},
     "execution_count": 1025
    }
   ],
   "metadata": {}
  },
  {
   "cell_type": "code",
   "execution_count": 1026,
   "source": [
    "len(final_preprocessed_lst)"
   ],
   "outputs": [
    {
     "output_type": "execute_result",
     "data": {
      "text/plain": [
       "157"
      ]
     },
     "metadata": {},
     "execution_count": 1026
    }
   ],
   "metadata": {}
  },
  {
   "cell_type": "markdown",
   "source": [
    "# Save as Text file separately train and test"
   ],
   "metadata": {}
  },
  {
   "cell_type": "code",
   "execution_count": 1030,
   "source": [
    "output_file = r\"D:\\R & D PROJECT\\Test_text\\test_data.txt\"\r\n",
    "f = open(output_file, \"w\")\r\n",
    "for data in final_preprocessed_lst:\r\n",
    "    f.write(\"%s,\\n\"% data)\r\n",
    "f.close()"
   ],
   "outputs": [],
   "metadata": {}
  },
  {
   "cell_type": "code",
   "execution_count": 1031,
   "source": [
    "with open(r\"D:\\R & D PROJECT\\Test_text\\test_data.txt\", \"r\") as filename:\r\n",
    "    train_file = filename.read()"
   ],
   "outputs": [],
   "metadata": {}
  },
  {
   "cell_type": "code",
   "execution_count": 1032,
   "source": [
    "cleaned_text = []\r\n",
    "for line in train_file.split(\",\"):\r\n",
    "    if not line.strip():\r\n",
    "            continue\r\n",
    "    cleaned_text.append(line.lstrip())"
   ],
   "outputs": [],
   "metadata": {}
  },
  {
   "cell_type": "code",
   "execution_count": null,
   "source": [
    "cleaned_text[1]"
   ],
   "outputs": [],
   "metadata": {}
  },
  {
   "cell_type": "code",
   "execution_count": null,
   "source": [],
   "outputs": [],
   "metadata": {}
  }
 ],
 "metadata": {
  "orig_nbformat": 4,
  "language_info": {
   "name": "python",
   "version": "3.7.6",
   "mimetype": "text/x-python",
   "codemirror_mode": {
    "name": "ipython",
    "version": 3
   },
   "pygments_lexer": "ipython3",
   "nbconvert_exporter": "python",
   "file_extension": ".py"
  },
  "kernelspec": {
   "name": "python3",
   "display_name": "Python 3.7.6 64-bit ('base': conda)"
  },
  "interpreter": {
   "hash": "8867321196b4aed495a8cb57ae795b5cb9f69b50030feb2979c26ed6dde2da6a"
  }
 },
 "nbformat": 4,
 "nbformat_minor": 2
}