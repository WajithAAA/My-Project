{
 "metadata": {
  "language_info": {
   "codemirror_mode": {
    "name": "ipython",
    "version": 3
   },
   "file_extension": ".py",
   "mimetype": "text/x-python",
   "name": "python",
   "nbconvert_exporter": "python",
   "pygments_lexer": "ipython3",
   "version": "3.7.6"
  },
  "orig_nbformat": 2,
  "kernelspec": {
   "name": "python3",
   "display_name": "Python 3.7.6 64-bit ('base': conda)"
  },
  "interpreter": {
   "hash": "8867321196b4aed495a8cb57ae795b5cb9f69b50030feb2979c26ed6dde2da6a"
  }
 },
 "nbformat": 4,
 "nbformat_minor": 2,
 "cells": [
  {
   "cell_type": "code",
   "execution_count": 1,
   "source": [
    "# Import libraries \r\n",
    "import nltk\r\n",
    "from nltk.tokenize import word_tokenize, sent_tokenize, regexp_tokenize\r\n",
    "import pandas as pd\r\n",
    "import re\r\n",
    "from nltk.corpus import stopwords\r\n",
    "from nltk.stem import WordNetLemmatizer\r\n",
    "import csv\r\n",
    "import os\r\n",
    "from pdf2image import convert_from_path\r\n",
    "from PIL import Image \r\n",
    "import pytesseract \r\n",
    "import cv2"
   ],
   "outputs": [],
   "metadata": {}
  },
  {
   "cell_type": "markdown",
   "source": [
    " # rename pdf file"
   ],
   "metadata": {}
  },
  {
   "cell_type": "code",
   "execution_count": 3,
   "source": [
    "path_pdf = os.chdir(\"D:\\\\R & D PROJECT\\\\Code File\\\\Samples\\\\PDF\")\r\n",
    "i = 1\r\n",
    "for image in os.listdir(path_pdf):\r\n",
    "    new_name=\"Sample_{}.pdf\".format(i)\r\n",
    "    os.rename(image,new_name)\r\n",
    "\r\n",
    "    i +=1\r\n",
    "print(\"Files Renamed\")"
   ],
   "outputs": [
    {
     "output_type": "stream",
     "name": "stdout",
     "text": [
      "Files Renamed\n"
     ]
    }
   ],
   "metadata": {}
  },
  {
   "cell_type": "markdown",
   "source": [
    "# test the one pdf to png "
   ],
   "metadata": {}
  },
  {
   "cell_type": "code",
   "execution_count": 7,
   "source": [
    "\r\n",
    "#PDF_file = \"D:\\\\R & D PROJECT\\\\Code File\\\\Samples\\\\PDF\\\\Sample_1.pdf\"\r\n",
    "#pages = convert_from_path(PDF_file,poppler_path=r'C:\\Users\\uer\\Downloads\\Compressed\\poppler-0.67.0\\bin')\r\n",
    "#for page in pages:\r\n",
    "#    filename = \"D:\\\\R & D PROJECT\\\\Code File\\\\Samples\\\\Sample2.jpg\"\r\n",
    "#    page.save(filename,\"JPEG\")"
   ],
   "outputs": [],
   "metadata": {}
  },
  {
   "cell_type": "markdown",
   "source": [
    "# PDF to PNG"
   ],
   "metadata": {}
  },
  {
   "cell_type": "code",
   "execution_count": 2,
   "source": [
    "image_counter = 1\r\n",
    "\r\n",
    "PDF_file = os.chdir(\"D:\\\\R & D PROJECT\\\\Code File\\\\Samples\\\\PDF\")\r\n",
    "for item in os.listdir(PDF_file):\r\n",
    "\r\n",
    "    pages = convert_from_path(item,400,poppler_path=r'C:\\Users\\uer\\Downloads\\Compressed\\poppler-0.67.0\\bin')\r\n",
    "    for page in pages:\r\n",
    "        filename = \"D:\\\\R & D PROJECT\\\\Code File\\\\Samples\\\\Pdf_converted_Images\\\\Image_\"+str(image_counter)+\".jpg\"\r\n",
    "        page.save(filename,\"JPEG\")\r\n",
    "        image_counter = image_counter + 1\r\n",
    "\r\n",
    "print(\"Converted all files\")"
   ],
   "outputs": [
    {
     "output_type": "stream",
     "name": "stdout",
     "text": [
      "Converted all files\n"
     ]
    }
   ],
   "metadata": {}
  },
  {
   "cell_type": "markdown",
   "source": [
    "# Filter the Image"
   ],
   "metadata": {}
  },
  {
   "cell_type": "code",
   "execution_count": 15,
   "source": [
    "i = 1\r\n",
    "path_image = os.chdir(\"D:\\\\R & D PROJECT\\\\Code File\\\\Samples\\\\Pdf_converted_Images\")\r\n",
    "for image in os.listdir(path_image):\r\n",
    "    \r\n",
    "    # Color filter\r\n",
    "    img = cv2.imread(image)\r\n",
    "    imgGray = cv2.cvtColor(img, cv2.COLOR_RGB2GRAY)\r\n",
    "    _,thresh = cv2.threshold(imgGray,240,255,cv2.THRESH_BINARY)\r\n",
    "    \r\n",
    "    # Image Resize\r\n",
    "    scale_percent = 0.2\r\n",
    "    weight = int(thresh.shape[1]*scale_percent)\r\n",
    "    height = int(thresh.shape[0]*scale_percent)\r\n",
    "    deminsion = (weight,height)\r\n",
    "\r\n",
    "    # Crop top and bottom unwanted text deminsion\r\n",
    "    imgResized = cv2.resize(thresh, deminsion, interpolation=cv2.INTER_AREA)\r\n",
    "    imgCropped = imgResized[58:1300,0:936]\r\n",
    "\r\n",
    "\r\n",
    "    cv2.imwrite(\"D:\\\\R & D PROJECT\\\\Code File\\\\Samples\\\\PDF_Filter_Image_new\\\\PDF_FilterImage_\"+str(i)+\".jpg\",imgCropped)\r\n",
    "    i += 1\r\n",
    "\r\n",
    "print(\"Process is Done\")"
   ],
   "outputs": [
    {
     "output_type": "stream",
     "name": "stdout",
     "text": [
      "Process is Done\n"
     ]
    }
   ],
   "metadata": {}
  },
  {
   "cell_type": "markdown",
   "source": [
    "# Text Extraction from images"
   ],
   "metadata": {}
  },
  {
   "cell_type": "code",
   "execution_count": 19,
   "source": [
    "outfile = \"D:\\\\R & D PROJECT\\\\Code File\\\\Samples\\\\Text Extracted file\\\\PDF_FltrImages_Text.txt\"\r\n",
    "f = open(outfile, \"a+\")\r\n",
    "\r\n",
    "path_image = os.chdir(\"D:\\\\R & D PROJECT\\\\Code File\\\\Samples\\\\PDF_Filter_Image\")\r\n",
    "count =len(os.listdir(path_image))\r\n",
    "\r\n",
    "\r\n",
    "for i in range(1, count+1): \r\n",
    "   \r\n",
    "    filename = \"D:\\\\R & D PROJECT\\\\Code File\\\\Samples\\\\PDF_Filter_Image\\\\PDF_FilterImage_\"+str(i)+\".jpg\" \r\n",
    "    pytesseract.pytesseract.tesseract_cmd = r'C:\\Program Files\\Tesseract-OCR\\tesseract.exe'\r\n",
    "    text = str(((pytesseract.image_to_string(Image.open(filename)))))  \r\n",
    "    f.write(\"new line\\n\")    \r\n",
    "   \r\n",
    "    f.write(text) \r\n",
    "f.close()\r\n",
    "print(\"Texts are Extracted\")"
   ],
   "outputs": [
    {
     "output_type": "stream",
     "name": "stdout",
     "text": [
      "Texts are Extracted\n"
     ]
    }
   ],
   "metadata": {}
  },
  {
   "cell_type": "code",
   "execution_count": 2,
   "source": [
    "with open(\"D:\\\\R & D PROJECT\\\\Code File\\\\Samples\\\\Text Extracted file\\\\PDF_FilterImages_Text.txt\", \"r\") as filename:\r\n",
    "    lines = filename.readlines()"
   ],
   "outputs": [],
   "metadata": {}
  },
  {
   "cell_type": "code",
   "execution_count": 3,
   "source": [
    "newline = \"\\n\".join ([line.strip() for line in lines])"
   ],
   "outputs": [],
   "metadata": {}
  },
  {
   "cell_type": "code",
   "execution_count": 4,
   "source": [
    "lst = []\r\n",
    "for line in newline.split(\"new line\"):\r\n",
    "    if not line.strip():\r\n",
    "            continue\r\n",
    "    lst.append(line.lstrip().lower())\r\n",
    "newlist = [new.replace(\"\\n\", \" \") for new in lst]"
   ],
   "outputs": [],
   "metadata": {}
  },
  {
   "cell_type": "code",
   "execution_count": 9,
   "source": [
    "newlist[4]"
   ],
   "outputs": [
    {
     "output_type": "execute_result",
     "data": {
      "text/plain": [
       "'maharagama qoupie storied nouse ror — sale    type: sell price: negotiable  features:  additional information  maharagama 500m to 341 kottawa 255 road on mawattara lane 13p land and fully completed newly built non occupied double storied house with 6 rooms for sale, 225 lkhs 0779212183  posted on : 02 mar 202112:42 pm        contact 20779212183    click to show phone ne: ref : 1691033 '"
      ]
     },
     "metadata": {},
     "execution_count": 9
    }
   ],
   "metadata": {}
  },
  {
   "cell_type": "code",
   "execution_count": 7,
   "source": [
    "len(newlist)"
   ],
   "outputs": [
    {
     "output_type": "execute_result",
     "data": {
      "text/plain": [
       "266"
      ]
     },
     "metadata": {},
     "execution_count": 7
    }
   ],
   "metadata": {}
  },
  {
   "cell_type": "code",
   "execution_count": 10,
   "source": [
    "import string\r\n",
    "string.punctuation"
   ],
   "outputs": [
    {
     "output_type": "execute_result",
     "data": {
      "text/plain": [
       "'!\"#$%&\\'()*+,-./:;<=>?@[\\\\]^_`{|}~'"
      ]
     },
     "metadata": {},
     "execution_count": 10
    }
   ],
   "metadata": {}
  },
  {
   "cell_type": "code",
   "execution_count": 8,
   "source": [
    "def clean(text):\r\n",
    "    text_punc = \"\".join([word for word in text if word not in string.punctuation])\r\n",
    "    return text_punc"
   ],
   "outputs": [],
   "metadata": {}
  },
  {
   "cell_type": "code",
   "execution_count": 11,
   "source": [
    "clean(newlist[0])"
   ],
   "outputs": [
    {
     "output_type": "execute_result",
     "data": {
      "text/plain": [
       "'5 shop rooms for sale cence    type sell price  negotiable    additional information matara  railway station road adjacent to commercial bank newly built single floor 5 shop rooms for sale bank accepted deeds 0717202058  posted on  il mar 2021186 om      contact  0717202058      click to show phone no ref 1693944   '"
      ]
     },
     "metadata": {},
     "execution_count": 11
    }
   ],
   "metadata": {}
  },
  {
   "cell_type": "code",
   "execution_count": null,
   "source": [],
   "outputs": [],
   "metadata": {}
  }
 ]
}