{
 "cells": [
  {
   "cell_type": "markdown",
   "source": [
    "# Libraries"
   ],
   "metadata": {}
  },
  {
   "cell_type": "code",
   "execution_count": 100,
   "source": [
    "import spacy\r\n",
    "import pandas as pd\r\n",
    "import os\r\n",
    "from spacy.tokens import DocBin\r\n",
    "from tqdm import tqdm\r\n",
    "import ast"
   ],
   "outputs": [],
   "metadata": {}
  },
  {
   "cell_type": "markdown",
   "source": [
    "# Read train file"
   ],
   "metadata": {}
  },
  {
   "cell_type": "code",
   "execution_count": 101,
   "source": [
    "filename = open(r'D:\\R & D PROJECT\\Train_text\\train_data.txt', 'r')\r\n",
    "train_data=filename.read()\r\n",
    "train = ast.literal_eval(train_data)"
   ],
   "outputs": [],
   "metadata": {}
  },
  {
   "cell_type": "code",
   "execution_count": 104,
   "source": [
    "train[1]"
   ],
   "outputs": [
    {
     "output_type": "execute_result",
     "data": {
      "text/plain": [
       "('villa housing scheme construction reserve single 2 storey house bathroom tvhall living room model house ready inspection cctv security gym also available 3 block land available ate 0773209667 Malinda 0719663300 priyantha o 712298486 parakandeniya hettikanda road kokiskade junction kadawatha frank rude ,',\n",
       " {'entities': [(0, 5, 'Type'),\n",
       "   (181, 191, 'Contact'),\n",
       "   (192, 199, 'Advertiser'),\n",
       "   (200, 210, 'Contact'),\n",
       "   (223, 232, 'Contact'),\n",
       "   (211, 220, 'Advertiser'),\n",
       "   (233, 246, 'Location'),\n",
       "   (263, 272, 'Location')]})"
      ]
     },
     "metadata": {},
     "execution_count": 104
    }
   ],
   "metadata": {}
  },
  {
   "cell_type": "markdown",
   "source": [
    "# Model building"
   ],
   "metadata": {}
  },
  {
   "cell_type": "code",
   "execution_count": 106,
   "source": [
    "#nlp = spacy.load('en_core_web_sm')\r\n",
    "nlp = spacy.blank('en') # new spacy model\r\n",
    "\r\n",
    "db = DocBin()\r\n",
    "\r\n",
    "for text, annot in tqdm(train): # data in previous format\r\n",
    "    doc = nlp.make_doc(text) # create doc object from text\r\n",
    "    ents = []\r\n",
    "    for start, end, label in annot[\"entities\"]: # add character indexes\r\n",
    "        span = doc.char_span(start, end, label=label, alignment_mode=\"contract\")\r\n",
    "        if span is None:\r\n",
    "            print(\"Skipping entity\")\r\n",
    "        else:\r\n",
    "            ents.append(span)\r\n",
    "    doc.ents = ents # label the text with the ents\r\n",
    "    db.add(doc)\r\n",
    "\r\n",
    "os.chdir(r'C:\\Users\\uer\\Documents\\Python Scripts\\nlp_model_property')\r\n",
    "db.to_disk('./train.spacy') "
   ],
   "outputs": [
    {
     "output_type": "stream",
     "name": "stderr",
     "text": [
      "  9%|▉         | 26/297 [00:00<00:02, 91.58it/s]"
     ]
    },
    {
     "output_type": "stream",
     "name": "stdout",
     "text": [
      "Skipping entity\n",
      "Skipping entity\n",
      "Skipping entity\n",
      "Skipping entity\n",
      "Skipping entity\n",
      "Skipping entity\n",
      "Skipping entity\n",
      "Skipping entity\n",
      "Skipping entity\n",
      "Skipping entity\n",
      "Skipping entity\n",
      "Skipping entity\n",
      "Skipping entity\n",
      "Skipping entity\n",
      "Skipping entity\n",
      "Skipping entity\n",
      "Skipping entity\n",
      "Skipping entity\n",
      "Skipping entity\n",
      "Skipping entity\n",
      "Skipping entity\n",
      "Skipping entity\n",
      "Skipping entity\n",
      "Skipping entity\n",
      "Skipping entity\n",
      "Skipping entity\n",
      "Skipping entity\n",
      "Skipping entity\n",
      "Skipping entity\n"
     ]
    },
    {
     "output_type": "stream",
     "name": "stderr",
     "text": [
      " 92%|█████████▏| 274/297 [00:00<00:00, 255.20it/s]"
     ]
    },
    {
     "output_type": "stream",
     "name": "stdout",
     "text": [
      "Skipping entity\n",
      "Skipping entity\n",
      "Skipping entity\n",
      "Skipping entity\n",
      "Skipping entity\n",
      "Skipping entity\n",
      "Skipping entity\n",
      "Skipping entity\n",
      "Skipping entity\n",
      "Skipping entity\n",
      "Skipping entity\n",
      "Skipping entity\n",
      "Skipping entity\n",
      "Skipping entity\n",
      "Skipping entity\n",
      "Skipping entity\n",
      "Skipping entity\n",
      "Skipping entity\n",
      "Skipping entity\n",
      "Skipping entity\n",
      "Skipping entity\n"
     ]
    },
    {
     "output_type": "stream",
     "name": "stderr",
     "text": [
      "100%|██████████| 297/297 [00:00<00:00, 436.76it/s]\n"
     ]
    }
   ],
   "metadata": {}
  },
  {
   "cell_type": "markdown",
   "source": [
    "# filling config"
   ],
   "metadata": {}
  },
  {
   "cell_type": "code",
   "execution_count": null,
   "source": [
    "# python -m spacy init fill-config base_config.cfg config.cfg"
   ],
   "outputs": [],
   "metadata": {}
  },
  {
   "cell_type": "markdown",
   "source": [
    "# Run training"
   ],
   "metadata": {}
  },
  {
   "cell_type": "code",
   "execution_count": null,
   "source": [
    "# python -m spacy train config.cfg --output ./output --paths.train ./train.spacy --paths.dev ./train.spacy"
   ],
   "outputs": [],
   "metadata": {}
  },
  {
   "cell_type": "markdown",
   "source": [
    "# Import model"
   ],
   "metadata": {}
  },
  {
   "cell_type": "code",
   "execution_count": 125,
   "source": [
    "nlp_model = spacy.load(r'C:\\Users\\uer\\Documents\\Python Scripts\\nlp_model_property\\output\\model-best')"
   ],
   "outputs": [],
   "metadata": {}
  },
  {
   "cell_type": "markdown",
   "source": [
    "# test data"
   ],
   "metadata": {}
  },
  {
   "cell_type": "code",
   "execution_count": 218,
   "source": [
    "filename = open(r'D:\\R & D PROJECT\\Test_text\\test_data.txt', 'r')\r\n",
    "test_data = filename.read()\r\n",
    "test_txt = [data.replace('\\n','') for data in test_data.split(',')]\r\n",
    "test_txt[:5]"
   ],
   "outputs": [
    {
     "output_type": "execute_result",
     "data": {
      "text/plain": [
       "['2 storey house negonbo 2 storey air conditioned house thushara Hiawatha 2 mind negombo Colombo road 5 mind negombo town lobby living dinning ki kitchen pantry balcony 4 bedroom 3 bathroom 3000 sq foot solar power hot water e system nmatap water upper tank garbage service 3 time week land area 12 perch price 28000000 negotiable tel 0765331254 ',\n",
       " 'ratmalana house ratmalana borupana road 118 perch land house 3 bedroom 2 toilet 1 hall dining Hal pantry kitchen wall right round front garden rear garden 2 court yard walking distance car gills super kudu r 3000000 negotiable broker genuine buyer 0773890545 ',\n",
       " 'katubedda pbalwis per era Hiawatha 300 Galle road 4 spacious bedroom 2 bathroom large living dining area spacious pantry outside extra kitchen toilet garage parapet wall around 19 perch asking price 360 00000 inspection appointment ovary wry aye ',\n",
       " 'luxury house Colombo 6 2500 sqft 4 bedroom ac 3 bathroom hot water parking 2 rolled shutter gate oz unfurnished upstairs house 225 k pm negotiable garden backyard available 0773867704 ',\n",
       " 'kotagedara piliyandala house 2 bedroomed 6 p complete ac cctv wire mesh razor blade around boundary wall wall cupboard t vo bear role roller gate fully tiled upper floor complete slab immediate 3 owner migrating bathroom 1 shower cubicle servant bathroom 0777668357 kotagedara piliyandala ']"
      ]
     },
     "metadata": {},
     "execution_count": 218
    }
   ],
   "metadata": {}
  },
  {
   "cell_type": "code",
   "execution_count": 219,
   "source": [
    "prop_all = []\r\n",
    "for test in test_txt:\r\n",
    "    doc = nlp_model(test)\r\n",
    "    property_lst = []\r\n",
    "    for ent in doc.ents:\r\n",
    "        tup=ent.label_, ent.text\r\n",
    "        property_lst.append(tup)\r\n",
    "    prop_all.append(list(set(property_lst)))"
   ],
   "outputs": [],
   "metadata": {}
  },
  {
   "cell_type": "code",
   "execution_count": 244,
   "source": [
    "print(prop_all[1])"
   ],
   "outputs": [
    {
     "output_type": "stream",
     "name": "stdout",
     "text": [
      "[('Location', 'ratmalana'), ('Bathroom', '2 toilet'), ('Bedroom', '3 bedroom'), ('LandSize', '118 perch'), ('Advertiser', 'rear'), ('Type', 'house'), ('Contact', '0773890545'), ('Price', 'r 3000000')]\n"
     ]
    }
   ],
   "metadata": {}
  },
  {
   "cell_type": "code",
   "execution_count": 220,
   "source": [
    "new_prop_lst = []\r\n",
    "for tup_l in prop_all:\r\n",
    "    new_tup_lst = []\r\n",
    "    for tup in tup_l:\r\n",
    "        if new_tup_lst:\r\n",
    "            letters = []\r\n",
    "            for element in new_tup_lst:\r\n",
    "                letters.append(element[0])\r\n",
    "            if tup[0] not in letters:\r\n",
    "                new_tup_lst.append(tup)\r\n",
    "        else:\r\n",
    "            new_tup_lst.append(tup)\r\n",
    "    new_prop_lst.append(new_tup_lst)"
   ],
   "outputs": [],
   "metadata": {}
  },
  {
   "cell_type": "code",
   "execution_count": 221,
   "source": [
    "print(new_prop_lst[1])"
   ],
   "outputs": [
    {
     "output_type": "stream",
     "name": "stdout",
     "text": [
      "[('Location', 'ratmalana'), ('Bathroom', '2 toilet'), ('Bedroom', '3 bedroom'), ('LandSize', '118 perch'), ('Advertiser', 'rear'), ('Type', 'house'), ('Contact', '0773890545'), ('Price', 'r 3000000')]\n"
     ]
    }
   ],
   "metadata": {}
  },
  {
   "cell_type": "markdown",
   "source": [
    "# Find Property type and Append to list"
   ],
   "metadata": {}
  },
  {
   "cell_type": "code",
   "execution_count": 222,
   "source": [
    "ptype_lst = []\r\n",
    "for typ_lst in new_prop_lst:\r\n",
    "    found = False\r\n",
    "    for ptyp in typ_lst:\r\n",
    "        if ptyp[0] == 'Type':\r\n",
    "            ptype_lst.append(ptyp[1])\r\n",
    "            found = True\r\n",
    "    if not found:\r\n",
    "        ptype_lst.append('NaN')\r\n",
    "len(ptype_lst)"
   ],
   "outputs": [
    {
     "output_type": "execute_result",
     "data": {
      "text/plain": [
       "158"
      ]
     },
     "metadata": {},
     "execution_count": 222
    }
   ],
   "metadata": {}
  },
  {
   "cell_type": "markdown",
   "source": [
    "# Find Location"
   ],
   "metadata": {}
  },
  {
   "cell_type": "code",
   "execution_count": 224,
   "source": [
    "ploc_lst = []\r\n",
    "for loc_lst in new_prop_lst:\r\n",
    "    found = False\r\n",
    "    for ploc in loc_lst:\r\n",
    "        if ploc[0] == 'Location':\r\n",
    "            ploc_lst.append(ploc[1])\r\n",
    "            found = True\r\n",
    "    if not found:\r\n",
    "        ploc_lst.append('NaN')\r\n",
    "print(ploc_lst[1])"
   ],
   "outputs": [
    {
     "output_type": "stream",
     "name": "stdout",
     "text": [
      "ratmalana\n"
     ]
    }
   ],
   "metadata": {}
  },
  {
   "cell_type": "markdown",
   "source": [
    "# Find Land size"
   ],
   "metadata": {}
  },
  {
   "cell_type": "code",
   "execution_count": 225,
   "source": [
    "lsize_lst = []\r\n",
    "for size_lst in new_prop_lst:\r\n",
    "    found = False\r\n",
    "    for s in size_lst:\r\n",
    "        if s[0] == 'LandSize':\r\n",
    "            lsize_lst.append(s[1])\r\n",
    "            found = True\r\n",
    "    if not found:\r\n",
    "        lsize_lst.append('NaN')\r\n",
    "len(lsize_lst)"
   ],
   "outputs": [
    {
     "output_type": "execute_result",
     "data": {
      "text/plain": [
       "158"
      ]
     },
     "metadata": {},
     "execution_count": 225
    }
   ],
   "metadata": {}
  },
  {
   "cell_type": "markdown",
   "source": [
    "# Find property size"
   ],
   "metadata": {}
  },
  {
   "cell_type": "code",
   "execution_count": 226,
   "source": [
    "psize_lst = []\r\n",
    "for psz_lst in new_prop_lst:\r\n",
    "    found = False\r\n",
    "    for psize in psz_lst:\r\n",
    "        if psize[0] == 'PropertySize':\r\n",
    "            psize_lst.append(psize[1])\r\n",
    "            found = True\r\n",
    "    if not found:\r\n",
    "        psize_lst.append('NaN')\r\n",
    "len(psize_lst)"
   ],
   "outputs": [
    {
     "output_type": "execute_result",
     "data": {
      "text/plain": [
       "158"
      ]
     },
     "metadata": {},
     "execution_count": 226
    }
   ],
   "metadata": {}
  },
  {
   "cell_type": "markdown",
   "source": [
    "# Find Bedrooms"
   ],
   "metadata": {}
  },
  {
   "cell_type": "code",
   "execution_count": 227,
   "source": [
    "bedroom_lst = []\r\n",
    "for br_lst in new_prop_lst:\r\n",
    "    found = False\r\n",
    "    for bed in br_lst:\r\n",
    "        if bed[0] == 'Bedroom':\r\n",
    "            bedroom_lst.append(bed[1])\r\n",
    "            found = True\r\n",
    "    if not found:\r\n",
    "        bedroom_lst.append('NaN')\r\n",
    "len(bedroom_lst)"
   ],
   "outputs": [
    {
     "output_type": "execute_result",
     "data": {
      "text/plain": [
       "158"
      ]
     },
     "metadata": {},
     "execution_count": 227
    }
   ],
   "metadata": {}
  },
  {
   "cell_type": "markdown",
   "source": [
    "# Find Bathrooms"
   ],
   "metadata": {}
  },
  {
   "cell_type": "code",
   "execution_count": 228,
   "source": [
    "bathroom_lst = []\r\n",
    "for bthrm_lst in new_prop_lst:\r\n",
    "    found = False\r\n",
    "    for bath in bthrm_lst:\r\n",
    "        if bath[0] == 'Bathroom':\r\n",
    "            bathroom_lst.append(bath[1])\r\n",
    "            found = True\r\n",
    "    if not found:\r\n",
    "        bathroom_lst.append('NaN')\r\n",
    "len(bathroom_lst)"
   ],
   "outputs": [
    {
     "output_type": "execute_result",
     "data": {
      "text/plain": [
       "158"
      ]
     },
     "metadata": {},
     "execution_count": 228
    }
   ],
   "metadata": {}
  },
  {
   "cell_type": "markdown",
   "source": [
    "# Find Advertiser"
   ],
   "metadata": {}
  },
  {
   "cell_type": "code",
   "execution_count": 231,
   "source": [
    "advertiser_lst = []\r\n",
    "for advtr_lst in new_prop_lst:\r\n",
    "    found = False\r\n",
    "    for advt in advtr_lst:\r\n",
    "        if advt[0] == 'Advertiser':\r\n",
    "            advertiser_lst.append(advt[1])\r\n",
    "            found = True\r\n",
    "    if not found:\r\n",
    "        advertiser_lst.append('NaN')\r\n",
    "print(advertiser_lst[0])"
   ],
   "outputs": [
    {
     "output_type": "stream",
     "name": "stdout",
     "text": [
      "thushara\n"
     ]
    }
   ],
   "metadata": {}
  },
  {
   "cell_type": "markdown",
   "source": [
    "# Find Contact Number"
   ],
   "metadata": {}
  },
  {
   "cell_type": "code",
   "execution_count": 232,
   "source": [
    "contact_lst = []\r\n",
    "for cont_lst in new_prop_lst:\r\n",
    "    found = False\r\n",
    "    for cont in cont_lst:\r\n",
    "        if cont[0] == 'Contact':\r\n",
    "            contact_lst.append(cont[1])\r\n",
    "            found = True\r\n",
    "    if not found:\r\n",
    "        contact_lst.append('NaN')\r\n",
    "len(contact_lst)"
   ],
   "outputs": [
    {
     "output_type": "execute_result",
     "data": {
      "text/plain": [
       "158"
      ]
     },
     "metadata": {},
     "execution_count": 232
    }
   ],
   "metadata": {}
  },
  {
   "cell_type": "markdown",
   "source": [
    "# Find Price"
   ],
   "metadata": {}
  },
  {
   "cell_type": "code",
   "execution_count": 239,
   "source": [
    "pprice_lst = []\r\n",
    "for price_lst in new_prop_lst:\r\n",
    "    found = False\r\n",
    "    for price in price_lst:\r\n",
    "        if price[0] == 'Price':\r\n",
    "            pprice_lst.append(price[1])\r\n",
    "            found = True\r\n",
    "    if not found:\r\n",
    "        pprice_lst.append('NaN')\r\n",
    "len(pprice_lst)"
   ],
   "outputs": [
    {
     "output_type": "execute_result",
     "data": {
      "text/plain": [
       "158"
      ]
     },
     "metadata": {},
     "execution_count": 239
    }
   ],
   "metadata": {}
  },
  {
   "cell_type": "markdown",
   "source": [
    "# Create DataFrame"
   ],
   "metadata": {}
  },
  {
   "cell_type": "code",
   "execution_count": 234,
   "source": [
    "data_dic = {'Property_type':ptype_lst,\r\n",
    "                    'Address':ploc_lst,\r\n",
    "                    'Area_of_Land':lsize_lst,\r\n",
    "                    'Bedrooms':bedroom_lst,\r\n",
    "                    'Bathrooms':bathroom_lst,\r\n",
    "                    'Property_size':psize_lst,\r\n",
    "                    'Advertiser':advertiser_lst,\r\n",
    "                    'contact_num':contact_lst,\r\n",
    "                    'Price':pprice_lst}"
   ],
   "outputs": [],
   "metadata": {}
  },
  {
   "cell_type": "code",
   "execution_count": 237,
   "source": [
    "data = pd.DataFrame.from_dict(data_dic,orient='index')\r\n",
    "data=data.transpose()\r\n",
    "data.head(5)"
   ],
   "outputs": [
    {
     "output_type": "execute_result",
     "data": {
      "text/html": [
       "<div>\n",
       "<style scoped>\n",
       "    .dataframe tbody tr th:only-of-type {\n",
       "        vertical-align: middle;\n",
       "    }\n",
       "\n",
       "    .dataframe tbody tr th {\n",
       "        vertical-align: top;\n",
       "    }\n",
       "\n",
       "    .dataframe thead th {\n",
       "        text-align: right;\n",
       "    }\n",
       "</style>\n",
       "<table border=\"1\" class=\"dataframe\">\n",
       "  <thead>\n",
       "    <tr style=\"text-align: right;\">\n",
       "      <th></th>\n",
       "      <th>Property_type</th>\n",
       "      <th>Address</th>\n",
       "      <th>Area_of_Land</th>\n",
       "      <th>Bedrooms</th>\n",
       "      <th>Bathrooms</th>\n",
       "      <th>Property_size</th>\n",
       "      <th>Advertiser</th>\n",
       "      <th>contact_num</th>\n",
       "      <th>Price</th>\n",
       "    </tr>\n",
       "  </thead>\n",
       "  <tbody>\n",
       "    <tr>\n",
       "      <th>0</th>\n",
       "      <td>house</td>\n",
       "      <td>Colombo</td>\n",
       "      <td>12 perch</td>\n",
       "      <td>4 bedroom</td>\n",
       "      <td>3 bathroom</td>\n",
       "      <td>3000 sq</td>\n",
       "      <td>thushara</td>\n",
       "      <td>NaN</td>\n",
       "      <td>price 28000000</td>\n",
       "    </tr>\n",
       "    <tr>\n",
       "      <th>1</th>\n",
       "      <td>house</td>\n",
       "      <td>ratmalana</td>\n",
       "      <td>118 perch</td>\n",
       "      <td>3 bedroom</td>\n",
       "      <td>2 toilet</td>\n",
       "      <td>NaN</td>\n",
       "      <td>rear</td>\n",
       "      <td>0773890545</td>\n",
       "      <td>r 3000000</td>\n",
       "    </tr>\n",
       "    <tr>\n",
       "      <th>2</th>\n",
       "      <td>NaN</td>\n",
       "      <td>katubedda</td>\n",
       "      <td>19 perch</td>\n",
       "      <td>NaN</td>\n",
       "      <td>2 bathroom</td>\n",
       "      <td>NaN</td>\n",
       "      <td>NaN</td>\n",
       "      <td>NaN</td>\n",
       "      <td>360 00000</td>\n",
       "    </tr>\n",
       "    <tr>\n",
       "      <th>3</th>\n",
       "      <td>house</td>\n",
       "      <td>Colombo 6</td>\n",
       "      <td>NaN</td>\n",
       "      <td>4 bedroom</td>\n",
       "      <td>3 bathroom</td>\n",
       "      <td>2500 sqft</td>\n",
       "      <td>NaN</td>\n",
       "      <td>0773867704</td>\n",
       "      <td>NaN</td>\n",
       "    </tr>\n",
       "    <tr>\n",
       "      <th>4</th>\n",
       "      <td>NaN</td>\n",
       "      <td>piliyandala</td>\n",
       "      <td>6 p</td>\n",
       "      <td>2</td>\n",
       "      <td>bathroom</td>\n",
       "      <td>NaN</td>\n",
       "      <td>NaN</td>\n",
       "      <td>NaN</td>\n",
       "      <td>NaN</td>\n",
       "    </tr>\n",
       "  </tbody>\n",
       "</table>\n",
       "</div>"
      ],
      "text/plain": [
       "  Property_type      Address Area_of_Land   Bedrooms   Bathrooms  \\\n",
       "0         house      Colombo     12 perch  4 bedroom  3 bathroom   \n",
       "1         house    ratmalana    118 perch  3 bedroom    2 toilet   \n",
       "2           NaN    katubedda     19 perch        NaN  2 bathroom   \n",
       "3         house    Colombo 6          NaN  4 bedroom  3 bathroom   \n",
       "4           NaN  piliyandala          6 p          2    bathroom   \n",
       "\n",
       "  Property_size Advertiser contact_num           Price  \n",
       "0       3000 sq   thushara         NaN  price 28000000  \n",
       "1           NaN       rear  0773890545       r 3000000  \n",
       "2           NaN        NaN         NaN       360 00000  \n",
       "3     2500 sqft        NaN  0773867704             NaN  \n",
       "4           NaN        NaN         NaN             NaN  "
      ]
     },
     "metadata": {},
     "execution_count": 237
    }
   ],
   "metadata": {}
  },
  {
   "cell_type": "code",
   "execution_count": 241,
   "source": [
    "extract_data = data.to_csv(r'D:\\R & D PROJECT\\Test_text\\extract_data.csv',index=False)"
   ],
   "outputs": [],
   "metadata": {}
  },
  {
   "cell_type": "code",
   "execution_count": 249,
   "source": [
    "data = pd.read_csv(r'D:\\R & D PROJECT\\Test_text\\extract_data.csv')\r\n",
    "data.head()"
   ],
   "outputs": [
    {
     "output_type": "execute_result",
     "data": {
      "text/html": [
       "<div>\n",
       "<style scoped>\n",
       "    .dataframe tbody tr th:only-of-type {\n",
       "        vertical-align: middle;\n",
       "    }\n",
       "\n",
       "    .dataframe tbody tr th {\n",
       "        vertical-align: top;\n",
       "    }\n",
       "\n",
       "    .dataframe thead th {\n",
       "        text-align: right;\n",
       "    }\n",
       "</style>\n",
       "<table border=\"1\" class=\"dataframe\">\n",
       "  <thead>\n",
       "    <tr style=\"text-align: right;\">\n",
       "      <th></th>\n",
       "      <th>Property_type</th>\n",
       "      <th>Address</th>\n",
       "      <th>Area_of_Land</th>\n",
       "      <th>Bedrooms</th>\n",
       "      <th>Bathrooms</th>\n",
       "      <th>Property_size</th>\n",
       "      <th>Advertiser</th>\n",
       "      <th>contact_num</th>\n",
       "      <th>Price</th>\n",
       "    </tr>\n",
       "  </thead>\n",
       "  <tbody>\n",
       "    <tr>\n",
       "      <th>0</th>\n",
       "      <td>house</td>\n",
       "      <td>Colombo</td>\n",
       "      <td>12 perch</td>\n",
       "      <td>4 bedroom</td>\n",
       "      <td>3 bathroom</td>\n",
       "      <td>3000 sq</td>\n",
       "      <td>thushara</td>\n",
       "      <td>NaN</td>\n",
       "      <td>price 28000000</td>\n",
       "    </tr>\n",
       "    <tr>\n",
       "      <th>1</th>\n",
       "      <td>house</td>\n",
       "      <td>ratmalana</td>\n",
       "      <td>118 perch</td>\n",
       "      <td>3 bedroom</td>\n",
       "      <td>2 toilet</td>\n",
       "      <td>NaN</td>\n",
       "      <td>rear</td>\n",
       "      <td>773890545.0</td>\n",
       "      <td>r 3000000</td>\n",
       "    </tr>\n",
       "    <tr>\n",
       "      <th>2</th>\n",
       "      <td>NaN</td>\n",
       "      <td>katubedda</td>\n",
       "      <td>19 perch</td>\n",
       "      <td>NaN</td>\n",
       "      <td>2 bathroom</td>\n",
       "      <td>NaN</td>\n",
       "      <td>NaN</td>\n",
       "      <td>NaN</td>\n",
       "      <td>360 00000</td>\n",
       "    </tr>\n",
       "    <tr>\n",
       "      <th>3</th>\n",
       "      <td>house</td>\n",
       "      <td>Colombo 6</td>\n",
       "      <td>NaN</td>\n",
       "      <td>4 bedroom</td>\n",
       "      <td>3 bathroom</td>\n",
       "      <td>2500 sqft</td>\n",
       "      <td>NaN</td>\n",
       "      <td>773867704.0</td>\n",
       "      <td>NaN</td>\n",
       "    </tr>\n",
       "    <tr>\n",
       "      <th>4</th>\n",
       "      <td>NaN</td>\n",
       "      <td>piliyandala</td>\n",
       "      <td>6 p</td>\n",
       "      <td>2</td>\n",
       "      <td>bathroom</td>\n",
       "      <td>NaN</td>\n",
       "      <td>NaN</td>\n",
       "      <td>NaN</td>\n",
       "      <td>NaN</td>\n",
       "    </tr>\n",
       "  </tbody>\n",
       "</table>\n",
       "</div>"
      ],
      "text/plain": [
       "  Property_type      Address Area_of_Land   Bedrooms   Bathrooms  \\\n",
       "0         house      Colombo     12 perch  4 bedroom  3 bathroom   \n",
       "1         house    ratmalana    118 perch  3 bedroom    2 toilet   \n",
       "2           NaN    katubedda     19 perch        NaN  2 bathroom   \n",
       "3         house    Colombo 6          NaN  4 bedroom  3 bathroom   \n",
       "4           NaN  piliyandala          6 p          2    bathroom   \n",
       "\n",
       "  Property_size Advertiser  contact_num           Price  \n",
       "0       3000 sq   thushara          NaN  price 28000000  \n",
       "1           NaN       rear  773890545.0       r 3000000  \n",
       "2           NaN        NaN          NaN       360 00000  \n",
       "3     2500 sqft        NaN  773867704.0             NaN  \n",
       "4           NaN        NaN          NaN             NaN  "
      ]
     },
     "metadata": {},
     "execution_count": 249
    }
   ],
   "metadata": {}
  },
  {
   "cell_type": "code",
   "execution_count": null,
   "source": [],
   "outputs": [],
   "metadata": {}
  }
 ],
 "metadata": {
  "orig_nbformat": 4,
  "language_info": {
   "name": "python",
   "version": "3.7.6",
   "mimetype": "text/x-python",
   "codemirror_mode": {
    "name": "ipython",
    "version": 3
   },
   "pygments_lexer": "ipython3",
   "nbconvert_exporter": "python",
   "file_extension": ".py"
  },
  "kernelspec": {
   "name": "python3",
   "display_name": "Python 3.7.6 64-bit ('base': conda)"
  },
  "interpreter": {
   "hash": "8867321196b4aed495a8cb57ae795b5cb9f69b50030feb2979c26ed6dde2da6a"
  }
 },
 "nbformat": 4,
 "nbformat_minor": 2
}