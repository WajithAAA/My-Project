{
 "cells": [
  {
   "cell_type": "code",
   "execution_count": null,
   "source": [
    "print('hello world')"
   ],
   "outputs": [],
   "metadata": {}
  },
  {
   "cell_type": "code",
   "execution_count": 2,
   "source": [
    "type(5),type('int'),type(2.44),type(True)"
   ],
   "outputs": [
    {
     "output_type": "execute_result",
     "data": {
      "text/plain": [
       "(int, str, float, bool)"
      ]
     },
     "metadata": {},
     "execution_count": 2
    }
   ],
   "metadata": {}
  },
  {
   "cell_type": "code",
   "execution_count": 17,
   "source": [
    "num = 10\r\n",
    "L=[]\r\n",
    "for i in range(num):\r\n",
    "    L.append([])"
   ],
   "outputs": [],
   "metadata": {}
  },
  {
   "cell_type": "code",
   "execution_count": 18,
   "source": [
    "num = 100\r\n",
    "nums = []\r\n",
    "for i in range(num):\r\n",
    "    nums.append(i)\r\n",
    "\r\n",
    "for j in range(len(L)):\r\n",
    "    L[j].append(nums[1:10])"
   ],
   "outputs": [],
   "metadata": {}
  },
  {
   "cell_type": "code",
   "execution_count": 19,
   "source": [],
   "outputs": [
    {
     "output_type": "execute_result",
     "data": {
      "text/plain": [
       "[[[0, 1, 2, 3, 4, 5, 6, 7, 8, 9]],\n",
       " [[0, 1, 2, 3, 4, 5, 6, 7, 8, 9]],\n",
       " [[0, 1, 2, 3, 4, 5, 6, 7, 8, 9]],\n",
       " [[0, 1, 2, 3, 4, 5, 6, 7, 8, 9]],\n",
       " [[0, 1, 2, 3, 4, 5, 6, 7, 8, 9]],\n",
       " [[0, 1, 2, 3, 4, 5, 6, 7, 8, 9]],\n",
       " [[0, 1, 2, 3, 4, 5, 6, 7, 8, 9]],\n",
       " [[0, 1, 2, 3, 4, 5, 6, 7, 8, 9]],\n",
       " [[0, 1, 2, 3, 4, 5, 6, 7, 8, 9]],\n",
       " [[0, 1, 2, 3, 4, 5, 6, 7, 8, 9]]]"
      ]
     },
     "metadata": {},
     "execution_count": 19
    }
   ],
   "metadata": {}
  },
  {
   "cell_type": "code",
   "execution_count": 20,
   "source": [
    "L.insert(1,nums[10:20])"
   ],
   "outputs": [],
   "metadata": {}
  },
  {
   "cell_type": "code",
   "execution_count": 24,
   "source": [
    "del L[2]"
   ],
   "outputs": [],
   "metadata": {}
  },
  {
   "cell_type": "code",
   "execution_count": 5,
   "source": [
    "mark = [15,45,78,49,84,65,38]\r\n",
    "def fun(mark):\r\n",
    "    count = 0\r\n",
    "    for m in mark:\r\n",
    "        if m> 50:\r\n",
    "            count+=1\r\n",
    "    return count\r\n",
    "fun(mark)"
   ],
   "outputs": [
    {
     "output_type": "execute_result",
     "data": {
      "text/plain": [
       "3"
      ]
     },
     "metadata": {},
     "execution_count": 5
    }
   ],
   "metadata": {}
  },
  {
   "cell_type": "code",
   "execution_count": null,
   "source": [],
   "outputs": [],
   "metadata": {}
  }
 ],
 "metadata": {
  "orig_nbformat": 4,
  "language_info": {
   "name": "python",
   "version": "3.7.6",
   "mimetype": "text/x-python",
   "codemirror_mode": {
    "name": "ipython",
    "version": 3
   },
   "pygments_lexer": "ipython3",
   "nbconvert_exporter": "python",
   "file_extension": ".py"
  },
  "kernelspec": {
   "name": "python3",
   "display_name": "Python 3.7.6 64-bit ('base': conda)"
  },
  "interpreter": {
   "hash": "8867321196b4aed495a8cb57ae795b5cb9f69b50030feb2979c26ed6dde2da6a"
  }
 },
 "nbformat": 4,
 "nbformat_minor": 2
}