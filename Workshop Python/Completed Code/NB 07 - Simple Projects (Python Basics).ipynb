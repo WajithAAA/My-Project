{
 "cells": [
  {
   "cell_type": "markdown",
   "metadata": {},
   "source": [
    "# (01) Linear Search Algorithm"
   ]
  },
  {
   "cell_type": "code",
   "execution_count": null,
   "metadata": {},
   "outputs": [],
   "source": [
    "def Linear_Search(L,val):\n",
    "    srch=[i for i in range(len(L)) if L[i]==val]\n",
    "    return srch"
   ]
  },
  {
   "cell_type": "code",
   "execution_count": null,
   "metadata": {},
   "outputs": [],
   "source": [
    "P=[12,22,23,34,45,56]\n",
    "Linear_Search(P,34)"
   ]
  },
  {
   "cell_type": "markdown",
   "metadata": {},
   "source": [
    "# (02) Binary Search Algorithm"
   ]
  },
  {
   "cell_type": "code",
   "execution_count": 20,
   "metadata": {},
   "outputs": [],
   "source": [
    "def binarySearch (arr, low, up, x): \n",
    "  \n",
    "    if up >= low:\n",
    "  \n",
    "        mid = low + (up - low) // 2\n",
    "  \n",
    "        if arr[mid] == x: \n",
    "            return mid \n",
    "        elif arr[mid] > x: \n",
    "            return binarySearch(arr, low, mid-1, x) \n",
    "        else: \n",
    "            return binarySearch(arr, mid + 1, up, x) \n",
    "  \n",
    "    else: \n",
    "        return -1"
   ]
  },
  {
   "cell_type": "code",
   "execution_count": 43,
   "metadata": {},
   "outputs": [
    {
     "data": {
      "text/plain": [
       "4"
      ]
     },
     "execution_count": 43,
     "metadata": {},
     "output_type": "execute_result"
    }
   ],
   "source": [
    "binarySearch([10,20,30,40,50,60] , 0, 5, 50) "
   ]
  },
  {
   "cell_type": "markdown",
   "metadata": {},
   "source": [
    "# (03) Quick Sort Algorithm"
   ]
  },
  {
   "cell_type": "code",
   "execution_count": 31,
   "metadata": {},
   "outputs": [],
   "source": [
    "def partition(arr, low, high): \n",
    "    i = (low-1)        \n",
    "    pivot = arr[high]    \n",
    "  \n",
    "    for j in range(low, high): \n",
    "\n",
    "        if arr[j] <= pivot: \n",
    "\n",
    "            i = i+1\n",
    "            arr[i], arr[j] = arr[j], arr[i] \n",
    "  \n",
    "    arr[i+1], arr[high] = arr[high], arr[i+1] \n",
    "    return (i+1) "
   ]
  },
  {
   "cell_type": "code",
   "execution_count": 32,
   "metadata": {},
   "outputs": [],
   "source": [
    "def quickSort(arr, low, high):\n",
    "    if len(arr) == 1: \n",
    "        return arr \n",
    "    if low < high: \n",
    "        pi = partition(arr, low, high) \n",
    "        quickSort(arr, low, pi-1) \n",
    "        quickSort(arr, pi+1, high) "
   ]
  },
  {
   "cell_type": "code",
   "execution_count": 44,
   "metadata": {},
   "outputs": [],
   "source": [
    "L = [12,23,34,31,22,16,21] \n",
    "quickSort(L, 0, 6)"
   ]
  },
  {
   "cell_type": "code",
   "execution_count": 46,
   "metadata": {},
   "outputs": [
    {
     "data": {
      "text/plain": [
       "[12, 16, 21, 22, 23, 31, 34]"
      ]
     },
     "execution_count": 46,
     "metadata": {},
     "output_type": "execute_result"
    }
   ],
   "source": [
    "L"
   ]
  },
  {
   "cell_type": "markdown",
   "metadata": {},
   "source": [
    "# (04) Bubble Sort Algorithm"
   ]
  },
  {
   "cell_type": "code",
   "execution_count": 40,
   "metadata": {},
   "outputs": [],
   "source": [
    "def bubbleSort(arr): \n",
    "    n = len(arr) \n",
    "    for i in range(n-1): \n",
    "        for j in range(0, n-i-1): \n",
    "            if arr[j] > arr[j+1] : \n",
    "                arr[j], arr[j+1] = arr[j+1], arr[j] "
   ]
  },
  {
   "cell_type": "code",
   "execution_count": 47,
   "metadata": {},
   "outputs": [],
   "source": [
    "L = [20,30,10,50,40,70,60] \n",
    "bubbleSort(L)"
   ]
  },
  {
   "cell_type": "code",
   "execution_count": 48,
   "metadata": {},
   "outputs": [
    {
     "data": {
      "text/plain": [
       "[10, 20, 30, 40, 50, 60, 70]"
      ]
     },
     "execution_count": 48,
     "metadata": {},
     "output_type": "execute_result"
    }
   ],
   "source": [
    "L"
   ]
  },
  {
   "cell_type": "markdown",
   "metadata": {},
   "source": [
    "# (05) Encryption & Decryption"
   ]
  },
  {
   "cell_type": "code",
   "execution_count": null,
   "metadata": {},
   "outputs": [],
   "source": [
    "Lt={\"a\":\"e\",\"b\":\"g\",\"c\":\"p\",\"d\":\"f\",\"e\":\"i\",\"f\":\"k\",\"g\":\"q\",\"h\":\"u\",\"i\":\"h\",\"j\":\"v\",\"k\":\"z\",\"l\":\"w\",\"m\":\"j\",\n",
    "    \"n\":\"r\",\"o\":\"d\",\"p\":\"s\",\"q\":\"t\",\"r\":\"n\",\"s\":\"c\",\"t\":\"l\",\"u\":\"y\",\"v\":\"x\",\"w\":\"b\",\"x\":\"m\",\"y\":\"o\",\"z\":\"a\"}\n",
    "\n",
    "msg=input(\"Enter the message: \").lower()\n",
    "\n",
    "\n",
    "encp=\"\"\n",
    "for i in msg:         \n",
    "    if i in Lt:\n",
    "        encp=encp+Lt[i]\n",
    "    else:\n",
    "        encp=encp+\" \""
   ]
  },
  {
   "cell_type": "code",
   "execution_count": null,
   "metadata": {},
   "outputs": [],
   "source": [
    "encp"
   ]
  },
  {
   "cell_type": "code",
   "execution_count": null,
   "metadata": {},
   "outputs": [],
   "source": [
    "Lt={\"a\":\"e\",\"b\":\"g\",\"c\":\"p\",\"d\":\"f\",\"e\":\"i\",\"f\":\"k\",\"g\":\"q\",\"h\":\"u\",\"i\":\"h\",\"j\":\"v\",\"k\":\"z\",\"l\":\"w\",\"m\":\"j\",\n",
    "    \"n\":\"r\",\"o\":\"d\",\"p\":\"s\",\"q\":\"t\",\"r\":\"n\",\"s\":\"c\",\"t\":\"l\",\"u\":\"y\",\"v\":\"x\",\"w\":\"b\",\"x\":\"m\",\"y\":\"o\",\"z\":\"a\"}\n",
    "\n",
    "SLt=dict([(value,key) for key,value in Lt.items()])\n",
    "\n",
    "msg=\"\"\n",
    "for i in encp:         \n",
    "    if i in SLt:\n",
    "        msg=msg+SLt[i]\n",
    "    else:\n",
    "        msg=msg+\" \""
   ]
  },
  {
   "cell_type": "code",
   "execution_count": null,
   "metadata": {},
   "outputs": [],
   "source": [
    "msg"
   ]
  },
  {
   "cell_type": "markdown",
   "metadata": {},
   "source": [
    "# (06) Random Guessing Game"
   ]
  },
  {
   "cell_type": "code",
   "execution_count": null,
   "metadata": {},
   "outputs": [],
   "source": [
    "import numpy as np\n",
    "rnum=np.random.randint(1,10)\n",
    "unum=int(input(\"Enter your number:\"))\n",
    "guess=[]\n",
    "\n",
    "if unum>=1 and unum<=10:\n",
    "    guess.append(unum)\n",
    "    while unum != rnum:\n",
    "        if unum<rnum:\n",
    "            print(\"Please try higher value\")\n",
    "        else:\n",
    "            print(\"Please try lower value\")\n",
    "        \n",
    "        unum=int(input(\"Enter your number:\"))\n",
    "        guess.append(unum)\n",
    "        \n",
    "    else:\n",
    "        if len(guess)<=5:\n",
    "            print(\"You have won!!!\")\n",
    "        else:\n",
    "            print(f\"You have lost. You have tried {len(guess)} Try again\")\n",
    "else:\n",
    "    print(\"Restart the game and try with number within 1 to 10\")\n",
    "        \n"
   ]
  },
  {
   "cell_type": "markdown",
   "metadata": {},
   "source": [
    "# (07) Tic Tac Toe"
   ]
  },
  {
   "cell_type": "code",
   "execution_count": null,
   "metadata": {},
   "outputs": [],
   "source": [
    "def game_board(game_name,row,column,player,play=False):\n",
    "    try:\n",
    "        if game_name[row-1][column-1] !=0:\n",
    "            print(\"The cell is already filled!! Choose another\")\n",
    "            return game_name,False\n",
    "        if player !=0 and play==True and game_name[row-1][column-1] ==0:\n",
    "            game_name[row-1][column-1]=player\n",
    "            for i in game_name:\n",
    "                print(i)\n",
    "            return game_name,True\n",
    "    except Exception as e:\n",
    "        print(e)\n",
    "        return game_name,False"
   ]
  },
  {
   "cell_type": "code",
   "execution_count": null,
   "metadata": {},
   "outputs": [],
   "source": [
    "def winning(game_name):\n",
    "    win=False\n",
    "    \n",
    "    def check_condition(l):\n",
    "        if l[0]!=0 and len(set(l))==1:\n",
    "            return True\n",
    "        else:\n",
    "            return False\n",
    "    \n",
    "    ##Horozontal Winning\n",
    "    for i in game_name:\n",
    "        if check_condition(i):\n",
    "            win=True\n",
    "            print(f\"Player {set(i)} has won the game (-)\")\n",
    "            return True\n",
    "       \n",
    "    \n",
    "    ##Vertical Winning\n",
    "    for i in range(0,len(game_name)):\n",
    "        check1=[]\n",
    "        for j in game_name:\n",
    "            check1.append(j[i])\n",
    "        if check_condition(check1):\n",
    "            win=True\n",
    "            name=set(check1)\n",
    "            print(f\"Player {name} has won the game (|)\")\n",
    "#             break\n",
    "            return True\n",
    "            \n",
    "    \n",
    "    ##Diagonal Winning (Usual-Backward)\n",
    "    check2=[]\n",
    "    for i,j in enumerate(game_name):\n",
    "        check2.append(game_name[i][i])\n",
    "    if check_condition(check2):\n",
    "        win=True\n",
    "        name=set(check2)\n",
    "        print(f\"Player {name} has won the game (\\\\)\")\n",
    "        return True\n",
    "    \n",
    "    ##Forward Diagonal Winning\n",
    "    check3=[]\n",
    "    for i,j in zip(reversed(range(0,len(game_name))),range(0,len(game_name))):\n",
    "        check3.append(game_name[i][j])\n",
    "    if check_condition(check3):\n",
    "        win=True\n",
    "        name=set(check3)\n",
    "        print(f\"Player {name} has won the game (/)\")\n",
    "        return True\n",
    "    \n",
    "    return False\n",
    "        "
   ]
  },
  {
   "cell_type": "code",
   "execution_count": null,
   "metadata": {},
   "outputs": [],
   "source": [
    "import itertools\n",
    "play=True\n",
    "players=[1,2]\n",
    "while play:\n",
    "    game=[[0,0,0],[0,0,0],[0,0,0]]\n",
    "    game_won=False\n",
    "    player_choice=itertools.cycle(players)\n",
    "    while not game_won:\n",
    "        current_player=next(player_choice)\n",
    "        print(f\"Current player is {current_player}\")\n",
    "        played=False\n",
    "        while not played:\n",
    "            row_choice=input(\"What is your row from 1,2 & 3 ?\")\n",
    "            column_choice=input(\"What is your column from 1,2 & 3 ?\")\n",
    "            game,played=game_board(game,int(row_choice),int(column_choice),current_player,play)\n",
    "        \n",
    "        if winning(game):\n",
    "            game_won=True\n",
    "            again=input(\"The game is over. Would you like to play it again! (y/n)\")\n",
    "            if again.lower()==\"y\":\n",
    "                print(\"Restarting the game\")\n",
    "            elif again.lower()==\"n\":\n",
    "                print(\"Thank you for playing. Have a nice day!\")\n",
    "                play=False\n",
    "            else:\n",
    "                print(\"Hey buddy, Can you read carefully what have been asked\")\n",
    "                again2=input(\"The game is over. Would you like to play it again! (y/n)\")\n",
    "                \n",
    "                if again2.lower()==\"y\":\n",
    "                    print(\"Restarting the game\")\n",
    "                elif again2.lower()==\"n\":\n",
    "                    print(\"Thank you for playing. Have a nice day!\")\n",
    "                    play=False\n",
    "                else:\n",
    "                    print(\"Hey buddy, bye. Have a nice day!!!\")\n",
    "                    play=False\n",
    "                \n",
    "                "
   ]
  }
 ],
 "metadata": {
  "kernelspec": {
   "display_name": "Python 3",
   "language": "python",
   "name": "python3"
  },
  "language_info": {
   "codemirror_mode": {
    "name": "ipython",
    "version": 3
   },
   "file_extension": ".py",
   "mimetype": "text/x-python",
   "name": "python",
   "nbconvert_exporter": "python",
   "pygments_lexer": "ipython3",
   "version": "3.8.3"
  }
 },
 "nbformat": 4,
 "nbformat_minor": 4
}
