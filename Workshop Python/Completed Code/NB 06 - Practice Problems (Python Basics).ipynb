{
 "cells": [
  {
   "cell_type": "markdown",
   "source": [
    "# (01) Get two integer values from the user and print their product if the product is less than 100. Else print sum of the values."
   ],
   "metadata": {}
  },
  {
   "cell_type": "code",
   "execution_count": 1,
   "source": [
    "val1=int(input(\"Enter the first value:\"))\r\n",
    "val2=int(input(\"Enter the second value:\"))\r\n",
    "\r\n",
    "if val1*val2<100:\r\n",
    "    print(val1*val2)\r\n",
    "else:\r\n",
    "    print(val1+val2)"
   ],
   "outputs": [],
   "metadata": {}
  },
  {
   "cell_type": "markdown",
   "source": [
    "# (02) Write a python function to iterate from 0th number to the end number and append the product of the current number and the previous number in a list given as a parameter, to a new list. That new list should be returned."
   ],
   "metadata": {}
  },
  {
   "cell_type": "code",
   "execution_count": null,
   "source": [
    "def fun(L):\r\n",
    "    newL=[L[0] if i==0 else L[i]*L[i-1] for i in range(len(L))]\r\n",
    "    return newL"
   ],
   "outputs": [],
   "metadata": {}
  },
  {
   "cell_type": "code",
   "execution_count": null,
   "source": [
    "fun([10,20,30])"
   ],
   "outputs": [
    {
     "output_type": "execute_result",
     "data": {
      "text/plain": [
       "[10, 200, 600]"
      ]
     },
     "metadata": {},
     "execution_count": 6
    }
   ],
   "metadata": {}
  },
  {
   "cell_type": "markdown",
   "source": [
    "# (03) Write a function such that for a given list, return the sum of those values which are present at an even index as a list."
   ],
   "metadata": {}
  },
  {
   "cell_type": "code",
   "execution_count": null,
   "source": [
    "def fun(L):\n",
    "    newL=[L[i] for i in range(len(L)) if i%2==0]\n",
    "    return sum(newL)"
   ],
   "outputs": [],
   "metadata": {}
  },
  {
   "cell_type": "code",
   "execution_count": null,
   "source": [
    "fun([12,22,34,45,56,44,46])"
   ],
   "outputs": [
    {
     "output_type": "execute_result",
     "data": {
      "text/plain": [
       "148"
      ]
     },
     "metadata": {},
     "execution_count": 10
    }
   ],
   "metadata": {}
  },
  {
   "cell_type": "markdown",
   "source": [
    "# (04) Write a function such that, for a given list of integers, return True if the first and last values in the list are the same. Else return the False"
   ],
   "metadata": {}
  },
  {
   "cell_type": "code",
   "execution_count": null,
   "source": [
    "def fun(L):\n",
    "    if L[0]==L[-1]:\n",
    "        return True\n",
    "    else:\n",
    "        return False"
   ],
   "outputs": [],
   "metadata": {}
  },
  {
   "cell_type": "code",
   "execution_count": null,
   "source": [
    "fun([12,23,34,33,12])"
   ],
   "outputs": [
    {
     "output_type": "execute_result",
     "data": {
      "text/plain": [
       "True"
      ]
     },
     "metadata": {},
     "execution_count": 18
    }
   ],
   "metadata": {}
  },
  {
   "cell_type": "code",
   "execution_count": null,
   "source": [
    "fun([12,23,34,33,30])"
   ],
   "outputs": [
    {
     "output_type": "execute_result",
     "data": {
      "text/plain": [
       "False"
      ]
     },
     "metadata": {},
     "execution_count": 19
    }
   ],
   "metadata": {}
  },
  {
   "cell_type": "markdown",
   "source": [
    "# (05) Write a function such that, return True if a given list is same as the reversed list. Else return False"
   ],
   "metadata": {}
  },
  {
   "cell_type": "code",
   "execution_count": null,
   "source": [
    "def fun(L):\n",
    "    if L==list(reversed(L)):\n",
    "        return True\n",
    "    else:\n",
    "        return False"
   ],
   "outputs": [],
   "metadata": {}
  },
  {
   "cell_type": "code",
   "execution_count": null,
   "source": [
    "fun([12,34,34,12])"
   ],
   "outputs": [
    {
     "output_type": "execute_result",
     "data": {
      "text/plain": [
       "True"
      ]
     },
     "metadata": {},
     "execution_count": 25
    }
   ],
   "metadata": {}
  },
  {
   "cell_type": "markdown",
   "source": [
    "# (06) For given two lists of integer, create a third list such that should contain only numbers which are divisible by 3 from the first list and numbers wchich are divisible by 5 from the second list."
   ],
   "metadata": {}
  },
  {
   "cell_type": "code",
   "execution_count": null,
   "source": [
    "def fun(L1,L2):\n",
    "    newL1=[i for i in L1 if i%3==0]\n",
    "    newL2=[i for i in L2 if i%5==0]\n",
    "    newL3=newL1+newL2\n",
    "    return newL3"
   ],
   "outputs": [],
   "metadata": {}
  },
  {
   "cell_type": "code",
   "execution_count": null,
   "source": [
    "P=[12,10,9,20]\n",
    "K=[10,15,23,34]\n",
    "fun(P,K)"
   ],
   "outputs": [
    {
     "output_type": "execute_result",
     "data": {
      "text/plain": [
       "[12, 9, 10, 15]"
      ]
     },
     "metadata": {},
     "execution_count": 5
    }
   ],
   "metadata": {}
  },
  {
   "cell_type": "markdown",
   "source": [
    "# (07) Given an array of integers, return True if 6 appears as either first or last element in the array.Else return False The array will be length 1 or more."
   ],
   "metadata": {}
  },
  {
   "cell_type": "code",
   "execution_count": null,
   "source": [
    "def fun(L):\n",
    "    if len(L)>=1 and (L[0]==6 or L[len(L)-1]==6):\n",
    "        return True\n",
    "    else:\n",
    "        return False"
   ],
   "outputs": [],
   "metadata": {}
  },
  {
   "cell_type": "code",
   "execution_count": null,
   "source": [
    "fun([5,6])"
   ],
   "outputs": [
    {
     "output_type": "execute_result",
     "data": {
      "text/plain": [
       "True"
      ]
     },
     "metadata": {},
     "execution_count": 11
    }
   ],
   "metadata": {}
  },
  {
   "cell_type": "markdown",
   "source": [
    "# (08) Given 2 arrays of integers; a and b, return True if they have the same first element or they have the same last element. Else return False. Both arrays will be length 1 or more."
   ],
   "metadata": {}
  },
  {
   "cell_type": "code",
   "execution_count": null,
   "source": [
    "def fun(a,b):\n",
    "    if (len(a)>=1 and len(b)>=1) and ((a[0]==b[0]) or (a[len(a)-1]==b[len(b)-1])):\n",
    "        return True\n",
    "    else:\n",
    "        return False"
   ],
   "outputs": [],
   "metadata": {}
  },
  {
   "cell_type": "code",
   "execution_count": null,
   "source": [
    "L1=[12,23,34]\n",
    "L2=[13,34,34]\n",
    "fun(L1,L2)"
   ],
   "outputs": [
    {
     "output_type": "execute_result",
     "data": {
      "text/plain": [
       "True"
      ]
     },
     "metadata": {},
     "execution_count": 16
    }
   ],
   "metadata": {}
  },
  {
   "cell_type": "markdown",
   "source": [
    "# (09) Given an array, figure out which is larger, the first or last element in the array and set all the other elements to be that value. Return the changed arrat."
   ],
   "metadata": {}
  },
  {
   "cell_type": "code",
   "execution_count": null,
   "source": [
    "def fun(L):\n",
    "    newL=[L[0] if L[0]>L[len(L)-1] else L[len(L)-1] for i in L]\n",
    "    return newL"
   ],
   "outputs": [],
   "metadata": {}
  },
  {
   "cell_type": "code",
   "execution_count": null,
   "source": [
    "fun([50,33,34])"
   ],
   "outputs": [
    {
     "output_type": "execute_result",
     "data": {
      "text/plain": [
       "[50, 50, 50]"
      ]
     },
     "metadata": {},
     "execution_count": 23
    }
   ],
   "metadata": {}
  },
  {
   "cell_type": "markdown",
   "source": [
    "# (10) Return the number of even integers in a given array."
   ],
   "metadata": {}
  },
  {
   "cell_type": "code",
   "execution_count": null,
   "source": [
    "def fun(L):\n",
    "    newL=[i for i in L if isinstance(i,int) and i%2==0]\n",
    "    return len(newL)"
   ],
   "outputs": [],
   "metadata": {}
  },
  {
   "cell_type": "code",
   "execution_count": null,
   "source": [
    "fun([12,22,31,11,45,44])"
   ],
   "outputs": [
    {
     "output_type": "execute_result",
     "data": {
      "text/plain": [
       "3"
      ]
     },
     "metadata": {},
     "execution_count": 25
    }
   ],
   "metadata": {}
  },
  {
   "cell_type": "markdown",
   "source": [
    "# (11) Return centered average of an array of integers, which means the mean of the values except the smallest value and the largest value of an array. The length of the array should be greater than 3."
   ],
   "metadata": {}
  },
  {
   "cell_type": "code",
   "execution_count": null,
   "source": [
    "def fun(L):\n",
    "    if len(L)>=3:\n",
    "        return (max(L)+min(L))/2\n",
    "    else:\n",
    "        print(\"Length of the array should be greater than 3\")"
   ],
   "outputs": [],
   "metadata": {}
  },
  {
   "cell_type": "code",
   "execution_count": null,
   "source": [
    "fun([34,33,32,34])"
   ],
   "outputs": [
    {
     "output_type": "execute_result",
     "data": {
      "text/plain": [
       "33.0"
      ]
     },
     "metadata": {},
     "execution_count": 28
    }
   ],
   "metadata": {}
  },
  {
   "cell_type": "markdown",
   "source": [
    "# (12) For an array with integers, return True if the array has atleast two similar values as neighbors."
   ],
   "metadata": {}
  },
  {
   "cell_type": "code",
   "execution_count": null,
   "source": [
    "def fun(L):\n",
    "    for i in range(len(L)-1):\n",
    "        if L[i]==L[i+1]:\n",
    "            return True"
   ],
   "outputs": [],
   "metadata": {}
  },
  {
   "cell_type": "code",
   "execution_count": null,
   "source": [
    "fun([12,22,23,23,45])"
   ],
   "outputs": [
    {
     "output_type": "execute_result",
     "data": {
      "text/plain": [
       "True"
      ]
     },
     "metadata": {},
     "execution_count": 34
    }
   ],
   "metadata": {}
  },
  {
   "cell_type": "markdown",
   "source": [
    "# (13) Write a program that converts total seconds into days, hours, minutes and seconds."
   ],
   "metadata": {}
  },
  {
   "cell_type": "code",
   "execution_count": null,
   "source": [
    "def fun(x):\n",
    "    days,drem=x//86400,x%86400\n",
    "    hours,hrem=drem//3600,drem%3600\n",
    "    minutes,seconds=hrem//60,hrem%60\n",
    "    \n",
    "    print(str(days)+\" Days,\"+str(hours)+\" Hours,\"+str(minutes)+\" Minutes,\"+str(seconds)+\" Seconds\")"
   ],
   "outputs": [],
   "metadata": {}
  },
  {
   "cell_type": "code",
   "execution_count": null,
   "source": [
    "fun(3454456)"
   ],
   "outputs": [
    {
     "output_type": "stream",
     "name": "stdout",
     "text": [
      "39 Days,23 Hours,34 Minutes,16 Seconds\n"
     ]
    }
   ],
   "metadata": {}
  }
 ],
 "metadata": {
  "kernelspec": {
   "name": "python3",
   "display_name": "Python 3.7.6 64-bit ('base': conda)"
  },
  "language_info": {
   "codemirror_mode": {
    "name": "ipython",
    "version": 3
   },
   "file_extension": ".py",
   "mimetype": "text/x-python",
   "name": "python",
   "nbconvert_exporter": "python",
   "pygments_lexer": "ipython3",
   "version": "3.7.6"
  },
  "interpreter": {
   "hash": "8867321196b4aed495a8cb57ae795b5cb9f69b50030feb2979c26ed6dde2da6a"
  }
 },
 "nbformat": 4,
 "nbformat_minor": 4
}