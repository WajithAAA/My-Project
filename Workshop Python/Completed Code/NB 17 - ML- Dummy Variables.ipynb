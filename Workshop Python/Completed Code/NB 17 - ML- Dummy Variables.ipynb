{
 "cells": [
  {
   "cell_type": "code",
   "execution_count": 1,
   "metadata": {},
   "outputs": [],
   "source": [
    "import pandas as pd\n",
    "import numpy as np\n",
    "from sklearn.preprocessing import LabelEncoder, OneHotEncoder #For encoding categorical variables"
   ]
  },
  {
   "cell_type": "code",
   "execution_count": 2,
   "metadata": {},
   "outputs": [
    {
     "data": {
      "text/html": [
       "<div>\n",
       "<style scoped>\n",
       "    .dataframe tbody tr th:only-of-type {\n",
       "        vertical-align: middle;\n",
       "    }\n",
       "\n",
       "    .dataframe tbody tr th {\n",
       "        vertical-align: top;\n",
       "    }\n",
       "\n",
       "    .dataframe thead th {\n",
       "        text-align: right;\n",
       "    }\n",
       "</style>\n",
       "<table border=\"1\" class=\"dataframe\">\n",
       "  <thead>\n",
       "    <tr style=\"text-align: right;\">\n",
       "      <th></th>\n",
       "      <th>ID</th>\n",
       "      <th>Gender</th>\n",
       "      <th>Age</th>\n",
       "      <th>Extra_Curricular</th>\n",
       "      <th>Study_Hours</th>\n",
       "      <th>Annual_Income</th>\n",
       "      <th>Distance_From_Home</th>\n",
       "      <th>GPA</th>\n",
       "    </tr>\n",
       "  </thead>\n",
       "  <tbody>\n",
       "    <tr>\n",
       "      <th>0</th>\n",
       "      <td>8867</td>\n",
       "      <td>Male</td>\n",
       "      <td>22</td>\n",
       "      <td>Societies</td>\n",
       "      <td>10</td>\n",
       "      <td>1318792</td>\n",
       "      <td>154</td>\n",
       "      <td>1.76</td>\n",
       "    </tr>\n",
       "    <tr>\n",
       "      <th>1</th>\n",
       "      <td>1316</td>\n",
       "      <td>Female</td>\n",
       "      <td>24</td>\n",
       "      <td>Societies</td>\n",
       "      <td>9</td>\n",
       "      <td>874657</td>\n",
       "      <td>181</td>\n",
       "      <td>3.88</td>\n",
       "    </tr>\n",
       "    <tr>\n",
       "      <th>2</th>\n",
       "      <td>9443</td>\n",
       "      <td>Male</td>\n",
       "      <td>22</td>\n",
       "      <td>Societies</td>\n",
       "      <td>15</td>\n",
       "      <td>1098331</td>\n",
       "      <td>94</td>\n",
       "      <td>1.73</td>\n",
       "    </tr>\n",
       "    <tr>\n",
       "      <th>3</th>\n",
       "      <td>1829</td>\n",
       "      <td>Female</td>\n",
       "      <td>25</td>\n",
       "      <td>No</td>\n",
       "      <td>9</td>\n",
       "      <td>1680585</td>\n",
       "      <td>8</td>\n",
       "      <td>1.29</td>\n",
       "    </tr>\n",
       "    <tr>\n",
       "      <th>4</th>\n",
       "      <td>1989</td>\n",
       "      <td>Male</td>\n",
       "      <td>26</td>\n",
       "      <td>No</td>\n",
       "      <td>7</td>\n",
       "      <td>1361560</td>\n",
       "      <td>122</td>\n",
       "      <td>3.19</td>\n",
       "    </tr>\n",
       "  </tbody>\n",
       "</table>\n",
       "</div>"
      ],
      "text/plain": [
       "     ID  Gender  Age Extra_Curricular  Study_Hours  Annual_Income  \\\n",
       "0  8867    Male   22        Societies           10        1318792   \n",
       "1  1316  Female   24        Societies            9         874657   \n",
       "2  9443    Male   22        Societies           15        1098331   \n",
       "3  1829  Female   25               No            9        1680585   \n",
       "4  1989    Male   26               No            7        1361560   \n",
       "\n",
       "   Distance_From_Home   GPA  \n",
       "0                 154  1.76  \n",
       "1                 181  3.88  \n",
       "2                  94  1.73  \n",
       "3                   8  1.29  \n",
       "4                 122  3.19  "
      ]
     },
     "execution_count": 2,
     "metadata": {},
     "output_type": "execute_result"
    }
   ],
   "source": [
    "data=pd.read_csv(\"D:\\\\Workshops\\\\Python for Data Science Comprehensive Workshop\\\\Part 04 - Machine Learning\\\\Datasets\\\\GPA_data.CSV\")\n",
    "data.head()"
   ]
  },
  {
   "cell_type": "markdown",
   "metadata": {},
   "source": [
    "# Creating dummy variables using pandas library"
   ]
  },
  {
   "cell_type": "markdown",
   "metadata": {},
   "source": [
    "# Convert the categorical variables into dummy variables using get_dummies function"
   ]
  },
  {
   "cell_type": "code",
   "execution_count": null,
   "metadata": {},
   "outputs": [],
   "source": [
    "df=pd.get_dummies(data[[\"Gender\",\"Extra_Curricular\"]])\n",
    "df.head()"
   ]
  },
  {
   "cell_type": "markdown",
   "metadata": {},
   "source": [
    "# Dummy Trapping (Removing one level from each categorical variable)"
   ]
  },
  {
   "cell_type": "code",
   "execution_count": null,
   "metadata": {},
   "outputs": [],
   "source": [
    "df.drop([\"Gender_Female\",\"Extra_Curricular_No\"],axis=1,inplace=True)\n",
    "df.head()"
   ]
  },
  {
   "cell_type": "markdown",
   "metadata": {},
   "source": [
    "# Now this dummy data frame can be merged with oroginal data frame"
   ]
  },
  {
   "cell_type": "code",
   "execution_count": null,
   "metadata": {},
   "outputs": [],
   "source": [
    "data_new=pd.concat([data,df],axis=1)\n",
    "data_new.head()"
   ]
  },
  {
   "cell_type": "markdown",
   "metadata": {},
   "source": [
    "# Original categorical variables can be removed now"
   ]
  },
  {
   "cell_type": "code",
   "execution_count": null,
   "metadata": {},
   "outputs": [],
   "source": [
    "data_new.drop([\"Gender\",\"Extra_Curricular\"],axis=1,inplace=True)\n",
    "data_new.head() #This data frame can be used for further processes"
   ]
  },
  {
   "cell_type": "markdown",
   "metadata": {},
   "source": [
    "# Creating dummy variables with label & one hot encoding"
   ]
  },
  {
   "cell_type": "code",
   "execution_count": null,
   "metadata": {},
   "outputs": [],
   "source": [
    "data.head()"
   ]
  },
  {
   "cell_type": "markdown",
   "metadata": {},
   "source": [
    "# First the label encoding should be performed"
   ]
  },
  {
   "cell_type": "markdown",
   "metadata": {},
   "source": [
    "# Creating a label encoder"
   ]
  },
  {
   "cell_type": "code",
   "execution_count": null,
   "metadata": {},
   "outputs": [],
   "source": [
    "le=LabelEncoder()\n",
    "le"
   ]
  },
  {
   "cell_type": "markdown",
   "metadata": {},
   "source": [
    "# Performing the label encoding for the categorical variables"
   ]
  },
  {
   "cell_type": "code",
   "execution_count": null,
   "metadata": {},
   "outputs": [],
   "source": [
    "data[[\"Gender\",\"Extra_Curricular\"]]=data[[\"Gender\",\"Extra_Curricular\"]].apply(lambda col : le.fit_transform(col))\n",
    "data.head()"
   ]
  },
  {
   "cell_type": "markdown",
   "metadata": {},
   "source": [
    "# Removing unwanted columns"
   ]
  },
  {
   "cell_type": "code",
   "execution_count": null,
   "metadata": {},
   "outputs": [],
   "source": [
    "data.drop(\"ID\",axis=1,inplace=True) #Drop ID column since that is unique for each observation\n",
    "data.head()"
   ]
  },
  {
   "cell_type": "markdown",
   "metadata": {},
   "source": [
    "# Creating a one hot encoder"
   ]
  },
  {
   "cell_type": "code",
   "execution_count": null,
   "metadata": {},
   "outputs": [],
   "source": [
    "ohe=OneHotEncoder()\n",
    "ohe"
   ]
  },
  {
   "cell_type": "markdown",
   "metadata": {},
   "source": [
    "# One hot encoding for categorical variables seperately"
   ]
  },
  {
   "cell_type": "code",
   "execution_count": null,
   "metadata": {},
   "outputs": [],
   "source": [
    "ohot_encoded_gen=ohe.fit_transform(np.array(data[\"Gender\"]).reshape(-1, 1)).toarray()\n",
    "arr_gen=ohot_encoded_gen[:,1].reshape(-1,1) #Dummy trapping is also done"
   ]
  },
  {
   "cell_type": "code",
   "execution_count": null,
   "metadata": {},
   "outputs": [],
   "source": [
    "ohot_encoded_EC=ohe.fit_transform(np.array(data[\"Extra_Curricular\"]).reshape(-1, 1)).toarray()\n",
    "arr_EC=ohot_encoded_EC[:,1:] #Dummy trapping is also done"
   ]
  },
  {
   "cell_type": "markdown",
   "metadata": {},
   "source": [
    "# Creating a dataframe with encoded data"
   ]
  },
  {
   "cell_type": "code",
   "execution_count": null,
   "metadata": {},
   "outputs": [],
   "source": [
    "df_ohot=pd.DataFrame(np.hstack((arr_gen,arr_EC)),columns=[\"Male\",\"Societies\",\"Sports\"]) #Encoding will be done in alphabetic"
   ]
  },
  {
   "cell_type": "code",
   "execution_count": null,
   "metadata": {},
   "outputs": [],
   "source": [
    "df_ohot.head()"
   ]
  },
  {
   "cell_type": "markdown",
   "metadata": {},
   "source": [
    "# Merging this data frame to the original data frame"
   ]
  },
  {
   "cell_type": "code",
   "execution_count": null,
   "metadata": {},
   "outputs": [],
   "source": [
    "data_new=pd.concat([data,df_ohot],axis=1)\n",
    "data_new.head()"
   ]
  },
  {
   "cell_type": "markdown",
   "metadata": {},
   "source": [
    "# Removing the original variables"
   ]
  },
  {
   "cell_type": "code",
   "execution_count": null,
   "metadata": {},
   "outputs": [],
   "source": [
    "data_new.drop([\"Gender\",\"Extra_Curricular\"],axis=1,inplace=True)\n",
    "data_new.head()"
   ]
  },
  {
   "cell_type": "markdown",
   "metadata": {},
   "source": [
    "# Now the other processes can be performed to this data frame"
   ]
  }
 ],
 "metadata": {
  "kernelspec": {
   "display_name": "Python 3",
   "language": "python",
   "name": "python3"
  },
  "language_info": {
   "codemirror_mode": {
    "name": "ipython",
    "version": 3
   },
   "file_extension": ".py",
   "mimetype": "text/x-python",
   "name": "python",
   "nbconvert_exporter": "python",
   "pygments_lexer": "ipython3",
   "version": "3.8.3"
  }
 },
 "nbformat": 4,
 "nbformat_minor": 4
}
