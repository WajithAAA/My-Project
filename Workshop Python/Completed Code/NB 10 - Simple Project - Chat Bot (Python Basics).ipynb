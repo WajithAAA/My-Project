{
 "cells": [
  {
   "cell_type": "markdown",
   "metadata": {},
   "source": [
    "# Build a simple chat bot for answering basic questions about a company"
   ]
  },
  {
   "cell_type": "code",
   "execution_count": null,
   "metadata": {},
   "outputs": [],
   "source": [
    "print(\"Jack: Hello I'm jack.What is your name?\")\n",
    "name=input(\"Your answer :\")\n",
    "print(f\"Jack: Hi {name}... So what do you want to know about our company?\")\n",
    "ans=input(\"Your answer :\")\n",
    "\n",
    "flag=True\n",
    "\n",
    "while flag:\n",
    "    if all(i in ans.lower().split(\" \") for i in[\"company\",\"name\"]):\n",
    "        print(\"Jack: Our company is XYZ(PVT)Ltd\")\n",
    "        print(\"Jack: Do you want to know any thing else?\")\n",
    "        check=input(\"Your answer :\")\n",
    "        if any(i in check.lower().split(\" \") for i in[\"yes\",\"yeah\"]):\n",
    "            print(\"Jack: Okay. What do you want to know?\")\n",
    "            ans=input(\"Your answer :\")\n",
    "            flag=True\n",
    "        else:\n",
    "            print(f\"Jack: Nice to chat with you {name}. Have a nice day...!!\")\n",
    "            flag=False\n",
    "            \n",
    "    elif all(i in ans.lower().split(\" \") for i in[\"ceo\",\"name\"]):\n",
    "        print(\"Jack: Our CEO is Mr. James\")\n",
    "        print(\"Jack: Do you want to know any thing else?\")\n",
    "        check=input(\"Your answer :\")\n",
    "        if any(i in check.lower().split(\" \") for i in[\"yes\",\"yeah\"]):\n",
    "            print(\"Jack: Okay. What do you want to know?\")\n",
    "            ans=input(\"Your answer :\")\n",
    "            flag=True\n",
    "        else:\n",
    "            print(f\"Jack: Nice to chat with you {name}. Have a nice day...!!\")\n",
    "            flag=False\n",
    "            \n",
    "    elif all(i in ans.lower().split(\" \") for i in[\"address\"]):\n",
    "        print(\"Jack: 125 Srimath Anagarika Dharmapala Mawatha, Colombo 7.\")\n",
    "        print(\"Jack: Do you want to know any thing else?\")\n",
    "        check=input(\"Your answer :\")\n",
    "        if any(i in check.lower().split(\" \") for i in[\"yes\",\"yeah\"]):\n",
    "            print(\"Jack: Okay. What do you want to know?\")\n",
    "            ans=input(\"Your answer :\")\n",
    "            flag=True\n",
    "        else:\n",
    "            print(f\"Jack: Nice to chat with you {name}. Have a nice day...!!\")\n",
    "            flag=False\n",
    "            \n",
    "    elif any(i in ans.lower().split(\" \") for i in[\"contact\",\"email\",\"telephone\",\"mobile\"]):\n",
    "        print(\"Jack: Our email is xyz@gmail.com and contact number is 011 2111111\")\n",
    "        print(\"Jack: Do you want to know any thing else?\")\n",
    "        check=input(\"Your answer :\")\n",
    "        if any(i in check.lower().split(\" \") for i in[\"yes\",\"yeah\"]):\n",
    "            print(\"Jack: Okay. What do you want to know?\")\n",
    "            ans=input(\"Your answer :\")\n",
    "            flag=True\n",
    "        else:\n",
    "            print(f\"Jack: Nice to chat with you {name}. Have a nice day...!!\")\n",
    "            flag=False\n",
    "    \n",
    "    else:\n",
    "        print(f\"Jack: Your question is not clear {name}. Do you want to know any thing else?\")\n",
    "        check=input(\"Your answer :\")\n",
    "        if any(i in check.lower().split(\" \") for i in[\"yes\",\"yeah\"]):\n",
    "            print(\"Jack: Okay. What do you want to know?\")\n",
    "            ans=input(\"Your answer :\")\n",
    "            flag=True\n",
    "        else:\n",
    "            print(f\"Jack: Nice to chat with you {name}. Have a nice day...!!\")\n",
    "            flag=False\n",
    "        "
   ]
  }
 ],
 "metadata": {
  "kernelspec": {
   "display_name": "Python 3",
   "language": "python",
   "name": "python3"
  },
  "language_info": {
   "codemirror_mode": {
    "name": "ipython",
    "version": 3
   },
   "file_extension": ".py",
   "mimetype": "text/x-python",
   "name": "python",
   "nbconvert_exporter": "python",
   "pygments_lexer": "ipython3",
   "version": "3.8.3"
  }
 },
 "nbformat": 4,
 "nbformat_minor": 4
}
