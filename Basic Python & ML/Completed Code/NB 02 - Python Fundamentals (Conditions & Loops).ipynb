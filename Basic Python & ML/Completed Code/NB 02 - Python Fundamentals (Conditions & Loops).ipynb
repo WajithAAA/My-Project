{
 "cells": [
  {
   "cell_type": "markdown",
   "source": [
    "# Conditions & Branching"
   ],
   "metadata": {}
  },
  {
   "cell_type": "markdown",
   "source": [
    "# if condition"
   ],
   "metadata": {}
  },
  {
   "cell_type": "code",
   "execution_count": 1,
   "source": [
    "x=20\r\n",
    "\r\n",
    "if x>10:\r\n",
    "    print(\"X is greater than 10\")"
   ],
   "outputs": [
    {
     "output_type": "stream",
     "name": "stdout",
     "text": [
      "X is greater than 10\n"
     ]
    }
   ],
   "metadata": {}
  },
  {
   "cell_type": "code",
   "execution_count": 2,
   "source": [
    "x=20\r\n",
    "\r\n",
    "if x<10:\r\n",
    "    print(\"X is less than 10\")\r\n",
    "\r\n",
    "#Here no output is given"
   ],
   "outputs": [],
   "metadata": {}
  },
  {
   "cell_type": "code",
   "execution_count": 3,
   "source": [
    "x=30\r\n",
    "\r\n",
    "if True:\r\n",
    "    print(\"Statement is true\")"
   ],
   "outputs": [
    {
     "output_type": "stream",
     "name": "stdout",
     "text": [
      "Statement is true\n"
     ]
    }
   ],
   "metadata": {}
  },
  {
   "cell_type": "code",
   "execution_count": 4,
   "source": [
    "x=30\r\n",
    "\r\n",
    "if False:\r\n",
    "    print(\"Statement is false\")"
   ],
   "outputs": [],
   "metadata": {}
  },
  {
   "cell_type": "code",
   "execution_count": 5,
   "source": [
    "L=[10,20,30,40,50]\n",
    "\n",
    "if 20 in L:\n",
    "    print(\"20 is a member of L\")"
   ],
   "outputs": [
    {
     "output_type": "stream",
     "name": "stdout",
     "text": [
      "20 is a member of L\n"
     ]
    }
   ],
   "metadata": {}
  },
  {
   "cell_type": "markdown",
   "source": [
    "# if else conditions"
   ],
   "metadata": {}
  },
  {
   "cell_type": "code",
   "execution_count": 6,
   "source": [
    "x=20\n",
    "\n",
    "if x>10:\n",
    "    print(\"X is greater than 10\")\n",
    "else:\n",
    "    print(\"X is less than 10\")"
   ],
   "outputs": [
    {
     "output_type": "stream",
     "name": "stdout",
     "text": [
      "X is greater than 10\n"
     ]
    }
   ],
   "metadata": {}
  },
  {
   "cell_type": "markdown",
   "source": [
    "# if elif else conditions"
   ],
   "metadata": {}
  },
  {
   "cell_type": "code",
   "execution_count": 7,
   "source": [
    "mark=75\n",
    "\n",
    "if mark>=80:\n",
    "    Grade=\"A\"\n",
    "elif mark>=65:\n",
    "    Grade=\"B\"\n",
    "elif mark>=50:\n",
    "    Grade=\"C\"\n",
    "else:\n",
    "    Grade=\"Repeat\""
   ],
   "outputs": [],
   "metadata": {}
  },
  {
   "cell_type": "code",
   "execution_count": 8,
   "source": [
    "Grade"
   ],
   "outputs": [
    {
     "output_type": "execute_result",
     "data": {
      "text/plain": [
       "'B'"
      ]
     },
     "metadata": {},
     "execution_count": 8
    }
   ],
   "metadata": {}
  },
  {
   "cell_type": "markdown",
   "source": [
    "# Making decisions with logical operators"
   ],
   "metadata": {}
  },
  {
   "cell_type": "code",
   "execution_count": 9,
   "source": [
    "x=30\n",
    "\n",
    "if x>10 and x<50:\n",
    "    print(\"X is in the correct region\")\n",
    "else:\n",
    "    print(\"X is out of the region\")"
   ],
   "outputs": [
    {
     "output_type": "stream",
     "name": "stdout",
     "text": [
      "X is in the correct region\n"
     ]
    }
   ],
   "metadata": {}
  },
  {
   "cell_type": "code",
   "execution_count": 10,
   "source": [
    "x=30\n",
    "\n",
    "if x>10 or x==50:\n",
    "    print(\"X is in the correct region\")\n",
    "else:\n",
    "    print(\"X is out of the region\")"
   ],
   "outputs": [
    {
     "output_type": "stream",
     "name": "stdout",
     "text": [
      "X is in the correct region\n"
     ]
    }
   ],
   "metadata": {}
  },
  {
   "cell_type": "code",
   "execution_count": 11,
   "source": [
    "x=30\n",
    "\n",
    "if not x>10 or x==50:\n",
    "    print(\"X is in the correct region\")\n",
    "else:\n",
    "    print(\"X is out of the region\")"
   ],
   "outputs": [
    {
     "output_type": "stream",
     "name": "stdout",
     "text": [
      "X is out of the region\n"
     ]
    }
   ],
   "metadata": {}
  },
  {
   "cell_type": "code",
   "execution_count": 12,
   "source": [
    "det={\"Sam\":\"ABC\",\"Kane\":\"XYZ\"}\n",
    "\n",
    "username=input(\"Please enter the username:\")\n",
    "password=input(\"Please enter the password:\")\n",
    "\n",
    "if username in det and password==det[username]:\n",
    "    print(\"You have logged successfully\")\n",
    "else:\n",
    "    print(\"Please check your username or password\")"
   ],
   "outputs": [],
   "metadata": {}
  },
  {
   "cell_type": "markdown",
   "source": [
    "# For loop"
   ],
   "metadata": {}
  },
  {
   "cell_type": "markdown",
   "source": [
    "# Basic for loop"
   ],
   "metadata": {}
  },
  {
   "cell_type": "code",
   "execution_count": null,
   "source": [
    "L=[11,22,33,44,55,66,77]"
   ],
   "outputs": [],
   "metadata": {}
  },
  {
   "cell_type": "code",
   "execution_count": null,
   "source": [
    "for i in L:\n",
    "    print(i)"
   ],
   "outputs": [],
   "metadata": {}
  },
  {
   "cell_type": "code",
   "execution_count": null,
   "source": [
    "for i in L:\n",
    "    print(i, end=\"*\")"
   ],
   "outputs": [],
   "metadata": {}
  },
  {
   "cell_type": "code",
   "execution_count": null,
   "source": [
    "for i in L:\n",
    "    print(2*i, end=\",\")"
   ],
   "outputs": [],
   "metadata": {}
  },
  {
   "cell_type": "code",
   "execution_count": null,
   "source": [
    "for i in L:\n",
    "    if i%2==0:\n",
    "        print(i, end=\" \")"
   ],
   "outputs": [],
   "metadata": {}
  },
  {
   "cell_type": "markdown",
   "source": [
    "# Range function"
   ],
   "metadata": {}
  },
  {
   "cell_type": "code",
   "execution_count": null,
   "source": [
    "range(1,10)"
   ],
   "outputs": [],
   "metadata": {}
  },
  {
   "cell_type": "code",
   "execution_count": null,
   "source": [
    "list(range(1,10))"
   ],
   "outputs": [],
   "metadata": {}
  },
  {
   "cell_type": "code",
   "execution_count": null,
   "source": [
    "list(range(1,11))"
   ],
   "outputs": [],
   "metadata": {}
  },
  {
   "cell_type": "code",
   "execution_count": null,
   "source": [
    "list(range(11))"
   ],
   "outputs": [],
   "metadata": {}
  },
  {
   "cell_type": "code",
   "execution_count": null,
   "source": [
    "list(range(1,11,2))"
   ],
   "outputs": [],
   "metadata": {}
  },
  {
   "cell_type": "markdown",
   "source": [
    "# For loop with range function"
   ],
   "metadata": {}
  },
  {
   "cell_type": "code",
   "execution_count": null,
   "source": [
    "for i in range(10):\n",
    "    print(i)"
   ],
   "outputs": [],
   "metadata": {}
  },
  {
   "cell_type": "code",
   "execution_count": null,
   "source": [
    "for i in range(11,21):\n",
    "    print(i, end=\" \")"
   ],
   "outputs": [],
   "metadata": {}
  },
  {
   "cell_type": "code",
   "execution_count": null,
   "source": [
    "for i in range(1,11):\n",
    "    if i%2==0:\n",
    "        print(\"Even\", end=\" \")\n",
    "    else:\n",
    "        print(\"Odd\", end=\" \")"
   ],
   "outputs": [],
   "metadata": {}
  },
  {
   "cell_type": "markdown",
   "source": [
    "# Break keyword"
   ],
   "metadata": {}
  },
  {
   "cell_type": "code",
   "execution_count": null,
   "source": [
    "for i in [12,22,23,34,56,43,67]:\n",
    "    if i>=50:\n",
    "        break\n",
    "    print(i)"
   ],
   "outputs": [],
   "metadata": {}
  },
  {
   "cell_type": "markdown",
   "source": [
    "# Continue keyword"
   ],
   "metadata": {}
  },
  {
   "cell_type": "code",
   "execution_count": null,
   "source": [
    "for i in [12,22,23,34,56,43,67]:\n",
    "    if i>=50:\n",
    "        continue\n",
    "    print(i)"
   ],
   "outputs": [],
   "metadata": {}
  },
  {
   "cell_type": "markdown",
   "source": [
    "# For loop inside lists"
   ],
   "metadata": {}
  },
  {
   "cell_type": "code",
   "execution_count": null,
   "source": [
    "L=[23,33,21,45,56]"
   ],
   "outputs": [],
   "metadata": {}
  },
  {
   "cell_type": "code",
   "execution_count": null,
   "source": [
    "L_new=[2*i for i in L]\n",
    "print(L_new)"
   ],
   "outputs": [],
   "metadata": {}
  },
  {
   "cell_type": "code",
   "execution_count": null,
   "source": [
    "K=[3*j for j in range(1,11)]\n",
    "print(K)"
   ],
   "outputs": [],
   "metadata": {}
  },
  {
   "cell_type": "code",
   "execution_count": null,
   "source": [
    "H=[23,33,34,45,56,78]\n",
    "S=[H[i] for i in [1,2,4]]\n",
    "print(S)"
   ],
   "outputs": [],
   "metadata": {}
  },
  {
   "cell_type": "markdown",
   "source": [
    "# For loop inside lists with if condition"
   ],
   "metadata": {}
  },
  {
   "cell_type": "code",
   "execution_count": null,
   "source": [
    "L=[11,23,24,46,57,68,43,50]"
   ],
   "outputs": [],
   "metadata": {}
  },
  {
   "cell_type": "code",
   "execution_count": null,
   "source": [
    "L_new=[j for j in L if j%2==0]\n",
    "print(L_new)"
   ],
   "outputs": [],
   "metadata": {}
  },
  {
   "cell_type": "markdown",
   "source": [
    "# For loop inside lists with if else conditions"
   ],
   "metadata": {}
  },
  {
   "cell_type": "code",
   "execution_count": null,
   "source": [
    "L=[11,23,24,46,57,68,43,50]"
   ],
   "outputs": [],
   "metadata": {}
  },
  {
   "cell_type": "code",
   "execution_count": null,
   "source": [
    "L_new=[\"Even\" if i%2==0 else \"Odd\" for i in L]\n",
    "print(L_new)"
   ],
   "outputs": [],
   "metadata": {}
  },
  {
   "cell_type": "code",
   "execution_count": null,
   "source": [
    "mark=[90,34,56,78,83,45,68]"
   ],
   "outputs": [],
   "metadata": {}
  },
  {
   "cell_type": "code",
   "execution_count": null,
   "source": [
    "Grade=[\"A\" if i>=80 else \"B\" if i>=65 else \"C\" if i>=50 else \"Repeat\" for i in mark]\n",
    "print(Grade)"
   ],
   "outputs": [],
   "metadata": {}
  },
  {
   "cell_type": "markdown",
   "source": [
    "# Enumerate function"
   ],
   "metadata": {}
  },
  {
   "cell_type": "code",
   "execution_count": null,
   "source": [
    "L=[12,22,34,45]\n",
    "\n",
    "for i,j in enumerate(L):\n",
    "    print(i)\n",
    "    print(j)\n",
    "    print(\"----\")"
   ],
   "outputs": [],
   "metadata": {}
  },
  {
   "cell_type": "code",
   "execution_count": null,
   "source": [
    "H=[23,33,44,43,45,56,43,32,56,67]\n",
    "S=[j for i,j in enumerate(H) if i in [1,4,9]]\n",
    "S"
   ],
   "outputs": [],
   "metadata": {}
  },
  {
   "cell_type": "markdown",
   "source": [
    "# Zip function"
   ],
   "metadata": {}
  },
  {
   "cell_type": "code",
   "execution_count": null,
   "source": [
    "L1=[12,22,23,34,54]\n",
    "L2=[23,33,45,67,43]\n",
    "\n",
    "for i,j in zip(L1,L2):\n",
    "    print(i,j)"
   ],
   "outputs": [],
   "metadata": {}
  },
  {
   "cell_type": "code",
   "execution_count": null,
   "source": [
    "L1=[12,22,23,34,54]\n",
    "L2=[23,33,45,67,43]\n",
    "\n",
    "L_Sum=[]\n",
    "for i,j in zip(L1,L2):\n",
    "    L_Sum.append(i+j)"
   ],
   "outputs": [],
   "metadata": {}
  },
  {
   "cell_type": "code",
   "execution_count": null,
   "source": [
    "L_Sum"
   ],
   "outputs": [],
   "metadata": {}
  },
  {
   "cell_type": "code",
   "execution_count": null,
   "source": [
    "L_sum2=[i+j for i,j in zip(L1,L2)]\n",
    "print(L_sum2)"
   ],
   "outputs": [],
   "metadata": {}
  },
  {
   "cell_type": "markdown",
   "source": [
    "# While loop"
   ],
   "metadata": {}
  },
  {
   "cell_type": "code",
   "execution_count": null,
   "source": [
    "x=0\n",
    "\n",
    "while x<5:\n",
    "    print(2*x)\n",
    "    x=x+1"
   ],
   "outputs": [],
   "metadata": {}
  },
  {
   "cell_type": "code",
   "execution_count": null,
   "source": [
    "pin=12345678\n",
    "\n",
    "check=True\n",
    "while check:\n",
    "    entered_pin=int(input(\"Please enter your car pin number:\"))\n",
    "    if entered_pin==pin:\n",
    "        check=False\n",
    "else:\n",
    "    print(\"You have accessed to the machine\")"
   ],
   "outputs": [],
   "metadata": {}
  },
  {
   "cell_type": "code",
   "execution_count": null,
   "source": [
    "pin=12345678\n",
    "\n",
    "entered_pin=int(input(\"Please enter your car pin number:\"))\n",
    "\n",
    "while entered_pin!=pin:\n",
    "    entered_pin=int(input(\"Please enter your car pin number:\"))\n",
    "else:\n",
    "    print(\"You have accessed to the machine\")"
   ],
   "outputs": [],
   "metadata": {}
  },
  {
   "cell_type": "code",
   "execution_count": null,
   "source": [
    "val=int(input(\"Enter a value:\"))\n",
    "flag=True\n",
    "while flag:\n",
    "    val=int(input(\"Enter a value:\"))\n",
    "    if val>30 and val<40:\n",
    "        flag=False"
   ],
   "outputs": [],
   "metadata": {}
  }
 ],
 "metadata": {
  "kernelspec": {
   "name": "python3",
   "display_name": "Python 3.7.6 64-bit ('base': conda)"
  },
  "language_info": {
   "codemirror_mode": {
    "name": "ipython",
    "version": 3
   },
   "file_extension": ".py",
   "mimetype": "text/x-python",
   "name": "python",
   "nbconvert_exporter": "python",
   "pygments_lexer": "ipython3",
   "version": "3.7.6"
  },
  "interpreter": {
   "hash": "8867321196b4aed495a8cb57ae795b5cb9f69b50030feb2979c26ed6dde2da6a"
  }
 },
 "nbformat": 4,
 "nbformat_minor": 4
}