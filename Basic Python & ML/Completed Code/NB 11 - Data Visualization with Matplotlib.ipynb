{
 "cells": [
  {
   "cell_type": "markdown",
   "source": [
    "# Importing matplotlib.pyplot"
   ],
   "metadata": {}
  },
  {
   "cell_type": "code",
   "execution_count": 1,
   "source": [
    "import matplotlib.pyplot as plt\r\n",
    "import numpy as np #Importing numpy for future usage\r\n",
    "import pandas as pd #Importing pandas for future usage"
   ],
   "outputs": [],
   "metadata": {}
  },
  {
   "cell_type": "markdown",
   "source": [
    "# A simple line chart"
   ],
   "metadata": {}
  },
  {
   "cell_type": "code",
   "execution_count": null,
   "source": [
    "L1=[1,2,3,4]\r\n",
    "L2=[10,25,32,58]\r\n",
    "plt.plot(L1,L2)\r\n",
    "plt.show()"
   ],
   "outputs": [],
   "metadata": {}
  },
  {
   "cell_type": "markdown",
   "source": [
    "# Adding a title and axis names"
   ],
   "metadata": {}
  },
  {
   "cell_type": "code",
   "execution_count": null,
   "source": [
    "L1=[1,2,3,4]\r\n",
    "L2=[10,25,32,58]\r\n",
    "plt.plot(L1,L2)\r\n",
    "plt.title(\"A Simple Line Plot\")\r\n",
    "plt.xlabel(\"L1\")\r\n",
    "plt.ylabel(\"L2\")\r\n",
    "plt.show()"
   ],
   "outputs": [],
   "metadata": {}
  },
  {
   "cell_type": "markdown",
   "source": [
    "# Changing the figure size"
   ],
   "metadata": {}
  },
  {
   "cell_type": "code",
   "execution_count": null,
   "source": [
    "L1=[1,2,3,4]\r\n",
    "L2=[10,25,32,58]\r\n",
    "plt.figure(figsize=(8,7))\r\n",
    "plt.plot(L1,L2)\r\n",
    "plt.title(\"A Simple Line Plot\")\r\n",
    "plt.xlabel(\"L1\")\r\n",
    "plt.ylabel(\"L2\")\r\n",
    "plt.show()"
   ],
   "outputs": [],
   "metadata": {}
  },
  {
   "cell_type": "markdown",
   "source": [
    "# Changing the colour and type of the chart"
   ],
   "metadata": {}
  },
  {
   "cell_type": "code",
   "execution_count": null,
   "source": [
    "L1=[1,2,3,4]\r\n",
    "L2=[10,25,32,58]\r\n",
    "plt.plot(L1,L2,\"go\")\r\n",
    "plt.title(\"A Simple Line Plot\")\r\n",
    "plt.xlabel(\"L1\")\r\n",
    "plt.ylabel(\"L2\")\r\n",
    "plt.show()"
   ],
   "outputs": [],
   "metadata": {}
  },
  {
   "cell_type": "code",
   "execution_count": null,
   "source": [
    "L1=[1,2,3,4]\r\n",
    "L2=[10,25,32,58]\r\n",
    "plt.plot(L1,L2,\"r+\")\r\n",
    "plt.title(\"A Simple Line Plot\")\r\n",
    "plt.xlabel(\"L1\")\r\n",
    "plt.ylabel(\"L2\")\r\n",
    "plt.show()"
   ],
   "outputs": [],
   "metadata": {}
  },
  {
   "cell_type": "code",
   "execution_count": null,
   "source": [
    "L1=[1,2,3,4]\r\n",
    "L2=[10,25,32,58]\r\n",
    "plt.plot(L1,L2,\"b*\")\r\n",
    "plt.title(\"A Simple Line Plot\")\r\n",
    "plt.xlabel(\"L1\")\r\n",
    "plt.ylabel(\"L2\")\r\n",
    "plt.show()"
   ],
   "outputs": [],
   "metadata": {}
  },
  {
   "cell_type": "markdown",
   "source": [
    "# Plotting multiple charts together"
   ],
   "metadata": {}
  },
  {
   "cell_type": "code",
   "execution_count": null,
   "source": [
    "x=np.arange(10)\r\n",
    "y1=x+5\r\n",
    "y2=x**2\r\n",
    "plt.plot(x,y1,\"b*\",x,y2,\"go\")\r\n",
    "plt.title(\"Two plots together\")\r\n",
    "plt.xlabel(\"X\")\r\n",
    "plt.ylabel(\"Y\")\r\n",
    "plt.show()"
   ],
   "outputs": [],
   "metadata": {}
  },
  {
   "cell_type": "code",
   "execution_count": null,
   "source": [
    "x=np.arange(10)\r\n",
    "y1=x+5\r\n",
    "y2=x**2\r\n",
    "plt.plot(x,y1,\"b*\",y2,\"go\")\r\n",
    "plt.title(\"Two plots together\")\r\n",
    "plt.xlabel(\"X\")\r\n",
    "plt.ylabel(\"Y\")\r\n",
    "plt.show()"
   ],
   "outputs": [],
   "metadata": {}
  },
  {
   "cell_type": "markdown",
   "source": [
    "# Subplots in the same figure"
   ],
   "metadata": {}
  },
  {
   "cell_type": "markdown",
   "source": [
    "# First method"
   ],
   "metadata": {}
  },
  {
   "cell_type": "code",
   "execution_count": null,
   "source": [
    "x=np.arange(10)\r\n",
    "y1=x+5\r\n",
    "y2=x**2\r\n",
    "plt.figure(figsize=(10,5))\r\n",
    "\r\n",
    "#Plots are created with a single row and two columns\r\n",
    "plt.subplot(1,2,1)\r\n",
    "plt.plot(x,y1,\"b*\")\r\n",
    "plt.title(\"First chart\")\r\n",
    "plt.xlabel(\"X\")\r\n",
    "plt.ylabel(\"Y\")\r\n",
    "\r\n",
    "plt.subplot(1,2,2)\r\n",
    "plt.plot(x,y2,\"go\")\r\n",
    "plt.title(\"Second chart\")\r\n",
    "plt.xlabel(\"X\")\r\n",
    "plt.ylabel(\"Y\")\r\n",
    "\r\n",
    "plt.show()"
   ],
   "outputs": [],
   "metadata": {}
  },
  {
   "cell_type": "code",
   "execution_count": null,
   "source": [
    "x=np.arange(10)\r\n",
    "y1=x+5\r\n",
    "y2=x**2\r\n",
    "y3=-x\r\n",
    "y4=np.sqrt(x)\r\n",
    "plt.figure(figsize=(15,10))\r\n",
    "\r\n",
    "#Plots are created with a two rows and two columns\r\n",
    "plt.subplot(2,2,1)\r\n",
    "plt.plot(x,y1,\"b*\")\r\n",
    "plt.title(\"First chart\")\r\n",
    "plt.xlabel(\"X\")\r\n",
    "plt.ylabel(\"Y\")\r\n",
    "\r\n",
    "plt.subplot(2,2,2)\r\n",
    "plt.plot(x,y2,\"go\")\r\n",
    "plt.title(\"Second chart\")\r\n",
    "plt.xlabel(\"X\")\r\n",
    "plt.ylabel(\"Y\")\r\n",
    "\r\n",
    "plt.subplot(2,2,3)\r\n",
    "plt.plot(x,y3,\"r+\")\r\n",
    "plt.title(\"Third chart\")\r\n",
    "plt.xlabel(\"X\")\r\n",
    "plt.ylabel(\"Y\")\r\n",
    "\r\n",
    "plt.subplot(2,2,4)\r\n",
    "plt.plot(x,y4,\"k-\")\r\n",
    "plt.title(\"Fourth chart\")\r\n",
    "plt.xlabel(\"X\")\r\n",
    "plt.ylabel(\"Y\")\r\n",
    "\r\n",
    "plt.show()"
   ],
   "outputs": [],
   "metadata": {}
  },
  {
   "cell_type": "markdown",
   "source": [
    "# Second method"
   ],
   "metadata": {}
  },
  {
   "cell_type": "code",
   "execution_count": null,
   "source": [
    "x=np.arange(10)\r\n",
    "y1=-(x**2)\r\n",
    "y2=x**3\r\n",
    "y3=np.exp(x)\r\n",
    "y4=np.sqrt(x)\r\n",
    "\r\n",
    "#Plots are created with a two rows and two columns\r\n",
    "fig,ax=plt.subplots(nrows=2,ncols=2,figsize=(15,10))\r\n",
    "\r\n",
    "ax[0,0].plot(x,y1,\"b*\")\r\n",
    "ax[0,0].set_title(\"First chart\")\r\n",
    "ax[0,0].set_xlabel(\"X\")\r\n",
    "ax[0,0].set_ylabel(\"Y\")\r\n",
    "\r\n",
    "ax[0,1].plot(x,y2,\"go\")\r\n",
    "ax[0,1].set_title(\"Second chart\")\r\n",
    "ax[0,1].set_xlabel(\"X\")\r\n",
    "ax[0,1].set_ylabel(\"Y\")\r\n",
    "\r\n",
    "ax[1,0].plot(x,y3,\"r+\")\r\n",
    "ax[1,0].set_title(\"Thrird chart\")\r\n",
    "ax[1,0].set_xlabel(\"X\")\r\n",
    "ax[1,0].set_ylabel(\"Y\")\r\n",
    "\r\n",
    "ax[1,1].plot(x,y4,\"k-\")\r\n",
    "ax[1,1].set_title(\"Fourth chart\")\r\n",
    "ax[1,1].set_xlabel(\"X\")\r\n",
    "ax[1,1].set_ylabel(\"Y\")\r\n",
    "\r\n",
    "\r\n",
    "plt.show()"
   ],
   "outputs": [],
   "metadata": {}
  },
  {
   "cell_type": "markdown",
   "source": [
    "# Numerical data"
   ],
   "metadata": {}
  },
  {
   "cell_type": "markdown",
   "source": [
    "Line charts have already been discussed with lists"
   ],
   "metadata": {}
  },
  {
   "cell_type": "markdown",
   "source": [
    "# Line Charts"
   ],
   "metadata": {}
  },
  {
   "cell_type": "code",
   "execution_count": null,
   "source": [
    "df=pd.read_csv(\"D:\\\\Workshops\\\\Python for Data Science Comprehensive Workshop\\\\Part 03 - Data Visualization\\\\Datasets\\\\default.CSV\")\r\n",
    "df.head()"
   ],
   "outputs": [],
   "metadata": {}
  },
  {
   "cell_type": "code",
   "execution_count": null,
   "source": [
    "plt.plot(range(1,len(df)+1),df[\"Work.Exp\"])\r\n",
    "plt.title(\"Work Experience with ID\")\r\n",
    "plt.xlabel(\"ID\")\r\n",
    "plt.ylabel(\"Work Experience\")\r\n",
    "plt.show()"
   ],
   "outputs": [],
   "metadata": {}
  },
  {
   "cell_type": "markdown",
   "source": [
    "# Histogram"
   ],
   "metadata": {}
  },
  {
   "cell_type": "code",
   "execution_count": null,
   "source": [
    "data=np.random.random(1000)\r\n",
    "plt.hist(data,20)\r\n",
    "plt.title(\"Histogram of random data\")\r\n",
    "plt.xlabel(\"Random data\")\r\n",
    "plt.ylabel(\"Frequency\")\r\n",
    "plt.show()"
   ],
   "outputs": [],
   "metadata": {}
  },
  {
   "cell_type": "code",
   "execution_count": null,
   "source": [
    "data=np.random.randn(1000)\r\n",
    "plt.hist(data,20)\r\n",
    "plt.title(\"Histogram of random data\")\r\n",
    "plt.xlabel(\"Random data\")\r\n",
    "plt.ylabel(\"Frequency\")\r\n",
    "plt.show()"
   ],
   "outputs": [],
   "metadata": {}
  },
  {
   "cell_type": "code",
   "execution_count": null,
   "source": [
    "df=pd.read_csv(\"D:\\\\Workshops\\\\Python for Data Science Comprehensive Workshop\\\\Part 03 - Data Visualization\\\\Datasets\\\\default.CSV\")\r\n",
    "df.head()"
   ],
   "outputs": [],
   "metadata": {}
  },
  {
   "cell_type": "code",
   "execution_count": null,
   "source": [
    "plt.hist(df[\"Credit.Score\"],20)\r\n",
    "plt.title(\"Histogram of Credit Score\")\r\n",
    "plt.xlabel(\"Credit Score\")\r\n",
    "plt.ylabel(\"Frequency\")\r\n",
    "plt.show()"
   ],
   "outputs": [],
   "metadata": {}
  },
  {
   "cell_type": "markdown",
   "source": [
    "# Boxplots"
   ],
   "metadata": {}
  },
  {
   "cell_type": "code",
   "execution_count": null,
   "source": [
    "data=np.random.randn(1000)\r\n",
    "plt.boxplot(data)\r\n",
    "plt.title(\"Boxplot of random data\")\r\n",
    "plt.xlabel(\"Random data\")\r\n",
    "plt.ylabel(\"Spread\")\r\n",
    "plt.show()"
   ],
   "outputs": [],
   "metadata": {}
  },
  {
   "cell_type": "code",
   "execution_count": null,
   "source": [
    "df=pd.read_csv(\"D:\\\\Workshops\\\\Python for Data Science Comprehensive Workshop\\\\Part 03 - Data Visualization\\\\Datasets\\\\default.CSV\")\r\n",
    "df.head()"
   ],
   "outputs": [],
   "metadata": {}
  },
  {
   "cell_type": "code",
   "execution_count": null,
   "source": [
    "plt.boxplot(df[\"Work.Exp\"])\r\n",
    "plt.title(\"Boxplot of Work Experience\")\r\n",
    "plt.xlabel(\"Work Experience\")\r\n",
    "plt.ylabel(\"Spread\")\r\n",
    "plt.show()"
   ],
   "outputs": [],
   "metadata": {}
  },
  {
   "cell_type": "markdown",
   "source": [
    "# Categorical data"
   ],
   "metadata": {}
  },
  {
   "cell_type": "markdown",
   "source": [
    "# Bar graphs"
   ],
   "metadata": {}
  },
  {
   "cell_type": "code",
   "execution_count": null,
   "source": [
    "Gender=[\"Male\",\"Female\"]\r\n",
    "Number_Of_Students=[45,75]\r\n",
    "\r\n",
    "plt.bar(Gender,Number_Of_Students,color=\"green\")\r\n",
    "plt.title(\"Number of students with gender\")\r\n",
    "plt.xlabel(\"Gender\")\r\n",
    "plt.ylabel(\"Number of students\")\r\n",
    "plt.show()"
   ],
   "outputs": [],
   "metadata": {}
  },
  {
   "cell_type": "code",
   "execution_count": null,
   "source": [
    "df=pd.read_csv(\"D:\\\\Workshops\\\\Python for Data Science Comprehensive Workshop\\\\Part 03 - Data Visualization\\\\Datasets\\\\default.CSV\")\r\n",
    "df.head()"
   ],
   "outputs": [],
   "metadata": {}
  },
  {
   "cell_type": "code",
   "execution_count": null,
   "source": [
    "g=df.groupby(\"Gender\")[\"Gender\"].count()\r\n",
    "df=pd.DataFrame(g)\r\n",
    "df.columns=[\"Count\"]\r\n",
    "df.reset_index(inplace=True)\r\n",
    "df"
   ],
   "outputs": [],
   "metadata": {}
  },
  {
   "cell_type": "code",
   "execution_count": null,
   "source": [
    "g=plt.bar(df[\"Gender\"],df[\"Count\"],color=\"green\")\r\n",
    "plt.title(\"Count with gender\")\r\n",
    "plt.xlabel(\"Gender\")\r\n",
    "plt.ylabel(\"Count\")\r\n",
    "plt.show()"
   ],
   "outputs": [],
   "metadata": {}
  },
  {
   "cell_type": "markdown",
   "source": [
    "# Different colours for bars"
   ],
   "metadata": {}
  },
  {
   "cell_type": "code",
   "execution_count": null,
   "source": [
    "Gender=[\"Male\",\"Female\"]\r\n",
    "Number_Of_Students=[45,75]\r\n",
    "\r\n",
    "plt.bar(Gender,Number_Of_Students,color=[\"green\",\"red\"])\r\n",
    "plt.title(\"Number of students with gender\")\r\n",
    "plt.xlabel(\"Gender\")\r\n",
    "plt.ylabel(\"Number of students\")\r\n",
    "plt.show()"
   ],
   "outputs": [],
   "metadata": {}
  },
  {
   "cell_type": "markdown",
   "source": [
    "# Horizontal bar graphs"
   ],
   "metadata": {}
  },
  {
   "cell_type": "code",
   "execution_count": null,
   "source": [
    "Gender=[\"Male\",\"Female\"]\r\n",
    "Number_Of_Students=[45,75]\r\n",
    "\r\n",
    "plt.barh(Gender,Number_Of_Students,color=[\"blue\",\"orange\"])\r\n",
    "plt.title(\"Number of students with gender\")\r\n",
    "plt.ylabel(\"Gender\")\r\n",
    "plt.xlabel(\"Number of students\")\r\n",
    "plt.show()"
   ],
   "outputs": [],
   "metadata": {}
  },
  {
   "cell_type": "markdown",
   "source": [
    "# Pie charts"
   ],
   "metadata": {}
  },
  {
   "cell_type": "code",
   "execution_count": null,
   "source": [
    "Gender=[\"Male\",\"Female\"]\r\n",
    "Number_Of_Students=[45,75]\r\n",
    "\r\n",
    "plt.pie(Number_Of_Students,labels=Gender)\r\n",
    "plt.title(\"Number of students with gender\")\r\n",
    "plt.show()"
   ],
   "outputs": [],
   "metadata": {}
  },
  {
   "cell_type": "markdown",
   "source": [
    "# Pie charts with legends"
   ],
   "metadata": {}
  },
  {
   "cell_type": "code",
   "execution_count": null,
   "source": [
    "Gender=[\"Male\",\"Female\"]\r\n",
    "Number_Of_Students=[45,75]\r\n",
    "\r\n",
    "plt.pie(Number_Of_Students,labels=Gender)\r\n",
    "plt.legend(title=\"Gender\")\r\n",
    "plt.axis(\"equal\")\r\n",
    "plt.title(\"Number of students with gender\")\r\n",
    "plt.show()"
   ],
   "outputs": [],
   "metadata": {}
  },
  {
   "cell_type": "markdown",
   "source": [
    "# Pie charts with explodes"
   ],
   "metadata": {}
  },
  {
   "cell_type": "code",
   "execution_count": null,
   "source": [
    "Gender=[\"Male\",\"Female\"]\r\n",
    "Number_Of_Students=[45,75]\r\n",
    "\r\n",
    "plt.pie(Number_Of_Students,labels=Gender,explode=[0,0.2])\r\n",
    "plt.legend(title=\"Gender\")\r\n",
    "plt.axis(\"equal\")\r\n",
    "plt.title(\"Number of students with gender\")\r\n",
    "plt.show()"
   ],
   "outputs": [],
   "metadata": {}
  },
  {
   "cell_type": "code",
   "execution_count": null,
   "source": [
    "Name=[\"John\",\"Kane\",\"Anne\",\"Jane\"]\r\n",
    "Company_share=[20,15,35,30]\r\n",
    "\r\n",
    "plt.figure(figsize=(8,8))\r\n",
    "plt.pie(Company_share,labels=Name,explode=[0,0.1,0,0])\r\n",
    "plt.axis(\"equal\")\r\n",
    "plt.legend(title=\"Share Holders\")\r\n",
    "plt.title(\"Company Shares\")\r\n",
    "plt.show()"
   ],
   "outputs": [],
   "metadata": {}
  },
  {
   "cell_type": "markdown",
   "source": [
    "# Numerical VS Numerical"
   ],
   "metadata": {}
  },
  {
   "cell_type": "markdown",
   "source": [
    "# Scatter plots"
   ],
   "metadata": {}
  },
  {
   "cell_type": "code",
   "execution_count": null,
   "source": [
    "height=np.random.normal(160,5,100)\r\n",
    "weight=np.random.normal(55,2,100)\r\n",
    "\r\n",
    "plt.scatter(weight,height)\r\n",
    "plt.xlabel(\"Weight\")\r\n",
    "plt.ylabel(\"Height\")\r\n",
    "plt.title(\"Height VS Weight\")\r\n",
    "plt.show()"
   ],
   "outputs": [],
   "metadata": {}
  },
  {
   "cell_type": "code",
   "execution_count": null,
   "source": [
    "df=pd.read_csv(\"D:\\\\Workshops\\\\Python for Data Science Comprehensive Workshop\\\\Part 03 - Data Visualization\\\\Datasets\\\\default.CSV\")\r\n",
    "df.head()"
   ],
   "outputs": [],
   "metadata": {}
  },
  {
   "cell_type": "code",
   "execution_count": null,
   "source": [
    "plt.scatter(df[\"Work.Exp\"],df[\"Credit.Score\"])\r\n",
    "plt.xlabel(\"Work Experience\")\r\n",
    "plt.ylabel(\"Credit Score\")\r\n",
    "plt.title(\"Work Experience VS Credit Score\")\r\n",
    "plt.show()"
   ],
   "outputs": [],
   "metadata": {}
  },
  {
   "cell_type": "markdown",
   "source": [
    "# Scatter plot with displaying the categories in another variable"
   ],
   "metadata": {}
  },
  {
   "cell_type": "code",
   "execution_count": null,
   "source": [
    "cls = np.random.choice(a=[\"a\", \"c\", \"b\"],size=100,p=[0.5, 0.3, 0.2])\r\n",
    "height=np.random.normal(160,5,100)\r\n",
    "weight=np.random.normal(55,2,100)\r\n",
    "col=[\"red\" if i==\"a\" else \"green\" if i==\"b\" else \"blue\" for i in cls]\r\n",
    "\r\n",
    "\r\n",
    "plt.scatter(weight,height,c=col)\r\n",
    "plt.xlabel(\"Weight\")\r\n",
    "plt.ylabel(\"Height\")\r\n",
    "plt.title(\"Height VS Weight\")\r\n",
    "plt.show()"
   ],
   "outputs": [],
   "metadata": {}
  },
  {
   "cell_type": "markdown",
   "source": [
    "# Numerical VS Categorical data"
   ],
   "metadata": {}
  },
  {
   "cell_type": "markdown",
   "source": [
    "# Side by side boxplots"
   ],
   "metadata": {}
  },
  {
   "cell_type": "code",
   "execution_count": null,
   "source": [
    "cls = np.random.choice(a=[\"a\", \"c\", \"b\"],size=100)\r\n",
    "height=np.random.normal(160,5,100)\r\n",
    "\r\n",
    "df=pd.DataFrame({\"Height\":height,\"Class\":cls})\r\n",
    "df.head()"
   ],
   "outputs": [],
   "metadata": {}
  },
  {
   "cell_type": "code",
   "execution_count": null,
   "source": [
    "L_new=[list(df[df[\"Class\"]==i][\"Height\"]) for i in [\"a\", \"c\", \"b\"]]"
   ],
   "outputs": [],
   "metadata": {}
  },
  {
   "cell_type": "code",
   "execution_count": null,
   "source": [
    "plt.boxplot(L_new,positions=[0,2,4])\r\n",
    "plt.xticks([0,2,4],[\"a\",\"b\",\"c\"])\r\n",
    "plt.show()"
   ],
   "outputs": [],
   "metadata": {}
  },
  {
   "cell_type": "markdown",
   "source": [
    "# Categorical VS Categorical data"
   ],
   "metadata": {}
  },
  {
   "cell_type": "markdown",
   "source": [
    "# Multiple bar graphs"
   ],
   "metadata": {}
  },
  {
   "cell_type": "markdown",
   "source": [
    "# Vertical"
   ],
   "metadata": {}
  },
  {
   "cell_type": "code",
   "execution_count": 2,
   "source": [
    "Gender=[\"Male\",\"Female\"]\r\n",
    "AVG_Maths=[90,85]\r\n",
    "AVG_English=[70,95]\r\n",
    "\r\n",
    "index=np.arange(2)\r\n",
    "width=0.4\r\n",
    "\r\n",
    "plt.figure(figsize=(10,10))\r\n",
    "plt.bar(index,AVG_Maths,width,color=\"green\",label=\"Maths\")\r\n",
    "plt.bar(index+width,AVG_English,width,color=\"red\",label=\"English\")\r\n",
    "\r\n",
    "plt.title(\"Marks for Mathematics & English with Gender\")\r\n",
    "plt.xlabel(\"Gender\")\r\n",
    "plt.ylabel(\"Marks\")\r\n",
    "plt.legend(loc=\"best\")\r\n",
    "plt.xticks(index+width/2,Gender)\r\n",
    "plt.show()"
   ],
   "outputs": [
    {
     "output_type": "display_data",
     "data": {
      "text/plain": [
       "<Figure size 720x720 with 1 Axes>"
      ],
      "image/png": "[encoded data removed]"
     },
     "metadata": {
      "needs_background": "light"
     }
    }
   ],
   "metadata": {}
  },
  {
   "cell_type": "code",
   "execution_count": null,
   "source": [
    "df=pd.read_csv(\"D:\\\\Workshops\\\\Python for Data Science Comprehensive Workshop\\\\Part 03 - Data Visualization\\\\Datasets\\\\default.CSV\")\r\n",
    "df.head()"
   ],
   "outputs": [],
   "metadata": {}
  },
  {
   "cell_type": "code",
   "execution_count": null,
   "source": [
    "g=df.groupby(\"Gender\")[[\"Work.Exp\",\"Credit.Score\"]].mean()\r\n",
    "df=pd.DataFrame(g)\r\n",
    "df.reset_index(inplace=True)\r\n",
    "df"
   ],
   "outputs": [],
   "metadata": {}
  },
  {
   "cell_type": "markdown",
   "source": [
    "Now the same approach can be followed"
   ],
   "metadata": {}
  },
  {
   "cell_type": "markdown",
   "source": [
    "# Horizontal"
   ],
   "metadata": {}
  },
  {
   "cell_type": "code",
   "execution_count": 3,
   "source": [
    "Gender=[\"Male\",\"Female\"]\r\n",
    "AVG_Maths=[90,85]\r\n",
    "AVG_English=[70,95]\r\n",
    "\r\n",
    "index=np.arange(2)\r\n",
    "width=0.4\r\n",
    "\r\n",
    "plt.figure(figsize=(10,10))\r\n",
    "plt.barh(index,AVG_Maths,width,color=\"green\",label=\"Maths\")\r\n",
    "plt.barh(index+width,AVG_English,width,color=\"red\",label=\"English\")\r\n",
    "\r\n",
    "plt.title(\"Marks for Mathematics & English with Gender\")\r\n",
    "plt.ylabel(\"Gender\")\r\n",
    "plt.xlabel(\"Marks\")\r\n",
    "plt.legend(loc=\"best\")\r\n",
    "plt.yticks(index+width/2,Gender)\r\n",
    "plt.show()"
   ],
   "outputs": [
    {
     "output_type": "display_data",
     "data": {
      "text/plain": [
       "<Figure size 720x720 with 1 Axes>"
      ],
      "image/png": "[encoded data removed]"
     },
     "metadata": {
      "needs_background": "light"
     }
    }
   ],
   "metadata": {}
  },
  {
   "cell_type": "markdown",
   "source": [
    "# Stacked bar graphs"
   ],
   "metadata": {}
  },
  {
   "cell_type": "markdown",
   "source": [
    "# Vertical"
   ],
   "metadata": {}
  },
  {
   "cell_type": "code",
   "execution_count": null,
   "source": [
    "Gender=[\"Male\",\"Female\"]\r\n",
    "AVG_Maths=[90,85]\r\n",
    "AVG_English=[70,95]\r\n",
    "\r\n",
    "index=np.arange(2)\r\n",
    "width=0.4\r\n",
    "\r\n",
    "plt.figure(figsize=(10,10))\r\n",
    "plt.bar(index,AVG_Maths,width,color=\"green\",label=\"Maths\")\r\n",
    "plt.bar(index,AVG_English,width,color=\"red\",label=\"English\",bottom=AVG_Maths)\r\n",
    "\r\n",
    "plt.title(\"Marks for Mathematics & English with Gender\")\r\n",
    "plt.xlabel(\"Gender\")\r\n",
    "plt.ylabel(\"Marks\")\r\n",
    "plt.legend(loc=\"best\")\r\n",
    "plt.xticks(index,Gender)\r\n",
    "plt.show()"
   ],
   "outputs": [],
   "metadata": {}
  },
  {
   "cell_type": "markdown",
   "source": [
    "# Horizontal"
   ],
   "metadata": {}
  },
  {
   "cell_type": "code",
   "execution_count": null,
   "source": [
    "Gender=[\"Male\",\"Female\"]\r\n",
    "AVG_Maths=[90,85]\r\n",
    "AVG_English=[70,95]\r\n",
    "\r\n",
    "index=np.arange(2)\r\n",
    "width=0.4\r\n",
    "\r\n",
    "plt.figure(figsize=(10,10))\r\n",
    "plt.barh(index,AVG_Maths,width,color=\"green\",label=\"Maths\")\r\n",
    "plt.barh(index,AVG_English,width,color=\"red\",label=\"English\",left=AVG_Maths)\r\n",
    "\r\n",
    "plt.title(\"Marks for Mathematics & English with Gender\")\r\n",
    "plt.ylabel(\"Gender\")\r\n",
    "plt.xlabel(\"Marks\")\r\n",
    "plt.legend(loc=\"best\")\r\n",
    "plt.yticks(index,Gender)\r\n",
    "plt.show()"
   ],
   "outputs": [],
   "metadata": {}
  },
  {
   "cell_type": "markdown",
   "source": [
    "# 100% stacked bar graphs"
   ],
   "metadata": {}
  },
  {
   "cell_type": "markdown",
   "source": [
    "# Vertical"
   ],
   "metadata": {}
  },
  {
   "cell_type": "code",
   "execution_count": null,
   "source": [
    "Gender=[\"Male\",\"Female\"]\r\n",
    "AVG_Maths=[90,85]\r\n",
    "AVG_English=[70,95]\r\n",
    "\r\n",
    "df=pd.DataFrame({\"Gender\":[\"Male\",\"Female\"],\"AVG_Maths\":[90,85],\"AVG_English\":[70,95]})\r\n",
    "df_perc=df[[\"AVG_Maths\",\"AVG_English\"]].div(df.sum(axis=1),axis=0)*100\r\n",
    "df_perc"
   ],
   "outputs": [],
   "metadata": {}
  },
  {
   "cell_type": "code",
   "execution_count": null,
   "source": [
    "AVG_Maths_Per=list(df_perc[\"AVG_Maths\"])\r\n",
    "AVG_English_Per=list(df_perc[\"AVG_English\"])"
   ],
   "outputs": [],
   "metadata": {}
  },
  {
   "cell_type": "code",
   "execution_count": null,
   "source": [
    "index=np.arange(2)\r\n",
    "width=0.4\r\n",
    "\r\n",
    "plt.figure(figsize=(10,10))\r\n",
    "plt.bar(index,AVG_Maths_Per,width,color=\"green\",label=\"Maths\")\r\n",
    "plt.bar(index,AVG_English_Per,width,color=\"red\",label=\"English\",bottom=AVG_Maths_Per)\r\n",
    "\r\n",
    "plt.title(\"Marks for Mathematics & English with Gender\")\r\n",
    "plt.xlabel(\"Gender\")\r\n",
    "plt.ylabel(\"Marks\")\r\n",
    "plt.legend(loc=\"best\")\r\n",
    "plt.xticks(index,Gender)\r\n",
    "plt.show()"
   ],
   "outputs": [],
   "metadata": {}
  },
  {
   "cell_type": "markdown",
   "source": [
    "# Horizontal"
   ],
   "metadata": {}
  },
  {
   "cell_type": "code",
   "execution_count": null,
   "source": [
    "index=np.arange(2)\r\n",
    "width=0.4\r\n",
    "\r\n",
    "plt.figure(figsize=(10,10))\r\n",
    "plt.barh(index,AVG_Maths_Per,width,color=\"green\",label=\"Maths\")\r\n",
    "plt.barh(index,AVG_English_Per,width,color=\"red\",label=\"English\",left=AVG_Maths_Per)\r\n",
    "\r\n",
    "plt.title(\"Marks for Mathematics & English with Gender\")\r\n",
    "plt.ylabel(\"Gender\")\r\n",
    "plt.xlabel(\"Marks\")\r\n",
    "plt.legend(loc=\"best\")\r\n",
    "plt.yticks(index,Gender)\r\n",
    "plt.show()"
   ],
   "outputs": [],
   "metadata": {}
  },
  {
   "cell_type": "markdown",
   "source": [
    "# Comparing three numerical variables"
   ],
   "metadata": {}
  },
  {
   "cell_type": "markdown",
   "source": [
    "# 3D Scatter plot"
   ],
   "metadata": {}
  },
  {
   "cell_type": "code",
   "execution_count": null,
   "source": [
    "from mpl_toolkits import mplot3d"
   ],
   "outputs": [],
   "metadata": {}
  },
  {
   "cell_type": "code",
   "execution_count": null,
   "source": [
    "height=np.random.normal(160,5,100)\r\n",
    "weight=np.random.normal(55,2,100)\r\n",
    "age=np.random.randint(24,45,100)\r\n",
    "\r\n",
    "plt.figure(figsize=(10,10))\r\n",
    "ax=plt.axes(projection=\"3d\")\r\n",
    "ax.scatter3D(weight,height,age)\r\n",
    "\r\n",
    "ax.set_xlabel(\"Weight\")\r\n",
    "ax.set_ylabel(\"Height\")\r\n",
    "ax.set_zlabel(\"Age\")\r\n",
    "\r\n",
    "plt.title(\"Relationship among Weight, Height & Age\")\r\n",
    "plt.show()"
   ],
   "outputs": [],
   "metadata": {}
  },
  {
   "cell_type": "markdown",
   "source": [
    "# Bubble plot"
   ],
   "metadata": {}
  },
  {
   "cell_type": "code",
   "execution_count": null,
   "source": [
    "x=[167,174,157,179,153]\n",
    "y=[78,67,59,65,60]\n",
    "z=[50,100,250,670,1200]\n",
    "\n",
    "plt.figure(figsize=(5,5))\n",
    "plt.scatter(height,weight,s=age)\n",
    "plt.xlabel(\"X\")\n",
    "plt.ylabel(\"Y\")\n",
    "plt.title(\"Relationship among X, Y and Z\")\n",
    "plt.show()"
   ],
   "outputs": [],
   "metadata": {}
  },
  {
   "cell_type": "code",
   "execution_count": null,
   "source": [],
   "outputs": [],
   "metadata": {}
  }
 ],
 "metadata": {
  "kernelspec": {
   "name": "python3",
   "display_name": "Python 3.7.6 64-bit ('base': conda)"
  },
  "language_info": {
   "codemirror_mode": {
    "name": "ipython",
    "version": 3
   },
   "file_extension": ".py",
   "mimetype": "text/x-python",
   "name": "python",
   "nbconvert_exporter": "python",
   "pygments_lexer": "ipython3",
   "version": "3.7.6"
  },
  "interpreter": {
   "hash": "8867321196b4aed495a8cb57ae795b5cb9f69b50030feb2979c26ed6dde2da6a"
  }
 },
 "nbformat": 4,
 "nbformat_minor": 4
}